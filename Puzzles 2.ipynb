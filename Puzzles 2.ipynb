{
 "cells": [
  {
   "cell_type": "markdown",
   "metadata": {},
   "source": [
    "# Question 100: (Python)\n",
    "\n",
    "**Suppose you're given an array of integers. Write code to find the first repeating element in the array.**\n",
    "\n",
    "For example:\n",
    "\n",
    "**Input**: array = [10, 2, -2, -20, 10] ;\n",
    "**Output**: 10\n",
    "\n",
    "**Input**: array = [9, 4, 20, 20, 10, 5] ;\n",
    "**Output**: 20\n",
    "\n",
    "**If there are no duplicates, you can return -1.**"
   ]
  },
  {
   "cell_type": "markdown",
   "metadata": {},
   "source": [
    "# Question 101: (Statistics)\n",
    "\n",
    "**Explain what Mean Squared Error (MSE) and Root Mean Squared Error (RMSE) are.**\n",
    "\n",
    "**What are the similarities between the two? What are the differences? When might you want to use one over the other?**"
   ]
  },
  {
   "cell_type": "markdown",
   "metadata": {},
   "source": [
    "# Question 102: (Python)\n",
    "\n",
    "**Given the following text, can you find the most frequent part of speech (POS) used in the text below?**\n",
    "\n",
    "**To solve this question, we recommend you start with [Natural Language Toolkit (NLTK)](http://www.nltk.org/?source=post_page-----2d30f70af13b----------------------). Within NLTK you will want to look into the pos_tag() function.**\n",
    "\n",
    "**NLTK is a great tool that allows us to easily analyze text. There are a lot of interesting applications for NLTK, including sentiment analysis (can be applied to social media feeds / classifying reviews for a product) and spam filters (identifying text as spam or !spam).**"
   ]
  },
  {
   "cell_type": "code",
   "execution_count": 1,
   "metadata": {},
   "outputs": [],
   "source": [
    "#text from Harper Lee, To Kill a Mockingbird\n",
    "texts ='''Atticus said to Jem one day, “I’d rather you shot at tin cans in the backyard, but I know you’ll go after birds. \n",
    "Shoot all the blue jays you want, if you can hit ‘em, but remember it’s a sin to kill a mockingbird.” \n",
    "That was the only time I ever heard Atticus say it was a sin to do something, and I asked Miss Maudie about it. \n",
    "“Your father’s right,” she said. \n",
    "“Mockingbirds don’t do one thing except make music for us to enjoy. \n",
    "They don’t eat up people’s gardens, don’t nest in corn cribs, they don’t do one thing but sing their hearts out for us. \n",
    "That’s why it’s a sin to kill a mockingbird.'''"
   ]
  },
  {
   "cell_type": "markdown",
   "metadata": {},
   "source": [
    "# Question 103: (SQL)\n",
    "\n",
    "**Suppose you work for a retail company that has a database containing two tables, one called 'orders', and one called 'revenue', as shown below:**\n",
    "\n",
    "Orders:\n",
    "\n",
    "' '\t|order_id\t|channel\t|date\t|month\n",
    "---|---|---|---|---\n",
    "0|\t1|\tOnline|\t2018-09-01|\tSeptember\n",
    "1|\t2|\tOnline|\t2018-09-03|\tSeptember\n",
    "2|\t3|\tIn_store|\t2018-10-11|\tOctober\n",
    "3|\t4|\tIn_store|\t2018-08-21|\tAugust\n",
    "4|\t5|\tOnline|\t2018-08-13|\tAugust\n",
    "5|\t6|\tOnline|\t2018-10-29|\tOctober\n",
    "\n",
    "Revenue:\n",
    "\n",
    "\n",
    "' '|order_id|\trevenue\n",
    "---|---|---\n",
    "0|\t1|\t100\n",
    "1|\t2|\t125\n",
    "2|\t3|\t200\n",
    "3|\t4|\t80\n",
    "4|\t5|\t200\n",
    "5|\t6|\t100\n",
    "\n",
    "**Using SQL, write a query to show the total revenue by channel for the months of September and October. Additionally, try to think of the most efficient way to run this query.**"
   ]
  },
  {
   "cell_type": "markdown",
   "metadata": {},
   "source": [
    "# Question 104: (Python)\n",
    "\n",
    "**Given an array of integers, print the array in alternating min/max order. The first element should be the first maximum, second element should be the first minimum, third element should be second maximum, etc.**\n",
    "\n",
    "**For Example:**\n",
    "\n",
    "**Given the following array:**\n",
    "\n",
    "arr[] = [10, 2, 11, 3, 7, 4, 1]\n",
    "\n",
    "**Your function should return:**\n",
    "\n",
    "11, 1, 10, 2, 7, 3, 4"
   ]
  },
  {
   "cell_type": "markdown",
   "metadata": {},
   "source": [
    "# Question 105: (Statistics)\n",
    "\n",
    "**Suppose Candy Company XYZ produces lollipops. The company claims that 30% of the lollipops are cherry, 60% are grape, and 10% are lime.**\n",
    "\n",
    "**Given a random sampling of 100 lollipops with 50 cherry, 45 grape, and 5 lime, determine whether or not this is consistent with the company's claim. Use a 0.05 level of significance.**"
   ]
  },
  {
   "cell_type": "markdown",
   "metadata": {},
   "source": [
    "# Question 106: (Python)\n",
    "\n",
    "**Suppose you are given the following dataframe containing food, weight, and calories. You'll notice the foods have varying weights associated with them:**\n",
    "\n",
    "l |food|\tgrams|calories\n",
    "---|---|---|---\n",
    "0|\tbacon|50|271\n",
    "1|\tstrawberries|200|64\n",
    "2|\tbanana|\t100|89\n",
    "3|\tspinach|200|46\n",
    "4|\tchicken breast|\t50|\t80\n",
    "5|\tpeanuts|100\t|567\n",
    "\n",
    "**Using Python (Pandas), can you sort the dataframe in descending order with the most calorically dense food (normalized for weight) at the top?**"
   ]
  },
  {
   "cell_type": "markdown",
   "metadata": {},
   "source": [
    "# Question 107: (SQL)\n",
    "\n",
    "**Suppose you're working with a large conglomerate and are trying to aggregate revenue across all divisions to highlight the overall trend. The table you're querying off of is called allRevenue, sample schema is shown below.**\n",
    "\n",
    "Table: allRevenue\n",
    "\n",
    "date|\trevenue|\tdivision\n",
    "---|---|---\n",
    "2018-01-20|\t15000000|\tchemicals\n",
    "2019-02-21|\t120000|\tagriculture\n",
    "2019-04-09|\t390900|\tpharma\n",
    "\n",
    "**Given the above, can you write a SQL query that calculates 4-quarter rolling average revenue, cut by each quarter? The output query should only have 2 columns: 'quarter' and 'revenue' (where revenue is the trailing 4-quarter average). You can assume you have access to a function similar to [this](https://www.w3schools.com/sql/func_mysql_quarter.asp).**"
   ]
  },
  {
   "cell_type": "markdown",
   "metadata": {},
   "source": [
    "# Question 108: (Python)\n",
    "\n",
    "**Given an array of integers, can you write a function that returns \"True\" if there is a triplet (a, b, c) within the array that satisfies a^2 + b^2 = c^2?**\n",
    "\n",
    "**For example:**"
   ]
  },
  {
   "cell_type": "code",
   "execution_count": null,
   "metadata": {},
   "outputs": [],
   "source": [
    "Input: arr[] = [3, 1, 4, 6, 5]\n",
    "Output: True\n",
    "#There is a Pythagorean triplet (3, 4, 5) that exists in the input array.\n",
    "\n",
    "Input: arr[] = {10, 4, 6, 12, 5}\n",
    "Output: False\n",
    "#There is no Pythagorean triplet that exists in the input array."
   ]
  },
  {
   "cell_type": "markdown",
   "metadata": {},
   "source": [
    "# Question 109: (Statistics)\n",
    "\n",
    "**Suppose you have a standard 52-card deck of cards. In the standard deck, there are exactly 4 Ace cards. Given this information, what's the probability you'll draw two Aces in a row assuming the Ace is put back into the deck after each draw? What's the probability of drawing two Aces in a row if each Ace is removed from the deck after drawing?**\n",
    "\n",
    "**Note: This is an example of a quick question you might see in a range of interviews, primarily to test your ability to reason through conditional probability on the fly.**\n",
    "\n",
    "**It would not be uncommon for the assumption around replacement to be withheld, just to see if you ask to clarify that assumption, as it significantly changes the outcome.**"
   ]
  },
  {
   "cell_type": "markdown",
   "metadata": {},
   "source": [
    "# Question 110: (Python)\n",
    "\n",
    "**Suppose you're analyzing the utilization of a small parking lot you invested in. Customers enter the automated lot, receive a ticket, and select one of 20 spots at random (e.g. they are not assigned). Upon leaving, customers pay in relation to their time in the lot.**\n",
    "\n",
    "**You have collected the following [dataset](https://www.google.com/url?q=https://u4221007.ct.sendgrid.net/ls/click?upn%3DqwT-2Bl0U064-2B7oRNpPgUya51JFUDgj241ZqJOHGqS8eD4tjNEUUiE84jSUq3UK-2FXXaPoxCDr5OoIvbE3fNSQEEoHnT-2FkP-2FFMMgePNNM5lx6KCtW6-2BrzWHUxUOJLfuIjDKuMbs_dcIrmF3bfjIC4XJv6wnG8M1SQHV0diX96UqSessIR1VKP1e5z-2BWABKEbouF4Gawn-2FsHsIFHa40SfbJt8e7Q0Gg4mna442IHcKQTsqtWuuruh0Se1RhnbO3AFuhw1vknIxRcbI2PgL0WwSTb479OWBoiqavLE-2Bo4JvCiJZP2FLrUpx0EtjhmsTu94c6-2BOqwbmMFs8Dyz-2BHL7ZtMPge4xYC0H3tTlOaS-2BuhJYLSYwxTV8-3D&source=gmail&ust=1597680068845000&usg=AFQjCNHVr2WuUgX4ZeYaemYK6m0TXIMeuw), which shows spot utilization for a month. Each # in the dataset corresponds to a spot # (1-20) and the # of times it appears in a row corresponds to the frequency of how many customers parked in that spot.**\n",
    "\n",
    "**Using all of this information, write code to visualize the [Probability Mass Function (PMF)](https://en.wikipedia.org/wiki/Probability_mass_function) of your customers' spot selections. Your resultant chart should show each spot # (1-20) along with the probability of that spot being chosen based on your dataset. You can ignore seasonality and assume this month represents a standard month of parking at your lot.**\n"
   ]
  },
  {
   "cell_type": "markdown",
   "metadata": {},
   "source": [
    "# Question 111: (SQL)\n",
    "\n",
    "**Suppose you have a table called 'vendor_spend' containing vendor spend data, as shown below:**\n",
    "\n",
    "vendor_spend:\n",
    "\n",
    "\n",
    "I|vendor_id|\tname|\tcontract_sign_date|\ttotal_spend\n",
    "---|---|---|---|---\n",
    "0|\t1|\tvendor_schmendor|\t2018-09-01\t|34324\n",
    "1|\t2|\tparts_r_us\t|2018-09-03\t|23455\n",
    "2|\t3|\tvendor_king\t|2018-10-11\t|77654\n",
    "3|\t4|\tvendor_diagram|\t2018-08-21|\t23334\n",
    "4|\t5|\tvenny\t|2018-08-13\t|94843\n",
    "5|\t6|\tvendtriloquist|\t2018-10-29|\t23444\n",
    "\n",
    "**Using SQL, write a query to show the top 50% of vendors as denoted by total spend. You should return both the name and spend for this group.**"
   ]
  },
  {
   "cell_type": "markdown",
   "metadata": {},
   "source": [
    "# Question 112: (Python)\n",
    "\n",
    "**Given an array of n distinct elements, can you find all the triplet combinations that sum to zero?**\n",
    "\n",
    "**For example:**\n",
    "\n"
   ]
  },
  {
   "cell_type": "code",
   "execution_count": null,
   "metadata": {},
   "outputs": [],
   "source": [
    "Input: [0, -1, 2, -3, 1]\n",
    "Output: \n",
    "0 -1 1\n",
    "2 -3 1\n",
    "\n",
    "Input: [1, -2, 1, 0, 5]\n",
    "Output: 1 -2  1"
   ]
  },
  {
   "cell_type": "markdown",
   "metadata": {},
   "source": [
    "# Question 113: (Statistics)\n",
    "\n",
    "Suppose you're working for a social media company that has a feature similar to Facebook's newsfeed. The company has two options for serving ads within their newsfeed:\n",
    "\n",
    "1. Out of every 25 stories, one will be an ad\n",
    "2. Every story has a 4% chance of being an ad\n",
    "\n",
    "For each option, what is the expected number of ads shown in 100 news stories? If we go with the second option, what is the chance a user will be shown only a single ad in 100 stories? What about no ads at all?"
   ]
  },
  {
   "cell_type": "markdown",
   "metadata": {},
   "source": [
    "# Question 114: (Python)\n",
    "\n",
    "**Using Monte Carlo methods, simulate future stock price outcomes for Apple (AAPL) using Python. You can read more about Monte Carlo simulation (in a finance context) [here](https://www.investopedia.com/terms/m/montecarlosimulation.asp).**\n",
    "\n",
    "**Below is code using Python to grab the initial stock price data for Apple, to help get you started:**"
   ]
  },
  {
   "cell_type": "code",
   "execution_count": 1,
   "metadata": {},
   "outputs": [
    {
     "data": {
      "text/html": [
       "<div>\n",
       "<style scoped>\n",
       "    .dataframe tbody tr th:only-of-type {\n",
       "        vertical-align: middle;\n",
       "    }\n",
       "\n",
       "    .dataframe tbody tr th {\n",
       "        vertical-align: top;\n",
       "    }\n",
       "\n",
       "    .dataframe thead th {\n",
       "        text-align: right;\n",
       "    }\n",
       "</style>\n",
       "<table border=\"1\" class=\"dataframe\">\n",
       "  <thead>\n",
       "    <tr style=\"text-align: right;\">\n",
       "      <th></th>\n",
       "      <th>High</th>\n",
       "      <th>Low</th>\n",
       "      <th>Open</th>\n",
       "      <th>Close</th>\n",
       "      <th>Volume</th>\n",
       "      <th>Adj Close</th>\n",
       "    </tr>\n",
       "    <tr>\n",
       "      <th>Date</th>\n",
       "      <th></th>\n",
       "      <th></th>\n",
       "      <th></th>\n",
       "      <th></th>\n",
       "      <th></th>\n",
       "      <th></th>\n",
       "    </tr>\n",
       "  </thead>\n",
       "  <tbody>\n",
       "    <tr>\n",
       "      <th>2009-01-02</th>\n",
       "      <td>13.005714</td>\n",
       "      <td>12.165714</td>\n",
       "      <td>12.268572</td>\n",
       "      <td>12.964286</td>\n",
       "      <td>186503800.0</td>\n",
       "      <td>11.202949</td>\n",
       "    </tr>\n",
       "    <tr>\n",
       "      <th>2009-01-05</th>\n",
       "      <td>13.740000</td>\n",
       "      <td>13.244286</td>\n",
       "      <td>13.310000</td>\n",
       "      <td>13.511429</td>\n",
       "      <td>295402100.0</td>\n",
       "      <td>11.675756</td>\n",
       "    </tr>\n",
       "    <tr>\n",
       "      <th>2009-01-06</th>\n",
       "      <td>13.881429</td>\n",
       "      <td>13.198571</td>\n",
       "      <td>13.707143</td>\n",
       "      <td>13.288571</td>\n",
       "      <td>322327600.0</td>\n",
       "      <td>11.483178</td>\n",
       "    </tr>\n",
       "    <tr>\n",
       "      <th>2009-01-07</th>\n",
       "      <td>13.214286</td>\n",
       "      <td>12.894286</td>\n",
       "      <td>13.115714</td>\n",
       "      <td>13.001429</td>\n",
       "      <td>188262200.0</td>\n",
       "      <td>11.235046</td>\n",
       "    </tr>\n",
       "    <tr>\n",
       "      <th>2009-01-08</th>\n",
       "      <td>13.307143</td>\n",
       "      <td>12.862857</td>\n",
       "      <td>12.918571</td>\n",
       "      <td>13.242857</td>\n",
       "      <td>168375200.0</td>\n",
       "      <td>11.443671</td>\n",
       "    </tr>\n",
       "  </tbody>\n",
       "</table>\n",
       "</div>"
      ],
      "text/plain": [
       "                 High        Low       Open      Close       Volume  Adj Close\n",
       "Date                                                                          \n",
       "2009-01-02  13.005714  12.165714  12.268572  12.964286  186503800.0  11.202949\n",
       "2009-01-05  13.740000  13.244286  13.310000  13.511429  295402100.0  11.675756\n",
       "2009-01-06  13.881429  13.198571  13.707143  13.288571  322327600.0  11.483178\n",
       "2009-01-07  13.214286  12.894286  13.115714  13.001429  188262200.0  11.235046\n",
       "2009-01-08  13.307143  12.862857  12.918571  13.242857  168375200.0  11.443671"
      ]
     },
     "execution_count": 1,
     "metadata": {},
     "output_type": "execute_result"
    }
   ],
   "source": [
    "# Import required libraries\n",
    "import math\n",
    "import matplotlib.pyplot as plt\n",
    "import numpy as np\n",
    "from pandas_datareader import data\n",
    "apple = data.DataReader('AAPL', 'yahoo',start='1/1/2009')\n",
    "apple.head()"
   ]
  },
  {
   "cell_type": "markdown",
   "metadata": {},
   "source": [
    "# Question 115: (SQL)\n",
    "\n",
    "**Suppose that each day widgets are produced on 3 assembly lines (A, B, and C) and eventually end up on one line where they are prepared for shipping. Suppose there's a data table called 'prod' that has widget origin (column name: 'origin') (either assembly line A, B, or C) as well as a numeric serial number (column name: serial number) which increases for each widget produced. You can assume this table is wiped clean on a daily basis.**\n",
    "\n",
    "**Given the above, can you write a SQL query to pull the first 3 widgets produced on each line?**\n",
    "\n",
    "*Note that here we are only given the schema of the table, but should still be able to construct a complete query.*"
   ]
  },
  {
   "cell_type": "markdown",
   "metadata": {},
   "source": [
    "# Question 116: (Python)\n",
    "\n",
    "**Suppose you're given an unsorted array, a. The array is intended to have all integer elements between its minimum and maximum, but could be missing some elements. Write a python function to find the n-th missing element in the array.**\n",
    "\n",
    "**Consider the array in sorted order, then find the n-th missing number. If the n-th missing number does not exist, you can output 'Does not exist'.**\n",
    "\n",
    "Examples:"
   ]
  },
  {
   "cell_type": "code",
   "execution_count": null,
   "metadata": {},
   "outputs": [],
   "source": [
    "Input: a = [2, 3, 11, 9], n = 3\n",
    "Output: 6\n",
    "    \n",
    "## Missing elements in array: [4, 5, 6, 7, 8, 10]. So, the 3rd missing element is 6.\n",
    "\n",
    "Input: a = [2, 3, 5], n = 5\n",
    "Output: 'Does not exist'\n",
    "    \n",
    "## Since there is no 5th missing element in the array, we output 'Does not exist' (the only missing element here is 4)."
   ]
  },
  {
   "attachments": {
    "image.png": {
     "image/png": "[encoded data removed]"
    }
   },
   "cell_type": "markdown",
   "metadata": {},
   "source": [
    "# Question 117: (Statistics)\n",
    "\n",
    "**Can you explain what a confusion matrix is and what we can derive from a confusion matrix? Can you calculate the main confusion matrix metrics using the chart below?**\n",
    "\n",
    "![image.png](attachment:image.png)"
   ]
  },
  {
   "cell_type": "markdown",
   "metadata": {},
   "source": [
    "# Question 118: (Python)\n",
    "\n",
    "**Given the following [data set](https://docs.google.com/spreadsheets/d/1Ld0fEYDRul8BXmKfFbNcsJqsYK94pv6aSl9LCFRK8SQ/edit#gid=481772872), can you plot a chart that shows the percent of revenue by marketing source?**\n",
    "\n",
    "**You can assume that <span style=\"color:red\">purchase_value</span> is revenue in this case, and you'll have to calculate the percent of revenue by source prior to plotting.**"
   ]
  },
  {
   "cell_type": "code",
   "execution_count": null,
   "metadata": {},
   "outputs": [],
   "source": []
  },
  {
   "cell_type": "code",
   "execution_count": null,
   "metadata": {},
   "outputs": [],
   "source": []
  }
 ],
 "metadata": {
  "kernelspec": {
   "display_name": "Python 3",
   "language": "python",
   "name": "python3"
  },
  "language_info": {
   "codemirror_mode": {
    "name": "ipython",
    "version": 3
   },
   "file_extension": ".py",
   "mimetype": "text/x-python",
   "name": "python",
   "nbconvert_exporter": "python",
   "pygments_lexer": "ipython3",
   "version": "3.7.6"
  }
 },
 "nbformat": 4,
 "nbformat_minor": 2
}
