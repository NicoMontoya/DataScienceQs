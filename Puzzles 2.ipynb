{
 "cells": [
  {
   "cell_type": "markdown",
   "metadata": {},
   "source": [
    "# Question 100: (Python)\n",
    "\n",
    "**Suppose you're given an array of integers. Write code to find the first repeating element in the array.**\n",
    "\n",
    "For example:\n",
    "\n",
    "**Input**: array = [10, 2, -2, -20, 10] ;\n",
    "**Output**: 10\n",
    "\n",
    "**Input**: array = [9, 4, 20, 20, 10, 5] ;\n",
    "**Output**: 20\n",
    "\n",
    "**If there are no duplicates, you can return -1.**"
   ]
  },
  {
   "cell_type": "code",
   "execution_count": null,
   "metadata": {},
   "outputs": [],
   "source": []
  }
 ],
 "metadata": {
  "kernelspec": {
   "display_name": "Python 3",
   "language": "python",
   "name": "python3"
  },
  "language_info": {
   "codemirror_mode": {
    "name": "ipython",
    "version": 3
   },
   "file_extension": ".py",
   "mimetype": "text/x-python",
   "name": "python",
   "nbconvert_exporter": "python",
   "pygments_lexer": "ipython3",
   "version": "3.7.3"
  }
 },
 "nbformat": 4,
 "nbformat_minor": 2
}
