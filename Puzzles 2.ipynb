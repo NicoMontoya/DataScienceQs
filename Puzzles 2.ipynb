{
 "cells": [
  {
   "cell_type": "markdown",
   "metadata": {},
   "source": [
    "# Question 100: (Python)\n",
    "\n",
    "**Suppose you're given an array of integers. Write code to find the first repeating element in the array.**\n",
    "\n",
    "For example:\n",
    "\n",
    "**Input**: array = [10, 2, -2, -20, 10] ;\n",
    "**Output**: 10\n",
    "\n",
    "**Input**: array = [9, 4, 20, 20, 10, 5] ;\n",
    "**Output**: 20\n",
    "\n",
    "**If there are no duplicates, you can return -1.**"
   ]
  },
  {
   "cell_type": "markdown",
   "metadata": {},
   "source": [
    "# Question 101: (Statistics)\n",
    "\n",
    "**Explain what Mean Squared Error (MSE) and Root Mean Squared Error (RMSE) are.**\n",
    "\n",
    "**What are the similarities between the two? What are the differences? When might you want to use one over the other?**"
   ]
  },
  {
   "cell_type": "markdown",
   "metadata": {},
   "source": [
    "# Question 102: (Python)\n",
    "\n",
    "**Given the following text, can you find the most frequent part of speech (POS) used in the text below?**\n",
    "\n",
    "**To solve this question, we recommend you start with [Natural Language Toolkit (NLTK)](http://www.nltk.org/?source=post_page-----2d30f70af13b----------------------). Within NLTK you will want to look into the pos_tag() function.**\n",
    "\n",
    "**NLTK is a great tool that allows us to easily analyze text. There are a lot of interesting applications for NLTK, including sentiment analysis (can be applied to social media feeds / classifying reviews for a product) and spam filters (identifying text as spam or !spam).**"
   ]
  },
  {
   "cell_type": "code",
   "execution_count": 1,
   "metadata": {},
   "outputs": [],
   "source": [
    "#text from Harper Lee, To Kill a Mockingbird\n",
    "texts ='''Atticus said to Jem one day, “I’d rather you shot at tin cans in the backyard, but I know you’ll go after birds. \n",
    "Shoot all the blue jays you want, if you can hit ‘em, but remember it’s a sin to kill a mockingbird.” \n",
    "That was the only time I ever heard Atticus say it was a sin to do something, and I asked Miss Maudie about it. \n",
    "“Your father’s right,” she said. \n",
    "“Mockingbirds don’t do one thing except make music for us to enjoy. \n",
    "They don’t eat up people’s gardens, don’t nest in corn cribs, they don’t do one thing but sing their hearts out for us. \n",
    "That’s why it’s a sin to kill a mockingbird.'''"
   ]
  },
  {
   "cell_type": "markdown",
   "metadata": {},
   "source": [
    "# Question 103: (SQL)\n",
    "\n",
    "**Suppose you work for a retail company that has a database containing two tables, one called 'orders', and one called 'revenue', as shown below:**\n",
    "\n",
    "Orders:\n",
    "\n",
    "' '\t|order_id\t|channel\t|date\t|month\n",
    "---|---|---|---|---\n",
    "0|\t1|\tOnline|\t2018-09-01|\tSeptember\n",
    "1|\t2|\tOnline|\t2018-09-03|\tSeptember\n",
    "2|\t3|\tIn_store|\t2018-10-11|\tOctober\n",
    "3|\t4|\tIn_store|\t2018-08-21|\tAugust\n",
    "4|\t5|\tOnline|\t2018-08-13|\tAugust\n",
    "5|\t6|\tOnline|\t2018-10-29|\tOctober\n",
    "\n",
    "Revenue:\n",
    "\n",
    "\n",
    "' '|order_id|\trevenue\n",
    "---|---|---\n",
    "0|\t1|\t100\n",
    "1|\t2|\t125\n",
    "2|\t3|\t200\n",
    "3|\t4|\t80\n",
    "4|\t5|\t200\n",
    "5|\t6|\t100\n",
    "\n",
    "**Using SQL, write a query to show the total revenue by channel for the months of September and October. Additionally, try to think of the most efficient way to run this query.**"
   ]
  },
  {
   "cell_type": "code",
   "execution_count": null,
   "metadata": {},
   "outputs": [],
   "source": []
  }
 ],
 "metadata": {
  "kernelspec": {
   "display_name": "Python 3",
   "language": "python",
   "name": "python3"
  },
  "language_info": {
   "codemirror_mode": {
    "name": "ipython",
    "version": 3
   },
   "file_extension": ".py",
   "mimetype": "text/x-python",
   "name": "python",
   "nbconvert_exporter": "python",
   "pygments_lexer": "ipython3",
   "version": "3.7.6"
  }
 },
 "nbformat": 4,
 "nbformat_minor": 2
}
