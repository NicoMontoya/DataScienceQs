{
 "cells": [
  {
   "cell_type": "markdown",
   "metadata": {},
   "source": [
    "# Question 150: (Python)\n",
    "\n",
    "**You are given a dataframe containing student information, named df (shown below). Suppose you want to normalize each student's grade based on the group's median age**\n",
    "\n",
    "Age|Favorite Color|Grade|\tName\n",
    "---|---|---|---\n",
    "20|\tblue|\t88|\tWillard Morris\n",
    "19|\tblue|\t95|\tAl Jennings\n",
    "22|\tyellow|\t92|\tOmar Mullins\n",
    "21|\tgreen|\t70|Spencer McDaniel\n",
    "\n",
    "**Write a function using Python Pandas that will add a new column to your dataframe containing a new grade normalized against the median age of the students.**"
   ]
  },
  {
   "cell_type": "markdown",
   "metadata": {},
   "source": [
    "# Question 151: (SQL)\n",
    "\n",
    "**Given the following table schemas, pull a list of students with the most absences in descending order. You can filter out students who don't have any absences. Limit the date range to: 2019-01-01 -> 2019-06-30.**\n",
    "\n",
    "Table 1: student_attendance_log\n",
    "\n",
    "Column Name\t|Data Type\t|Description\n",
    "---|---|---\n",
    "date|\tstring|\tdate of log per student_id, format is 'yyyy-mm-dd'\n",
    "student_id|\tinteger|\tid of the student\n",
    "attendance_status|\tstring\t|Possible values are ['present', 'tardy', 'absent']\n",
    "\n",
    "Table 2: student_demographic\n",
    "\n",
    "Column Name|\tData Type|\tDescription\n",
    "---|---|---\n",
    "student_id\t|integer|\tid of the student\n",
    "grade_level\t|integer|\twill be a value between 0-12, which corresponds\n",
    "date_of_birth|\tstring\t|Student birth date, format is 'yyyy-mm-dd'\n"
   ]
  },
  {
   "attachments": {
    "image.png": {
     "image/png": "[encoded data removed]"
    }
   },
   "cell_type": "markdown",
   "metadata": {},
   "source": [
    "# Question 152: (Python)\n",
    "\n",
    "**Suppose you're given a portion of a phone number. Each digit corresponds to letters (as shown below). Using python, write code to return all possible combinations the given number could represent.**\n",
    "\n",
    "Telephone digits, for reference:\n",
    "\n",
    "![image.png](attachment:image.png)\n",
    "\n",
    "For example:\n",
    "\n",
    "Input: \"24\"\n",
    "\n",
    "Output: \n",
    "\n",
    "['a', 'g']\n",
    "\n",
    "['a', 'h']\n",
    "\n",
    "['a', 'i']\n",
    "\n",
    "['b', 'g']\n",
    "\n",
    "['b', 'h']\n",
    "\n",
    "['b', 'i']\n",
    "\n",
    "['c', 'g']\n",
    "\n",
    "['c', 'h']\n",
    "\n",
    "['c', 'i']"
   ]
  },
  {
   "cell_type": "markdown",
   "metadata": {},
   "source": [
    "# Question 153: (Statistics)\n",
    "\n",
    "**A given car has a number of miles it can run before its battery is depleted, where the number of miles are exponentially distributed with an average of 10,000 miles to depletion.**\n",
    "\n",
    "**If a given individual needs to make a trip that's 3,000 miles, what is the probability that she/he will be able to complete the trip without having to replace the battery? You can assume the car battery is new for this problem.**\n",
    "\n",
    "**For some reading material on exponential distributions, you can visit this [link](https://www.probabilitycourse.com/chapter4/4_2_2_exponential.php).**"
   ]
  },
  {
   "cell_type": "markdown",
   "metadata": {},
   "source": [
    "# Question 154: (Python)\n",
    "\n",
    "**Suppose you have the following [dataset](https://raw.githubusercontent.com/erood/interviewqs.com_code_snippets/master/Datasets/weather_2012.csv), which contains information about a year's worth of weather. Using Python (Pandas), create some quick plots to show the following:**\n",
    "\n",
    "- The median temperature by month\n",
    "- The median wind speed by month\n",
    "- The snowiest months (Hint: this one will require manipulating and classifying the existing data.)"
   ]
  },
  {
   "cell_type": "markdown",
   "metadata": {},
   "source": [
    "# Question 155: (SQL)\n",
    "\n",
    "**You are given a table of office sites owned by your company called office_locations, as well as a table with active headcount called company_headcount.**\n",
    "\n",
    " **office_locations**\n",
    "\n",
    " f| s\n",
    "---|---\n",
    "office_location|\tThe unique location code for the office, varchar\n",
    "headcount_capacity\t|The headcount capacity of the given location, int\n",
    "\n",
    "\n",
    "   **company_headcount**\n",
    "   \n",
    "f|s\n",
    "---|---\n",
    "office_location|\tThe unique location code for the office, varchar\n",
    "active_headcount|\tThe active headcount seated in the given location, int\n",
    "\n",
    "\n",
    "**Using these two tables, write a SQL query to highlight the utilization rate (active headcount / site capacity) for each office location owned by your company. You can assume each row represents a unique location in the two tables (e.g. a given location is not repeated multiple times).**"
   ]
  },
  {
   "cell_type": "markdown",
   "metadata": {},
   "source": [
    "# Question 156: (Python)\n",
    "\n",
    "**Can you check if a given array containing n integers is monotonic? Your function should return \"true\" if it is monotonic and \"false\" if it's not.**\n",
    "\n",
    "**An array is monotonic if it is either monotone increasing or monotone decreasing. An array A is monotone increasing if for all i <= j, A[i] <= A[j]. An array A is monotone decreasing if for all i <= j, A[i] >= A[j].**\n",
    "\n",
    "**For example:**"
   ]
  },
  {
   "cell_type": "code",
   "execution_count": null,
   "metadata": {},
   "outputs": [],
   "source": [
    "Input : [6, 5, 4, 4]\n",
    "Output : true\n",
    "\n",
    "Input : [5, 5, 5, 4]\n",
    "Output : true\n",
    "\n",
    "Input : [5, 15, 20, 10]\n",
    "Output : false"
   ]
  },
  {
   "cell_type": "markdown",
   "metadata": {},
   "source": [
    "# Question 157: (Statistics)\n",
    "\n",
    "**It's often hypothesized (and backed in some studies) that smiling can increase leniency, or reduce the effects of wrongdoing among other benefits.**\n",
    "\n",
    "**A 1995 study by Marianne LaFrance & Marvin Hecht produced a dataset containing 4 different types of smiles, as well as the judge's leniency against judging wrongdoing when seeing these smiles.**\n",
    "\n",
    "**The dataset can be interpreted as follows:**\n",
    "\n",
    "**Smile:**\n",
    "\n",
    "- 1 - false smile\n",
    "- 2 - is felt smile\n",
    "- 3 - is miserable smile\n",
    "- 4 - is neutral control\n",
    "\n",
    "**Leniency**: a measure of how lenient the judgments were, higher means the judges were more lenient\n",
    "\n",
    "**Given the above information:**\n",
    "\n",
    "- Plot the leniency by smile type in a parallel box plot\n",
    "- Based on the box plot above, which smile condition resulted in the highest leniency?\n",
    "- Is the median leniency for the false smile lower than the 75th percentile leniency score for the neutral expression?\n",
    "\n",
    "\n",
    "**Below is code to import the dataset into a Google Colab or Jupyter notebook to help get you started:**"
   ]
  },
  {
   "cell_type": "code",
   "execution_count": null,
   "metadata": {},
   "outputs": [],
   "source": [
    "# Here is code to pull the dataset and relevant libraries \n",
    "# into a Google Colab or Jupyter notebook to help get you started\n",
    "import matplotlib.pyplot as plt\n",
    "import numpy as np\n",
    "import pandas as pd\n",
    "import seaborn as sns\n",
    "\n",
    "df = pd.read_csv('https://raw.githubusercontent.com/erood/interviewqs.com_code_snippets/master/Datasets/smile_leniency.csv')\n",
    "df.head()"
   ]
  },
  {
   "cell_type": "markdown",
   "metadata": {},
   "source": [
    "# Question 158: (Python)\n",
    "\n",
    "**Below is a snippet from a table that contains information about employees that work at Company XYZ:**\n",
    "\n",
    "employee_name|\temployee_id|date_joined|age|yrs_of_experience\n",
    "---|---|---|---|---\n",
    "Andy|\t123456|\t2015-02-15|\t45\t|24\n",
    "Beth|\t789456\t|2014-02-15|\t36|\t15\n",
    "Cindy|\t654123\t|2017-05-16\t|34\t|14\n",
    "Dale\t|963852\t|2018-01-15\t|25\t|4\n",
    "\n",
    "**Company XYZ is looking to create a report that groups the years of experience of its employees into 3 simple categories, with the following bins (inclusive):**\n",
    "\n",
    "- 0-5 Low\n",
    "- 6-15 Medium\n",
    "- 16+ High\n",
    "\n",
    "**Additionally, you can assume the data is clean and there are no employees with negative or non-numerical years of experience.**\n",
    "\n",
    "**Write code in Python (using Pandas) to create a new column in the dataframe, called 'experience_binned', that groups employees as requested above.**"
   ]
  },
  {
   "cell_type": "code",
   "execution_count": null,
   "metadata": {},
   "outputs": [],
   "source": [
    "import pandas as pd\n",
    "\n",
    "raw_data = {'employee_name': ['Andy', 'Beth', 'Cindy', 'Dale'], \n",
    "        'employee_id': [123456, 789456, 654123, 963852], \n",
    "        'date_joined': ['2015-02-15', '2014-02-15', '2017-05-16', '2018-01-15'], \n",
    "        'age': [45, 36, 34, 25],\n",
    "        'yrs_of_experience' :  [24, 15, 14, 4]}\n",
    "df = pd.DataFrame(raw_data, columns = ['employee_name', 'employee_id', 'date_joined', 'age', 'yrs_of_experience'])\n",
    "df"
   ]
  },
  {
   "cell_type": "markdown",
   "metadata": {},
   "source": [
    "# Question 159: (SQL)\n",
    "\n",
    "**You are given the following [dataset](https://docs.google.com/spreadsheets/d/1xOkcLeruXcWV9GegaVS70s-9YCghjUQ7KpUX2w4tvSA/edit#gid=0) of daily sales from a company's sales team. You can assume the table is called DailySales. Given this, write a SQL query to return the top sales person on each given day.**\n",
    "\n",
    "\n",
    "Column Name|\tColumn Type|\tShort description\n",
    "---|---|---\n",
    "Date|\tstring|\tDate of sales summary\n",
    "Name|\tstring|\tName of sales person.\n",
    "Num_Sales|\tint|\tTotal number of sales"
   ]
  },
  {
   "cell_type": "markdown",
   "metadata": {},
   "source": [
    "# Question 160: (Python)\n",
    "\n",
    "**Suppose you're given an array of varying length containing multiple #s, and a number x. Using these inputs, write a short program in Python find the remainder of the array multiplication divided by x.**\n",
    "\n",
    "**For example:**"
   ]
  },
  {
   "cell_type": "code",
   "execution_count": null,
   "metadata": {},
   "outputs": [],
   "source": [
    "#Given the following\n",
    "array = [5,2,4,1,5]\n",
    "x = 6\n",
    "\n",
    "#We would calculate output as such:\n",
    "#5*2*4*1*5 = 200 % 6 = 2"
   ]
  }
 ],
 "metadata": {
  "kernelspec": {
   "display_name": "Python 3",
   "language": "python",
   "name": "python3"
  },
  "language_info": {
   "codemirror_mode": {
    "name": "ipython",
    "version": 3
   },
   "file_extension": ".py",
   "mimetype": "text/x-python",
   "name": "python",
   "nbconvert_exporter": "python",
   "pygments_lexer": "ipython3",
   "version": "3.7.6"
  }
 },
 "nbformat": 4,
 "nbformat_minor": 4
}
