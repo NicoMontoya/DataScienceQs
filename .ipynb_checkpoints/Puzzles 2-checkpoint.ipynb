{
 "cells": [
  {
   "cell_type": "markdown",
   "metadata": {},
   "source": [
    "# Question 100: (Python)\n",
    "\n",
    "**Suppose you're given an array of integers. Write code to find the first repeating element in the array.**\n",
    "\n",
    "For example:\n",
    "\n",
    "**Input**: array = [10, 2, -2, -20, 10] ;\n",
    "**Output**: 10\n",
    "\n",
    "**Input**: array = [9, 4, 20, 20, 10, 5] ;\n",
    "**Output**: 20\n",
    "\n",
    "**If there are no duplicates, you can return -1.**"
   ]
  },
  {
   "cell_type": "markdown",
   "metadata": {},
   "source": [
    "# Question 101: (Statistics)\n",
    "\n",
    "**Explain what Mean Squared Error (MSE) and Root Mean Squared Error (RMSE) are.**\n",
    "\n",
    "**What are the similarities between the two? What are the differences? When might you want to use one over the other?**"
   ]
  },
  {
   "cell_type": "markdown",
   "metadata": {},
   "source": [
    "# Question 102: (Python)\n",
    "\n",
    "**Given the following text, can you find the most frequent part of speech (POS) used in the text below?**\n",
    "\n",
    "**To solve this question, we recommend you start with [Natural Language Toolkit (NLTK)](http://www.nltk.org/?source=post_page-----2d30f70af13b----------------------). Within NLTK you will want to look into the pos_tag() function.**\n",
    "\n",
    "**NLTK is a great tool that allows us to easily analyze text. There are a lot of interesting applications for NLTK, including sentiment analysis (can be applied to social media feeds / classifying reviews for a product) and spam filters (identifying text as spam or !spam).**"
   ]
  },
  {
   "cell_type": "code",
   "execution_count": 1,
   "metadata": {},
   "outputs": [],
   "source": [
    "#text from Harper Lee, To Kill a Mockingbird\n",
    "texts ='''Atticus said to Jem one day, “I’d rather you shot at tin cans in the backyard, but I know you’ll go after birds. \n",
    "Shoot all the blue jays you want, if you can hit ‘em, but remember it’s a sin to kill a mockingbird.” \n",
    "That was the only time I ever heard Atticus say it was a sin to do something, and I asked Miss Maudie about it. \n",
    "“Your father’s right,” she said. \n",
    "“Mockingbirds don’t do one thing except make music for us to enjoy. \n",
    "They don’t eat up people’s gardens, don’t nest in corn cribs, they don’t do one thing but sing their hearts out for us. \n",
    "That’s why it’s a sin to kill a mockingbird.'''"
   ]
  },
  {
   "cell_type": "markdown",
   "metadata": {},
   "source": [
    "# Question 103: (SQL)\n",
    "\n",
    "**Suppose you work for a retail company that has a database containing two tables, one called 'orders', and one called 'revenue', as shown below:**\n",
    "\n",
    "Orders:\n",
    "\n",
    "' '\t|order_id\t|channel\t|date\t|month\n",
    "---|---|---|---|---\n",
    "0|\t1|\tOnline|\t2018-09-01|\tSeptember\n",
    "1|\t2|\tOnline|\t2018-09-03|\tSeptember\n",
    "2|\t3|\tIn_store|\t2018-10-11|\tOctober\n",
    "3|\t4|\tIn_store|\t2018-08-21|\tAugust\n",
    "4|\t5|\tOnline|\t2018-08-13|\tAugust\n",
    "5|\t6|\tOnline|\t2018-10-29|\tOctober\n",
    "\n",
    "Revenue:\n",
    "\n",
    "\n",
    "' '|order_id|\trevenue\n",
    "---|---|---\n",
    "0|\t1|\t100\n",
    "1|\t2|\t125\n",
    "2|\t3|\t200\n",
    "3|\t4|\t80\n",
    "4|\t5|\t200\n",
    "5|\t6|\t100\n",
    "\n",
    "**Using SQL, write a query to show the total revenue by channel for the months of September and October. Additionally, try to think of the most efficient way to run this query.**"
   ]
  },
  {
   "cell_type": "markdown",
   "metadata": {},
   "source": [
    "# Question 104: (Python)\n",
    "\n",
    "**Given an array of integers, print the array in alternating min/max order. The first element should be the first maximum, second element should be the first minimum, third element should be second maximum, etc.**\n",
    "\n",
    "**For Example:**\n",
    "\n",
    "**Given the following array:**\n",
    "\n",
    "arr[] = [10, 2, 11, 3, 7, 4, 1]\n",
    "\n",
    "**Your function should return:**\n",
    "\n",
    "11, 1, 10, 2, 7, 3, 4"
   ]
  },
  {
   "cell_type": "markdown",
   "metadata": {},
   "source": [
    "# Question 105: (Statistics)\n",
    "\n",
    "**Suppose Candy Company XYZ produces lollipops. The company claims that 30% of the lollipops are cherry, 60% are grape, and 10% are lime.**\n",
    "\n",
    "**Given a random sampling of 100 lollipops with 50 cherry, 45 grape, and 5 lime, determine whether or not this is consistent with the company's claim. Use a 0.05 level of significance.**"
   ]
  },
  {
   "cell_type": "markdown",
   "metadata": {},
   "source": [
    "# Question 106: (Python)\n",
    "\n",
    "**Suppose you are given the following dataframe containing food, weight, and calories. You'll notice the foods have varying weights associated with them:**\n",
    "\n",
    "l |food|\tgrams|calories\n",
    "---|---|---|---\n",
    "0|\tbacon|50|271\n",
    "1|\tstrawberries|200|64\n",
    "2|\tbanana|\t100|89\n",
    "3|\tspinach|200|46\n",
    "4|\tchicken breast|\t50|\t80\n",
    "5|\tpeanuts|100\t|567\n",
    "\n",
    "**Using Python (Pandas), can you sort the dataframe in descending order with the most calorically dense food (normalized for weight) at the top?**"
   ]
  },
  {
   "cell_type": "markdown",
   "metadata": {},
   "source": [
    "# Question 107: (SQL)\n",
    "\n",
    "**Suppose you're working with a large conglomerate and are trying to aggregate revenue across all divisions to highlight the overall trend. The table you're querying off of is called allRevenue, sample schema is shown below.**\n",
    "\n",
    "Table: allRevenue\n",
    "\n",
    "date|\trevenue|\tdivision\n",
    "---|---|---\n",
    "2018-01-20|\t15000000|\tchemicals\n",
    "2019-02-21|\t120000|\tagriculture\n",
    "2019-04-09|\t390900|\tpharma\n",
    "\n",
    "**Given the above, can you write a SQL query that calculates 4-quarter rolling average revenue, cut by each quarter? The output query should only have 2 columns: 'quarter' and 'revenue' (where revenue is the trailing 4-quarter average). You can assume you have access to a function similar to [this](https://www.w3schools.com/sql/func_mysql_quarter.asp).**"
   ]
  },
  {
   "cell_type": "markdown",
   "metadata": {},
   "source": [
    "# Question 108: (Python)\n",
    "\n",
    "**Given an array of integers, can you write a function that returns \"True\" if there is a triplet (a, b, c) within the array that satisfies a^2 + b^2 = c^2?**\n",
    "\n",
    "**For example:**"
   ]
  },
  {
   "cell_type": "code",
   "execution_count": null,
   "metadata": {},
   "outputs": [],
   "source": [
    "Input: arr[] = [3, 1, 4, 6, 5]\n",
    "Output: True\n",
    "#There is a Pythagorean triplet (3, 4, 5) that exists in the input array.\n",
    "\n",
    "Input: arr[] = {10, 4, 6, 12, 5}\n",
    "Output: False\n",
    "#There is no Pythagorean triplet that exists in the input array."
   ]
  },
  {
   "cell_type": "markdown",
   "metadata": {},
   "source": [
    "# Question 109: (Statistics)\n",
    "\n",
    "**Suppose you have a standard 52-card deck of cards. In the standard deck, there are exactly 4 Ace cards. Given this information, what's the probability you'll draw two Aces in a row assuming the Ace is put back into the deck after each draw? What's the probability of drawing two Aces in a row if each Ace is removed from the deck after drawing?**\n",
    "\n",
    "**Note: This is an example of a quick question you might see in a range of interviews, primarily to test your ability to reason through conditional probability on the fly.**\n",
    "\n",
    "**It would not be uncommon for the assumption around replacement to be withheld, just to see if you ask to clarify that assumption, as it significantly changes the outcome.**"
   ]
  },
  {
   "cell_type": "markdown",
   "metadata": {},
   "source": [
    "# Question 110: (Python)\n",
    "\n",
    "**Suppose you're analyzing the utilization of a small parking lot you invested in. Customers enter the automated lot, receive a ticket, and select one of 20 spots at random (e.g. they are not assigned). Upon leaving, customers pay in relation to their time in the lot.**\n",
    "\n",
    "**You have collected the following [dataset](https://www.google.com/url?q=https://u4221007.ct.sendgrid.net/ls/click?upn%3DqwT-2Bl0U064-2B7oRNpPgUya51JFUDgj241ZqJOHGqS8eD4tjNEUUiE84jSUq3UK-2FXXaPoxCDr5OoIvbE3fNSQEEoHnT-2FkP-2FFMMgePNNM5lx6KCtW6-2BrzWHUxUOJLfuIjDKuMbs_dcIrmF3bfjIC4XJv6wnG8M1SQHV0diX96UqSessIR1VKP1e5z-2BWABKEbouF4Gawn-2FsHsIFHa40SfbJt8e7Q0Gg4mna442IHcKQTsqtWuuruh0Se1RhnbO3AFuhw1vknIxRcbI2PgL0WwSTb479OWBoiqavLE-2Bo4JvCiJZP2FLrUpx0EtjhmsTu94c6-2BOqwbmMFs8Dyz-2BHL7ZtMPge4xYC0H3tTlOaS-2BuhJYLSYwxTV8-3D&source=gmail&ust=1597680068845000&usg=AFQjCNHVr2WuUgX4ZeYaemYK6m0TXIMeuw), which shows spot utilization for a month. Each # in the dataset corresponds to a spot # (1-20) and the # of times it appears in a row corresponds to the frequency of how many customers parked in that spot.**\n",
    "\n",
    "**Using all of this information, write code to visualize the [Probability Mass Function (PMF)](https://en.wikipedia.org/wiki/Probability_mass_function) of your customers' spot selections. Your resultant chart should show each spot # (1-20) along with the probability of that spot being chosen based on your dataset. You can ignore seasonality and assume this month represents a standard month of parking at your lot.**\n"
   ]
  },
  {
   "cell_type": "markdown",
   "metadata": {},
   "source": [
    "# Question 111: (SQL)\n",
    "\n",
    "**Suppose you have a table called 'vendor_spend' containing vendor spend data, as shown below:**\n",
    "\n",
    "vendor_spend:\n",
    "\n",
    "\n",
    "I|vendor_id|\tname|\tcontract_sign_date|\ttotal_spend\n",
    "---|---|---|---|---\n",
    "0|\t1|\tvendor_schmendor|\t2018-09-01\t|34324\n",
    "1|\t2|\tparts_r_us\t|2018-09-03\t|23455\n",
    "2|\t3|\tvendor_king\t|2018-10-11\t|77654\n",
    "3|\t4|\tvendor_diagram|\t2018-08-21|\t23334\n",
    "4|\t5|\tvenny\t|2018-08-13\t|94843\n",
    "5|\t6|\tvendtriloquist|\t2018-10-29|\t23444\n",
    "\n",
    "**Using SQL, write a query to show the top 50% of vendors as denoted by total spend. You should return both the name and spend for this group.**"
   ]
  },
  {
   "cell_type": "markdown",
   "metadata": {},
   "source": [
    "# Question 112: (Python)\n",
    "\n",
    "**Given an array of n distinct elements, can you find all the triplet combinations that sum to zero?**\n",
    "\n",
    "**For example:**\n",
    "\n"
   ]
  },
  {
   "cell_type": "code",
   "execution_count": null,
   "metadata": {},
   "outputs": [],
   "source": [
    "Input: [0, -1, 2, -3, 1]\n",
    "Output: \n",
    "0 -1 1\n",
    "2 -3 1\n",
    "\n",
    "Input: [1, -2, 1, 0, 5]\n",
    "Output: 1 -2  1"
   ]
  },
  {
   "cell_type": "markdown",
   "metadata": {},
   "source": [
    "# Question 113: (Statistics)\n",
    "\n",
    "Suppose you're working for a social media company that has a feature similar to Facebook's newsfeed. The company has two options for serving ads within their newsfeed:\n",
    "\n",
    "1. Out of every 25 stories, one will be an ad\n",
    "2. Every story has a 4% chance of being an ad\n",
    "\n",
    "For each option, what is the expected number of ads shown in 100 news stories? If we go with the second option, what is the chance a user will be shown only a single ad in 100 stories? What about no ads at all?"
   ]
  },
  {
   "cell_type": "markdown",
   "metadata": {},
   "source": [
    "# Question 114: (Python)\n",
    "\n",
    "**Using Monte Carlo methods, simulate future stock price outcomes for Apple (AAPL) using Python. You can read more about Monte Carlo simulation (in a finance context) [here](https://www.investopedia.com/terms/m/montecarlosimulation.asp).**\n",
    "\n",
    "**Below is code using Python to grab the initial stock price data for Apple, to help get you started:**"
   ]
  },
  {
   "cell_type": "code",
   "execution_count": 1,
   "metadata": {},
   "outputs": [
    {
     "data": {
      "text/html": [
       "<div>\n",
       "<style scoped>\n",
       "    .dataframe tbody tr th:only-of-type {\n",
       "        vertical-align: middle;\n",
       "    }\n",
       "\n",
       "    .dataframe tbody tr th {\n",
       "        vertical-align: top;\n",
       "    }\n",
       "\n",
       "    .dataframe thead th {\n",
       "        text-align: right;\n",
       "    }\n",
       "</style>\n",
       "<table border=\"1\" class=\"dataframe\">\n",
       "  <thead>\n",
       "    <tr style=\"text-align: right;\">\n",
       "      <th></th>\n",
       "      <th>High</th>\n",
       "      <th>Low</th>\n",
       "      <th>Open</th>\n",
       "      <th>Close</th>\n",
       "      <th>Volume</th>\n",
       "      <th>Adj Close</th>\n",
       "    </tr>\n",
       "    <tr>\n",
       "      <th>Date</th>\n",
       "      <th></th>\n",
       "      <th></th>\n",
       "      <th></th>\n",
       "      <th></th>\n",
       "      <th></th>\n",
       "      <th></th>\n",
       "    </tr>\n",
       "  </thead>\n",
       "  <tbody>\n",
       "    <tr>\n",
       "      <th>2009-01-02</th>\n",
       "      <td>13.005714</td>\n",
       "      <td>12.165714</td>\n",
       "      <td>12.268572</td>\n",
       "      <td>12.964286</td>\n",
       "      <td>186503800.0</td>\n",
       "      <td>11.202949</td>\n",
       "    </tr>\n",
       "    <tr>\n",
       "      <th>2009-01-05</th>\n",
       "      <td>13.740000</td>\n",
       "      <td>13.244286</td>\n",
       "      <td>13.310000</td>\n",
       "      <td>13.511429</td>\n",
       "      <td>295402100.0</td>\n",
       "      <td>11.675756</td>\n",
       "    </tr>\n",
       "    <tr>\n",
       "      <th>2009-01-06</th>\n",
       "      <td>13.881429</td>\n",
       "      <td>13.198571</td>\n",
       "      <td>13.707143</td>\n",
       "      <td>13.288571</td>\n",
       "      <td>322327600.0</td>\n",
       "      <td>11.483178</td>\n",
       "    </tr>\n",
       "    <tr>\n",
       "      <th>2009-01-07</th>\n",
       "      <td>13.214286</td>\n",
       "      <td>12.894286</td>\n",
       "      <td>13.115714</td>\n",
       "      <td>13.001429</td>\n",
       "      <td>188262200.0</td>\n",
       "      <td>11.235046</td>\n",
       "    </tr>\n",
       "    <tr>\n",
       "      <th>2009-01-08</th>\n",
       "      <td>13.307143</td>\n",
       "      <td>12.862857</td>\n",
       "      <td>12.918571</td>\n",
       "      <td>13.242857</td>\n",
       "      <td>168375200.0</td>\n",
       "      <td>11.443671</td>\n",
       "    </tr>\n",
       "  </tbody>\n",
       "</table>\n",
       "</div>"
      ],
      "text/plain": [
       "                 High        Low       Open      Close       Volume  Adj Close\n",
       "Date                                                                          \n",
       "2009-01-02  13.005714  12.165714  12.268572  12.964286  186503800.0  11.202949\n",
       "2009-01-05  13.740000  13.244286  13.310000  13.511429  295402100.0  11.675756\n",
       "2009-01-06  13.881429  13.198571  13.707143  13.288571  322327600.0  11.483178\n",
       "2009-01-07  13.214286  12.894286  13.115714  13.001429  188262200.0  11.235046\n",
       "2009-01-08  13.307143  12.862857  12.918571  13.242857  168375200.0  11.443671"
      ]
     },
     "execution_count": 1,
     "metadata": {},
     "output_type": "execute_result"
    }
   ],
   "source": [
    "# Import required libraries\n",
    "import math\n",
    "import matplotlib.pyplot as plt\n",
    "import numpy as np\n",
    "from pandas_datareader import data\n",
    "apple = data.DataReader('AAPL', 'yahoo',start='1/1/2009')\n",
    "apple.head()"
   ]
  },
  {
   "cell_type": "markdown",
   "metadata": {},
   "source": [
    "# Question 115: (SQL)\n",
    "\n",
    "**Suppose that each day widgets are produced on 3 assembly lines (A, B, and C) and eventually end up on one line where they are prepared for shipping. Suppose there's a data table called 'prod' that has widget origin (column name: 'origin') (either assembly line A, B, or C) as well as a numeric serial number (column name: serial number) which increases for each widget produced. You can assume this table is wiped clean on a daily basis.**\n",
    "\n",
    "**Given the above, can you write a SQL query to pull the first 3 widgets produced on each line?**\n",
    "\n",
    "*Note that here we are only given the schema of the table, but should still be able to construct a complete query.*"
   ]
  },
  {
   "cell_type": "markdown",
   "metadata": {},
   "source": [
    "# Question 116: (Python)\n",
    "\n",
    "**Suppose you're given an unsorted array, a. The array is intended to have all integer elements between its minimum and maximum, but could be missing some elements. Write a python function to find the n-th missing element in the array.**\n",
    "\n",
    "**Consider the array in sorted order, then find the n-th missing number. If the n-th missing number does not exist, you can output 'Does not exist'.**\n",
    "\n",
    "Examples:"
   ]
  },
  {
   "cell_type": "code",
   "execution_count": null,
   "metadata": {},
   "outputs": [],
   "source": [
    "Input: a = [2, 3, 11, 9], n = 3\n",
    "Output: 6\n",
    "    \n",
    "## Missing elements in array: [4, 5, 6, 7, 8, 10]. So, the 3rd missing element is 6.\n",
    "\n",
    "Input: a = [2, 3, 5], n = 5\n",
    "Output: 'Does not exist'\n",
    "    \n",
    "## Since there is no 5th missing element in the array, we output 'Does not exist' (the only missing element here is 4)."
   ]
  },
  {
   "attachments": {
    "image.png": {
     "image/png": "[encoded data removed]"
    }
   },
   "cell_type": "markdown",
   "metadata": {},
   "source": [
    "# Question 117: (Statistics)\n",
    "\n",
    "**Can you explain what a confusion matrix is and what we can derive from a confusion matrix? Can you calculate the main confusion matrix metrics using the chart below?**\n",
    "\n",
    "![image.png](attachment:image.png)"
   ]
  },
  {
   "cell_type": "markdown",
   "metadata": {},
   "source": [
    "# Question 118: (Python)\n",
    "\n",
    "**Given the following [data set](https://docs.google.com/spreadsheets/d/1Ld0fEYDRul8BXmKfFbNcsJqsYK94pv6aSl9LCFRK8SQ/edit#gid=481772872), can you plot a chart that shows the percent of revenue by marketing source?**\n",
    "\n",
    "**You can assume that <span style=\"color:red\">purchase_value</span> is revenue in this case, and you'll have to calculate the percent of revenue by source prior to plotting.**"
   ]
  },
  {
   "cell_type": "markdown",
   "metadata": {},
   "source": [
    "# $\\S$ Question 119: (SQL)\n",
    "\n",
    "**Suppose you are an analyst for a major US hotel chain which has locations all over the US. Your marketing team is planning a promotion focused around loyal customers, and they are trying to forecast how much revenue the promotion will bring in. However, they need help from you to understand how much revenue comes from \"loyal\" customers to plug into their model.**\n",
    "\n",
    "**A \"loyal\" customer is defined as:**\n",
    "\n",
    "    1.having a membership with your company's point system,\n",
    "    2.meeting either of the below conditions\n",
    "        a. having > 2 stays at any hotel location\n",
    "        b. having stayed at 3 different locations\n",
    "        \n",
    "**You have a table showing all transactions made in 2017. The schema of the table is below:**\n",
    "\n",
    "Table: customer_transactions\n",
    "\n",
    "Column Name|\tData Type|\tDescription\n",
    "---|---|---\n",
    "customer_id|\tid|\tid of the customer\n",
    "hotel_id|\tinteger|\tunique id for hotel\n",
    "transaction_id|\tinteger|\tid of the given transaction\n",
    "first_night|\tstring|\tfirst night of the stay, column format is \"YYYY-mm-dd\"\n",
    "number_of_nights|\tinteger|\t# of nights the customer stayed in hotel\n",
    "total_spend|\tinteger|\ttotal spend for transaction, in USD\n",
    "is_member|\tboolean|\tindicates if the customer is a member of our points system\n",
    "\n",
    "**Using the information above, write a SQL query to show total revenue from 'loyal' customers.**"
   ]
  },
  {
   "cell_type": "code",
   "execution_count": null,
   "metadata": {},
   "outputs": [],
   "source": [
    "%SQL\n",
    "\n",
    "## loyal customer is :\n",
    "## membership with company's point system\n",
    "## and either: having stayed > 2 stays at any hotel location, or having stayed at 3 different locations\n",
    "\n",
    "\n",
    "SELECT SUM(total_spend) as loyal_revenue\n",
    "FROM customer_transaction \n",
    "WHERE customer_id IN (\n",
    "    (SELECT customer_id\n",
    "FROM customer_transactions ct\n",
    "LEFT JOIN (\n",
    "SELECT customer_id\n",
    "    ,  COUNT(*) as number_of_hotels\n",
    "FROM customer_transactions\n",
    "GROUP BY hotel_id, customer_id\n",
    ") hc ON hc.customer_id = ct.customer_id\n",
    "WHERE (hc.number_of_hotels >= 3 OR ct.number_of_nights > 2) AND ct.is_member = True\n",
    ")) "
   ]
  },
  {
   "cell_type": "markdown",
   "metadata": {},
   "source": [
    "# Question 120: (Python)\n",
    "\n",
    "**The following [dataset](https://raw.githubusercontent.com/erood/interviewqs.com_code_snippets/master/Datasets/medical_no_show.csv) has records on patients showing up for their appointments. There is also some lightweight medical data and appointment notification data. More information about the schema can be found [here](https://www.kaggle.com/joniarroba/noshowappointments).**\n",
    "\n",
    "**Given the following data can you create a Random Forest model to predict if a patient is a \"no-show\"? Can you also create a list of features sorted on their gini importance? You can read about gini importance [here](https://medium.com/the-artificial-impostor/feature-importance-measures-for-tree-models-part-i-47f187c1a2c3).**"
   ]
  },
  {
   "cell_type": "markdown",
   "metadata": {},
   "source": [
    "# $\\S$Question 121: (Statistics)\n",
    "\n",
    "**Suppose Charlie has 3 pairs of shoes, 4 different coats, and 2 different pants to wear in his wardrobe. Of those items, Charlie has exactly one pair of white shoes, exactly one black coat, and exactly one pair of khaki pants.**\n",
    "\n",
    "**If Charlie selects each item of his wardrobe at random, what is the probability that he will wear the white shoes, black coat, and khaki pants? Hint: think of the rule of product here.**"
   ]
  },
  {
   "cell_type": "code",
   "execution_count": 1,
   "metadata": {},
   "outputs": [],
   "source": [
    "shoes = ['red shoes', 'blue shoes', 'white shoes']\n",
    "coats = ['white sweater', 'blue jacket', 'black pullover', 'grey cardigan']\n",
    "pants = ['cord', 'khaki']\n",
    "\n",
    "total_outfits = 24\n",
    "w_shoes_b_coat_k_pants = 1\n",
    "\n",
    "p_outfit = w_shoes_b_coat_k_pants / total_outfits"
   ]
  },
  {
   "cell_type": "code",
   "execution_count": 3,
   "metadata": {},
   "outputs": [
    {
     "data": {
      "text/plain": [
       "0.041666666666666664"
      ]
     },
     "execution_count": 3,
     "metadata": {},
     "output_type": "execute_result"
    }
   ],
   "source": [
    "p_outfit"
   ]
  },
  {
   "cell_type": "markdown",
   "metadata": {},
   "source": [
    "# $\\S$ Question 122: (Python)\n",
    "\n",
    "**Suppose you have a dataframe, df, with the following records:**\n",
    "\n",
    "Age\t|Favorite Color\t|Grade\t|Name\n",
    "---|---|---|---\n",
    "20\t|blue\t|88|\tWillard Morris\n",
    "19\t|blue\t|95\t|Al Jennings\n",
    "22\t|yellow\t|92\t|Omar Mullins\n",
    "21\t|green\t|70\t|Spencer McDaniel\n",
    "\n",
    "**The dataframe is showing information about students. Write code using Python Pandas to select the rows where the students' favorite color is green or yellow and their grade is between 85-95 (inclusive)**"
   ]
  },
  {
   "cell_type": "code",
   "execution_count": 6,
   "metadata": {},
   "outputs": [],
   "source": [
    "import pandas as pd\n",
    "\n",
    "d = {\n",
    "    'Age': [20, 19, 22, 21], \n",
    "    'Favorite Color': ['blue', 'blue', 'yellow', 'green'],\n",
    "    'Grade': [88, 95, 92, 70], \n",
    "    'Name': ['Willard Morris', 'Al Jennings', 'Omar Mullins', 'Spencer McDaniel']\n",
    "    }\n",
    "\n",
    "df = pd.DataFrame(data=d)"
   ]
  },
  {
   "cell_type": "code",
   "execution_count": 8,
   "metadata": {},
   "outputs": [],
   "source": [
    "selection = df[((df['Favorite Color'] == 'green') | (df['Favorite Color'] == 'yellow')) & (df['Grade'] >= 85) & (df['Grade'] <= 95)]"
   ]
  },
  {
   "cell_type": "code",
   "execution_count": 9,
   "metadata": {},
   "outputs": [
    {
     "data": {
      "text/html": [
       "<div>\n",
       "<style scoped>\n",
       "    .dataframe tbody tr th:only-of-type {\n",
       "        vertical-align: middle;\n",
       "    }\n",
       "\n",
       "    .dataframe tbody tr th {\n",
       "        vertical-align: top;\n",
       "    }\n",
       "\n",
       "    .dataframe thead th {\n",
       "        text-align: right;\n",
       "    }\n",
       "</style>\n",
       "<table border=\"1\" class=\"dataframe\">\n",
       "  <thead>\n",
       "    <tr style=\"text-align: right;\">\n",
       "      <th></th>\n",
       "      <th>Age</th>\n",
       "      <th>Favorite Color</th>\n",
       "      <th>Grade</th>\n",
       "      <th>Name</th>\n",
       "    </tr>\n",
       "  </thead>\n",
       "  <tbody>\n",
       "    <tr>\n",
       "      <th>2</th>\n",
       "      <td>22</td>\n",
       "      <td>yellow</td>\n",
       "      <td>92</td>\n",
       "      <td>Omar Mullins</td>\n",
       "    </tr>\n",
       "  </tbody>\n",
       "</table>\n",
       "</div>"
      ],
      "text/plain": [
       "   Age Favorite Color  Grade          Name\n",
       "2   22         yellow     92  Omar Mullins"
      ]
     },
     "execution_count": 9,
     "metadata": {},
     "output_type": "execute_result"
    }
   ],
   "source": [
    "selection"
   ]
  },
  {
   "cell_type": "markdown",
   "metadata": {},
   "source": [
    "# $\\S$ Question 123: (SQL)\n",
    "\n",
    "**In SQL, what will be the result of the below query?**"
   ]
  },
  {
   "cell_type": "code",
   "execution_count": null,
   "metadata": {},
   "outputs": [],
   "source": [
    "%SQL\n",
    "\n",
    "SELECT CASE WHEN null = null THEN 'Yes' ELSE 'No' END as Result;"
   ]
  },
  {
   "cell_type": "markdown",
   "metadata": {},
   "source": [
    "The above query will return a table with one column named 'Result', and it's only value will be 'No'."
   ]
  },
  {
   "cell_type": "markdown",
   "metadata": {},
   "source": [
    "# Question 124: (Python)\n",
    "\n",
    "**Suppose you're given an array of integers of length N. Write a function using Python to select j #s that will maximize the absolute difference between the j numbers chosen and those remaining in the array.**\n",
    "\n",
    "Examples:"
   ]
  },
  {
   "cell_type": "code",
   "execution_count": null,
   "metadata": {},
   "outputs": [],
   "source": [
    "Input: arr[ ] = [2, 6, 2, 1, 10]\n",
    "j = 2\n",
    "#Output: Here 1,2 are selected, with the difference between the sum of j (3) \n",
    "#and the remaining #s (6+10+2 = 5) being 15\n",
    "\n",
    "Input: arr[ ] = [1, 4, 3, 2, 4]\n",
    "j = 4\n",
    "#Output: Here we would select 4, 4, 3, and 2 for a sum of 13, whereas the sum of the remaining # is 1.\n",
    "#Therefore, the difference between j and our remaining # is 12"
   ]
  },
  {
   "cell_type": "markdown",
   "metadata": {},
   "source": [
    "# $\\S$ Question 125: (Statistics)\n",
    "\n",
    "**Suppose you are playing a game with a fair die (e.g. no bias for any one side), and your expected payout based on the # you roll is in the table below:**\n",
    "\n",
    "\n",
    "Roll\t|Payout\n",
    "---|---\n",
    "6|\t4\n",
    "5|\t2\n",
    "4|  1\n",
    "3|\t0\n",
    "2|\t0\n",
    "1|\t0\n",
    "\n",
    "**Given the above table, is it worth it to play this game?**\n",
    "\n",
    "-------------------------------------------------------------\n",
    "\n",
    "I guess it depends how much it costs to play.  Your expected payout for playing the game is 3.5 dollars.  So if it costs more than that to play.. then you should not play. Anything less... and you should play as many times as possible."
   ]
  },
  {
   "cell_type": "markdown",
   "metadata": {},
   "source": [
    "# Question 126: (Python)\n",
    "\n",
    "**Given the following [dataset](https://raw.githubusercontent.com/erood/interviewqs.com_code_snippets/master/Datasets/online_retail.csv), can you create a retention chart similar to the one shown in this picture? In the [picture](https://mode.com/help/images/mode-playbook/describing-retention-update.png), each row on the chart represents a user's sign up month and each numeric column represents the percent of users that are still \"active\".**\n",
    "\n",
    "**Note: This dataset came from [UC Irvine Machine Learning Repository](https://archive.ics.uci.edu/ml/datasets/online+retail).**"
   ]
  },
  {
   "cell_type": "code",
   "execution_count": 2,
   "metadata": {},
   "outputs": [],
   "source": [
    "import pandas as pd \n",
    "\n",
    "df = pd.read_csv('https://raw.githubusercontent.com/erood/interviewqs.com_code_snippets/master/Datasets/online_retail.csv')"
   ]
  },
  {
   "cell_type": "code",
   "execution_count": 3,
   "metadata": {},
   "outputs": [
    {
     "data": {
      "text/html": [
       "<div>\n",
       "<style scoped>\n",
       "    .dataframe tbody tr th:only-of-type {\n",
       "        vertical-align: middle;\n",
       "    }\n",
       "\n",
       "    .dataframe tbody tr th {\n",
       "        vertical-align: top;\n",
       "    }\n",
       "\n",
       "    .dataframe thead th {\n",
       "        text-align: right;\n",
       "    }\n",
       "</style>\n",
       "<table border=\"1\" class=\"dataframe\">\n",
       "  <thead>\n",
       "    <tr style=\"text-align: right;\">\n",
       "      <th></th>\n",
       "      <th>InvoiceNo</th>\n",
       "      <th>StockCode</th>\n",
       "      <th>Description</th>\n",
       "      <th>Quantity</th>\n",
       "      <th>InvoiceDate</th>\n",
       "      <th>UnitPrice</th>\n",
       "      <th>CustomerID</th>\n",
       "      <th>Country</th>\n",
       "    </tr>\n",
       "  </thead>\n",
       "  <tbody>\n",
       "    <tr>\n",
       "      <th>0</th>\n",
       "      <td>536365</td>\n",
       "      <td>85123A</td>\n",
       "      <td>WHITE HANGING HEART T-LIGHT HOLDER</td>\n",
       "      <td>6</td>\n",
       "      <td>12/1/10 8:26</td>\n",
       "      <td>2.55</td>\n",
       "      <td>17850.0</td>\n",
       "      <td>United Kingdom</td>\n",
       "    </tr>\n",
       "    <tr>\n",
       "      <th>1</th>\n",
       "      <td>536365</td>\n",
       "      <td>71053</td>\n",
       "      <td>WHITE METAL LANTERN</td>\n",
       "      <td>6</td>\n",
       "      <td>12/1/10 8:26</td>\n",
       "      <td>3.39</td>\n",
       "      <td>17850.0</td>\n",
       "      <td>United Kingdom</td>\n",
       "    </tr>\n",
       "    <tr>\n",
       "      <th>2</th>\n",
       "      <td>536365</td>\n",
       "      <td>84406B</td>\n",
       "      <td>CREAM CUPID HEARTS COAT HANGER</td>\n",
       "      <td>8</td>\n",
       "      <td>12/1/10 8:26</td>\n",
       "      <td>2.75</td>\n",
       "      <td>17850.0</td>\n",
       "      <td>United Kingdom</td>\n",
       "    </tr>\n",
       "    <tr>\n",
       "      <th>3</th>\n",
       "      <td>536365</td>\n",
       "      <td>84029G</td>\n",
       "      <td>KNITTED UNION FLAG HOT WATER BOTTLE</td>\n",
       "      <td>6</td>\n",
       "      <td>12/1/10 8:26</td>\n",
       "      <td>3.39</td>\n",
       "      <td>17850.0</td>\n",
       "      <td>United Kingdom</td>\n",
       "    </tr>\n",
       "    <tr>\n",
       "      <th>4</th>\n",
       "      <td>536365</td>\n",
       "      <td>84029E</td>\n",
       "      <td>RED WOOLLY HOTTIE WHITE HEART.</td>\n",
       "      <td>6</td>\n",
       "      <td>12/1/10 8:26</td>\n",
       "      <td>3.39</td>\n",
       "      <td>17850.0</td>\n",
       "      <td>United Kingdom</td>\n",
       "    </tr>\n",
       "  </tbody>\n",
       "</table>\n",
       "</div>"
      ],
      "text/plain": [
       "  InvoiceNo StockCode                          Description  Quantity  \\\n",
       "0    536365    85123A   WHITE HANGING HEART T-LIGHT HOLDER         6   \n",
       "1    536365     71053                  WHITE METAL LANTERN         6   \n",
       "2    536365    84406B       CREAM CUPID HEARTS COAT HANGER         8   \n",
       "3    536365    84029G  KNITTED UNION FLAG HOT WATER BOTTLE         6   \n",
       "4    536365    84029E       RED WOOLLY HOTTIE WHITE HEART.         6   \n",
       "\n",
       "    InvoiceDate  UnitPrice  CustomerID         Country  \n",
       "0  12/1/10 8:26       2.55     17850.0  United Kingdom  \n",
       "1  12/1/10 8:26       3.39     17850.0  United Kingdom  \n",
       "2  12/1/10 8:26       2.75     17850.0  United Kingdom  \n",
       "3  12/1/10 8:26       3.39     17850.0  United Kingdom  \n",
       "4  12/1/10 8:26       3.39     17850.0  United Kingdom  "
      ]
     },
     "execution_count": 3,
     "metadata": {},
     "output_type": "execute_result"
    }
   ],
   "source": [
    "df.head()"
   ]
  },
  {
   "cell_type": "markdown",
   "metadata": {},
   "source": [
    "# Question 127: (SQL)\n",
    "\n",
    "**Suppose your team interviews undergraduate candidates across many different colleges. You are looking to check which candidates scored the highest from each college.**\n",
    "\n",
    "**Given the below tables, write a SQL query (using a window function) to show which candidates scored the highest from each college.**\n",
    "\n",
    "**Table: candidateColleges**\n",
    "\n",
    "college_id|\tcandidate_name\n",
    "---|---\n",
    "123456|\tjohn_smith\n",
    "123456|\tsarah_daniels\n",
    "123457|\ttim_cook\n",
    "123457|\tlisa_perelli\n",
    "123457|\tjenny_west\n",
    "123457|\tkarl_tran\n",
    "123457|\ttammy_turner\n",
    "\n",
    "**Table: candidateInterviews**\n",
    "\n",
    "*Each row represents a unique interview/candidate as well as the candidate's score (an integer from 1-5, with 5 representing the highest possible score).*\n",
    "\n",
    "interview_id|\tcandidate_name|\tinterview_score\n",
    "---|---|---\n",
    "12|\tjohn_smith|\t4\n",
    "22|\tsarah_daniels|\t3\n",
    "23|\ttim_cook|\t3\n",
    "25|\tlisa_perelli|\t5\n",
    "26|\tjenny_west|\t2\n",
    "27|\tkarl_tran|\t2\n",
    "28|\ttammy_turner|\t4"
   ]
  },
  {
   "cell_type": "markdown",
   "metadata": {},
   "source": [
    "# Question 128: (Python)\n",
    "\n",
    "**Given two arrays, write a function in vanilla Python (e.g., no libraries) to check whether or not the arrays are equal. You can consider the two arrays equal if both of them contain the same set of elements - the order of elements can differ.**\n",
    "\n",
    "For example:\n"
   ]
  },
  {
   "cell_type": "code",
   "execution_count": null,
   "metadata": {},
   "outputs": [],
   "source": [
    "#Given the following:\n",
    "arr1 = [1,5,6,7,8,0]\n",
    "arr2 = [0,5,7,6,8,1]\n",
    "\n",
    "#output = Yes\n",
    "arr3 = [1,5,6,7,8,0]\n",
    "arr4 = [0,7,7,7,8,1]"
   ]
  },
  {
   "cell_type": "markdown",
   "metadata": {},
   "source": [
    "# $\\S$ Question 129: (Statistics)\n",
    "\n",
    "**An insurance company classifies its customers into 3 categories: below average, average, and above average. No one moves more than one state at a time.**\n",
    "\n",
    "**For example, a customer cannot move from below average to above average or from above average to below average in a given period. After a given period, we notice that:**\n",
    "\n",
    "- 40% of those in the below average category become average\n",
    "- 30% of those in the average category become above average\n",
    "- 10% of those in the average category become below average\n",
    "- 20% of those in the above average category are downgraded to average\n",
    "\n",
    "**Given the above:**\n",
    "\n",
    "**Can you write the transition matrix for the model?\n",
    "What is the limiting fraction of drivers in each of these categories? (e.g. find the steady state)**\n",
    "\n",
    "*Hint: It might be helpful to start with building a state transition diagram to depict a Markov chain for the different states a customer can move to given their current state.*"
   ]
  },
  {
   "cell_type": "markdown",
   "metadata": {},
   "source": [
    "Markov Transition Matrix = \n",
    "\\begin{bmatrix}\n",
    ".6 & .4  & 0\\\\\n",
    ".1 & .6 & .3\\\\\n",
    " 0 & .2 & .8\n",
    "\\end{bmatrix}\n",
    "\n",
    "\\begin{bmatrix}\n",
    "below -> below & below -> average  & below -> above\\\\\n",
    "average -> below & average -> average & average -> above\\\\\n",
    " above -> below & above -> average & above -> above\n",
    "\\end{bmatrix}"
   ]
  },
  {
   "cell_type": "markdown",
   "metadata": {},
   "source": [
    "# $\\S$ Question 130: (Python)\n",
    "\n",
    "**Suppose you are given a dataframe, df, that contains various negative values. In the context of your work, negative values can be considered 'bad data'. Write a function in Python (using Pandas) that replaces these bad values with the group mean.**"
   ]
  },
  {
   "cell_type": "code",
   "execution_count": 1,
   "metadata": {},
   "outputs": [],
   "source": [
    "import pandas as pd\n",
    "\n",
    "df = pd.DataFrame({'values': [-1,-1,-1,-1,-1,-1,-1,-1,-1,-1,-1,-1,-1,-1,-1,-1,-1,3,4,5,2,4]})"
   ]
  },
  {
   "cell_type": "code",
   "execution_count": 8,
   "metadata": {},
   "outputs": [],
   "source": [
    "mean_replaced = df.replace(-1,df[df['values']>=0].mean())"
   ]
  },
  {
   "cell_type": "code",
   "execution_count": 10,
   "metadata": {},
   "outputs": [
    {
     "data": {
      "text/html": [
       "<div>\n",
       "<style scoped>\n",
       "    .dataframe tbody tr th:only-of-type {\n",
       "        vertical-align: middle;\n",
       "    }\n",
       "\n",
       "    .dataframe tbody tr th {\n",
       "        vertical-align: top;\n",
       "    }\n",
       "\n",
       "    .dataframe thead th {\n",
       "        text-align: right;\n",
       "    }\n",
       "</style>\n",
       "<table border=\"1\" class=\"dataframe\">\n",
       "  <thead>\n",
       "    <tr style=\"text-align: right;\">\n",
       "      <th></th>\n",
       "      <th>values</th>\n",
       "    </tr>\n",
       "  </thead>\n",
       "  <tbody>\n",
       "    <tr>\n",
       "      <th>0</th>\n",
       "      <td>3.6</td>\n",
       "    </tr>\n",
       "    <tr>\n",
       "      <th>1</th>\n",
       "      <td>3.6</td>\n",
       "    </tr>\n",
       "    <tr>\n",
       "      <th>2</th>\n",
       "      <td>3.6</td>\n",
       "    </tr>\n",
       "    <tr>\n",
       "      <th>3</th>\n",
       "      <td>3.6</td>\n",
       "    </tr>\n",
       "    <tr>\n",
       "      <th>4</th>\n",
       "      <td>3.6</td>\n",
       "    </tr>\n",
       "  </tbody>\n",
       "</table>\n",
       "</div>"
      ],
      "text/plain": [
       "   values\n",
       "0     3.6\n",
       "1     3.6\n",
       "2     3.6\n",
       "3     3.6\n",
       "4     3.6"
      ]
     },
     "execution_count": 10,
     "metadata": {},
     "output_type": "execute_result"
    }
   ],
   "source": [
    "mean_replaced.head()"
   ]
  },
  {
   "cell_type": "markdown",
   "metadata": {},
   "source": [
    "# $\\S$ Question 131: (SQL)\n",
    "\n",
    "**Suppose you're given the below tables, containing animal weights, as well as a directory of zoos:**\n",
    "\n",
    "Table name: animal_weights\n",
    "\n",
    "\n",
    "animal_ID|\tweight_lbs|\tzoo_ID\n",
    "---|---|---\n",
    "09992|\t1040|\t012\n",
    "099929|\t1090|\t012\n",
    "012993|\t2190|\t011\n",
    "009821|\t750\t|011\n",
    "096673|\t580\t|011\n",
    "01411|\t690\t|012\n",
    "01415|\t695\t|009\n",
    "01410|\t690\t|009\n",
    "01117|\t1000\t|009\n",
    "\n",
    "\n",
    "Table name: zoo_directory\n",
    "\n",
    "\n",
    "zoo_ID|\tzoo_name\n",
    "---|---\n",
    "012|\tDetroit Zoo\n",
    "011|\tLA Zoo\n",
    "009|\tNY Zoo\n",
    "\n",
    "**Given the above, write a SQL query to return the second heaviest animal in the table from each zoo. In addition to the zoo_ID, return the zoo_name from the zoo_directory table.**\n",
    "\n",
    "**Click [here](https://www.db-fiddle.com/f/iD8mRBCcFrw3J8XtCNGgv3/1) to view these tables in an interactive SQL fiddle.**"
   ]
  },
  {
   "cell_type": "code",
   "execution_count": null,
   "metadata": {},
   "outputs": [],
   "source": [
    "%SQL\n",
    "\n",
    "select wo.zoo_id\n",
    "\t,  wo.animal_id\n",
    "    ,  aw.weight_lbs\n",
    "FROM animal_weights aw\n",
    "LEFT JOIN\n",
    "(select zoo_id, animal_id\n",
    "\t , row_number() over (partition by zoo_id order by weight_lbs desc) as seqnum\n",
    "from animal_weights) wo on wo.animal_id = aw.animal_id and seqnum = 2\n",
    "WHERE wo.animal_id is not null\n",
    "ORDER BY zoo_id"
   ]
  },
  {
   "cell_type": "markdown",
   "metadata": {},
   "source": [
    "# Question 132: (Python)\n",
    "\n",
    "**Given an array of unique integers and a sum value, can you write code to find the number of triplets with a sum smaller than the given value?**\n",
    "\n",
    "**For example:**"
   ]
  },
  {
   "cell_type": "code",
   "execution_count": 3,
   "metadata": {},
   "outputs": [],
   "source": [
    "#Given the following\n",
    "Array = [5, 1, 3, 4, 7]\n",
    "Sum_value = 12\n",
    "\n",
    "#Output: \n",
    "#4\n",
    "\n",
    "#Explanation: \n",
    "#There are 4 triplets that have a sum less than 12: \n",
    "#(1, 3, 4), (1, 3, 5), (1, 3, 7), and (1, 4, 5)"
   ]
  },
  {
   "cell_type": "markdown",
   "metadata": {},
   "source": [
    "# Question 133: (Statistics)\n",
    "\n",
    "**Let's say you're working to test product quality for an auto manufacturer, and you run a paired t-test with 700 observations covering the time to failure for a particular vehicle component.**\n",
    "\n",
    "**The results of your test show that your company's mean quality exceeds your closest competitor by 5 points, with a p-value of 0.02. How would you describe this outcome to a stakeholder? What does this p-value mean exactly?**"
   ]
  },
  {
   "cell_type": "markdown",
   "metadata": {},
   "source": [
    "# Question 134: (Python)\n",
    "\n",
    "**On a scale of 1-3, with 1 being least valuable and 3 being most valuable, can you classify customers based on recency of last purchase? For example, a purchase made 1 month ago is more valuable than one made 5 months ago, so the former customer would have a higher recency score than the latter. You can download the data [here](https://drive.google.com/file/d/1vvnaJ9KErXx2zI47IBytR_tHGijtJBE6/view).**\n",
    "\n",
    "**For more information regarding customer lifetime value, you can read this [post](https://www.shopify.com/blog/customer-lifetime-value) from Shopify's blog.**\n",
    "\n",
    "(this will be a series)"
   ]
  },
  {
   "cell_type": "markdown",
   "metadata": {},
   "source": [
    "# Question 135: (SQL)\n",
    "\n",
    "**Given the following table containing customer transaction data:**\n",
    "\n",
    "*Table name: orders*\n",
    "\n",
    "order_id|\tchannel|date|\tmonth\t|revenue\n",
    "---|---|---|---|---\n",
    "0\t|1\t|Online|\t2018-09-01|\t09|\t100\n",
    "1\t|2\t|Online|\t2018-09-03|\t09|\t125\n",
    "2\t|3\t|In_store|\t2018-10-11|\t10|\t200\n",
    "3\t|4\t|In_store|\t2018-08-21|\t08|\t80\n",
    "4\t|5\t|Online|\t2018-08-13|\t08|\t200\n",
    "5\t|6\t|Online|\t2018-10-29|\t10|\t100\n",
    "\n",
    "**Write SQL queries to answer the following:**\n",
    "\n",
    "- Return all rows in the data table with transaction values over $101.\n",
    "\n",
    "- Return all rows in the data table with transaction values over $101 that were purchased through the Online  channel.\n",
    "\n",
    "- Return all rows in the data table with transaction values that were either over $101 OR were purchased In_store.\n",
    "\n",
    "- Return the minimum transaction amount for both channels as well as the corresponding order id."
   ]
  },
  {
   "cell_type": "markdown",
   "metadata": {},
   "source": [
    "# Question 136: (Python)\n",
    "\n",
    "**You have a list of integers that range from values 1 to n. Each value in the list is unique, however one random slot in the list is empty, making the size of the input array n-1. Can you write a function to find the missing integer?**\n",
    "\n",
    "Examples:"
   ]
  },
  {
   "cell_type": "code",
   "execution_count": null,
   "metadata": {},
   "outputs": [],
   "source": [
    "Input: arr[] = [1, 2, 4, 6, 3, 7, 8]\n",
    "Output: 5\n",
    "\n",
    "Input: arr[] = [1, 3, 2, 5, 6]\n",
    "Output: 4"
   ]
  },
  {
   "cell_type": "markdown",
   "metadata": {},
   "source": [
    "# Question 137: (Statistics)\n",
    "\n",
    "**Suppose you're working in a parts manufacturing plant, and you're running quality analysis on the gasket production line. Gaskets produced by your company will be defective 1% of the time, and are distributed in packs of 20.**\n",
    "\n",
    "**Your company has a policy where if 2 or more of the 20 gaskets in a given pack is defective, they will replace the entire package. What proportion of packages does the company need to replace?**\n",
    "\n",
    "*Hint: If you're struggling with where to start here, consider that this is a [binomial](https://en.wikipedia.org/wiki/Binomial_distribution) probability problem.*"
   ]
  },
  {
   "cell_type": "markdown",
   "metadata": {},
   "source": [
    "# Question 138: (Python)\n",
    "\n",
    "**Suppose you have a dataframe, df, with the following records:**\n",
    "\n",
    "\n",
    "Age|\tFavorite Color|\tGrade|\tName\n",
    "---|---|---|---\n",
    "20|\tblue|\t88|\tWillard Morris\n",
    "19|\tblue|\t95|\tAl Jennings\n",
    "22|\tyellow|\t92|\tOmar Mullins\n",
    "21|\tgreen|\t70|\tSpencer McDaniel\n",
    "\n",
    "**The dataframe is showing information about a group of students. Write code using Python Pandas to select the rows where the students' favorite color is blue or yellow and their grade is above 90.**\n",
    "\n",
    "Click [here](https://colab.research.google.com/drive/1QWoAm-4X_qRq10x8weKlkPs-h9IfuvFM#scrollTo=71qlS5ZZDBKE) to view this problem in an interactive Colab (Jupyter) notebook"
   ]
  },
  {
   "cell_type": "markdown",
   "metadata": {},
   "source": [
    "# Question 139: (SQL):\n",
    "\n",
    "**You are given the below tables, showing Store, Product, and Sales information for a chain of grocery stores. The columns are labeled in such a way that you should be able to interpret what each field is showing.**\n",
    "\n",
    "Store:\n",
    "\n",
    "store_id\t|location\n",
    "---|---\n",
    "91110|\tNew York\n",
    "99525|\tLos Angeles\n",
    "37340|\tTokyo\n",
    "32016|\tDetroit\n",
    "57507|\tLondon\n",
    "\n",
    "Product:\n",
    "\n",
    "\n",
    "product_id\t|product_name|\tprice_usd\n",
    "---|---|---\n",
    "31331|\tApples|\t2\n",
    "34611|\tLettuce|\t3\n",
    "49760|\tChicken\t|5\n",
    "26583|\tLemons\t|1\n",
    "20267|\tBread\t|2\n",
    "\n",
    "Sales:\n",
    "\n",
    "sale_id\t|product_id|\tstore_id|\tdate\n",
    "---|---|---|---\n",
    "1|\t31331|\t91110|\t02/20/2020\n",
    "1|\t31331|\t91110|\t02/20/2020\n",
    "2|\t34611|\t57507|\t02/20/2020\n",
    "3|\t26583|\t37340|\t02/20/2020\n",
    "3|\t34611|\t32016|\t02/20/2020\n",
    "3|\t20267|\t99525|\t02/21/2020\n",
    "4|\t31331|\t99525|\t02/21/2020\n",
    "5|\t49760|\t99525|\t02/21/2020\n",
    "6|\t34611|\t57507|\t02/21/2020\n",
    "7|\t31331|\t91110|\t02/21/2020\n",
    "\n",
    "**Using the tables above, write a SQL query to return the number of sales as well as the average sale price (in dollars) for a given location.**\n",
    "\n",
    "**Your output should return the following columns:**\n",
    "\n",
    "location|\tnumber_sales|\tavg_sale_price\n",
    "---|---|---\n",
    "X|\tY|\tZ\n",
    "A|\tB|\tC\n"
   ]
  },
  {
   "cell_type": "markdown",
   "metadata": {},
   "source": [
    "# Question 140: (Python)\n",
    "\n",
    "**You are given an array containing reviews for a popular iOS app below:**\n",
    "\n",
    "**reviews** = ['app is good, but forced updates are too frequent', 'love this app, use it daily to log calories', 'free version of this app has way too many ads', 'app doesn't load, 0/10']\n",
    "\n",
    "**Your task is to determine sentiment from the review above. To do this you first decide to write code to find the count of individual words across all the reviews.**"
   ]
  },
  {
   "cell_type": "code",
   "execution_count": 2,
   "metadata": {},
   "outputs": [],
   "source": [
    "reviews = [\"app is good, but forced updates are too frequent', 'love this app, use it daily to log calories', 'free version of this app has way too many ads', 'app doesn't load, 0/10\"]"
   ]
  },
  {
   "cell_type": "markdown",
   "metadata": {},
   "source": [
    "# Question 141: (Statistics)\n",
    "\n",
    "**Explain the differences between two statistical tests called t-tests and z-tests.**\n",
    "\n",
    "**In your explanation, create two examples of when you would use the tests, one scenario for t-tests and one scenario for z-tests. This will help highlight real life situations when one test would be utilized over the other.**"
   ]
  },
  {
   "cell_type": "markdown",
   "metadata": {},
   "source": [
    "# Question 142: (Python)\n",
    "\n",
    "**You are given the following [dataset](https://raw.githubusercontent.com/erood/interviewqs.com_code_snippets/master/Datasets/stock_prices_ddi.csv), containing closing stock prices for a number of large publicly traded companies. Using this, find the [Pearson correlation coefficient](https://www.investopedia.com/terms/p/pearsoncoefficient.asp) for the returns of each pair of equities, and plot a correlation matrix.**"
   ]
  },
  {
   "cell_type": "markdown",
   "metadata": {},
   "source": [
    "# Question 143: (SQL)\n",
    "\n",
    "**Suppose you work for Airbnb as an analyst. A team has come to you asking for a ranked list containing total # stays as well as total revenue, split by country. The time frame they're looking for is all stays that began in 2018. You can sort the list in descending order by revenue.**\n",
    "\n",
    "**The table schemas are provided below. Using SQL, write a query to answer this question.**\n",
    "\n",
    "Table: property_location_info\n",
    "\n",
    "Column Name|\tData Type|\tDescription\n",
    "---|---|---\n",
    "property_id|\tinteger|\tID of the property location\n",
    "country|\tstring|\tcountry code of the property location\n",
    "city_name|\tstring|\tname of city (note there can be multiple cities with the same name)\n",
    "subregion_name|\tstring|\tprovence, state, or subregion name\n",
    "address|\tstring|\taddress of property location\n",
    "\n",
    "\n",
    "Table: stays_info\n",
    "\n",
    "Column Name\t|Data Type|\tDescription\n",
    "---|---|---\n",
    "guest_id|\tinteger|\tID of guest\n",
    "property_id\t|integer|\tID of the property location\n",
    "host_id\t|integer|\tID of the host managing the property\n",
    "revenue\t|integer|\tcost of stay for guest in USD\n",
    "date_start|\tstring|\tstart day of stay, format is \"YYYY-mm-dd\"\n",
    "date_end|\tstring|\tend day of stay, format is \"YYYY-mm-dd\"\n",
    "stay_length|\tinteger|\tnumber of days for the stay\n",
    "airbnb_revenue|\tinteger\t|revenue that Airbnb collected on stay"
   ]
  },
  {
   "cell_type": "markdown",
   "metadata": {},
   "source": [
    "# Question 144: (Python)\n",
    "\n",
    "**A palindrome is \"a word, phrase, or sequence that reads the same backward as forward.\" Below are some example palindromes:**\n",
    "\n",
    "- madam\n",
    "- racecar\n",
    "- tat\n",
    "\n",
    "**Can you write a python function that takes in a string and outputs the longest palindrome? If the string itself is a palindrome, the function would output the original string.**"
   ]
  },
  {
   "cell_type": "markdown",
   "metadata": {},
   "source": [
    "# Question 145: (Statistics)\n",
    "\n",
    "**What is Naive Bayes' theorem, and why is it considered 'naive'? Why is it often used in practical applications rather than trying to implement an algorithm based on Bayes' Theorem (non-naive)?**"
   ]
  },
  {
   "cell_type": "markdown",
   "metadata": {},
   "source": [
    "# Question 146: (Python)\n",
    "\n",
    "**You are given a data set of Baby names. Using this, write code to determine what the top boy and girl names were in 2009.**\n",
    "\n",
    "**Below is code to import the dataset into a dataframe, to help get you started:**"
   ]
  },
  {
   "cell_type": "code",
   "execution_count": 3,
   "metadata": {},
   "outputs": [
    {
     "data": {
      "text/html": [
       "<div>\n",
       "<style scoped>\n",
       "    .dataframe tbody tr th:only-of-type {\n",
       "        vertical-align: middle;\n",
       "    }\n",
       "\n",
       "    .dataframe tbody tr th {\n",
       "        vertical-align: top;\n",
       "    }\n",
       "\n",
       "    .dataframe thead th {\n",
       "        text-align: right;\n",
       "    }\n",
       "</style>\n",
       "<table border=\"1\" class=\"dataframe\">\n",
       "  <thead>\n",
       "    <tr style=\"text-align: right;\">\n",
       "      <th></th>\n",
       "      <th>Unnamed: 0</th>\n",
       "      <th>Id</th>\n",
       "      <th>Name</th>\n",
       "      <th>Year</th>\n",
       "      <th>Gender</th>\n",
       "      <th>State</th>\n",
       "      <th>Count</th>\n",
       "    </tr>\n",
       "  </thead>\n",
       "  <tbody>\n",
       "    <tr>\n",
       "      <th>0</th>\n",
       "      <td>11349</td>\n",
       "      <td>11350</td>\n",
       "      <td>Emma</td>\n",
       "      <td>2004</td>\n",
       "      <td>F</td>\n",
       "      <td>AK</td>\n",
       "      <td>62</td>\n",
       "    </tr>\n",
       "    <tr>\n",
       "      <th>1</th>\n",
       "      <td>11350</td>\n",
       "      <td>11351</td>\n",
       "      <td>Madison</td>\n",
       "      <td>2004</td>\n",
       "      <td>F</td>\n",
       "      <td>AK</td>\n",
       "      <td>48</td>\n",
       "    </tr>\n",
       "    <tr>\n",
       "      <th>2</th>\n",
       "      <td>11351</td>\n",
       "      <td>11352</td>\n",
       "      <td>Hannah</td>\n",
       "      <td>2004</td>\n",
       "      <td>F</td>\n",
       "      <td>AK</td>\n",
       "      <td>46</td>\n",
       "    </tr>\n",
       "    <tr>\n",
       "      <th>3</th>\n",
       "      <td>11352</td>\n",
       "      <td>11353</td>\n",
       "      <td>Grace</td>\n",
       "      <td>2004</td>\n",
       "      <td>F</td>\n",
       "      <td>AK</td>\n",
       "      <td>44</td>\n",
       "    </tr>\n",
       "    <tr>\n",
       "      <th>4</th>\n",
       "      <td>11353</td>\n",
       "      <td>11354</td>\n",
       "      <td>Emily</td>\n",
       "      <td>2004</td>\n",
       "      <td>F</td>\n",
       "      <td>AK</td>\n",
       "      <td>41</td>\n",
       "    </tr>\n",
       "  </tbody>\n",
       "</table>\n",
       "</div>"
      ],
      "text/plain": [
       "   Unnamed: 0     Id     Name  Year Gender State  Count\n",
       "0       11349  11350     Emma  2004      F    AK     62\n",
       "1       11350  11351  Madison  2004      F    AK     48\n",
       "2       11351  11352   Hannah  2004      F    AK     46\n",
       "3       11352  11353    Grace  2004      F    AK     44\n",
       "4       11353  11354    Emily  2004      F    AK     41"
      ]
     },
     "execution_count": 3,
     "metadata": {},
     "output_type": "execute_result"
    }
   ],
   "source": [
    "#importing libaries\n",
    "import numpy as np\n",
    "import pandas as pd\n",
    "\n",
    "#reading csv into a dataframe\n",
    "baby_names = pd.read_csv('https://raw.githubusercontent.com/guipsamora/pandas_exercises/master/06_Stats/US_Baby_Names/US_Baby_Names_right.csv')\n",
    "\n",
    "#viewing dataframe\n",
    "baby_names.head()"
   ]
  },
  {
   "cell_type": "markdown",
   "metadata": {},
   "source": [
    "# Question 147: (SQL)\n",
    "\n",
    "**Suppose you are working for a company like Twitch.tv. Twitch.tv is a live streaming platform, where creators (e.g. the people creating content on the live streams) can receive donations from viewers.**\n",
    "\n",
    "**Using the tables below -- write a SQL query to find the top content creators by total watch time, filtering for users who watch the stream on the same day the stream was created.**\n",
    "\n",
    "Table 1: creatorStreams\n",
    "\n",
    "Column Name\t|Data Type|\tDescription\n",
    "---|---|---\n",
    "creator_id|\tinteger|\tunique id of content creator\n",
    "stream_id|\tinteger|\tunique id of stream\n",
    "date|\tstring|\tformat is \"YYYY-MM-DD\", date of stream session\n",
    "length|\tinteger|\tlength of streaming session\n",
    "\n",
    "Table2: viewWatches\n",
    "\n",
    "Column Name|\tData Type|\tDescription\n",
    "---|---|---\n",
    "viewer_id|\tinteger|\tunique id of viewer\n",
    "session_id\t|integer|\tunique use session id\n",
    "date|\tstring|\tformat is \"YYYY-MM-DD\", date of the view\n",
    "stream_id|\tinteger|\tunique session id of stream\n",
    "mins_viewed|\tinteger\t|total number of the viewer watched the stream"
   ]
  },
  {
   "cell_type": "markdown",
   "metadata": {},
   "source": [
    "# Question 148: (Python)\n",
    "\n",
    "**Suppose you have an unsorted array of integers. Can you find the number of subarrays that have a sum exactly to the given number *p*?**\n",
    "\n"
   ]
  },
  {
   "cell_type": "code",
   "execution_count": null,
   "metadata": {},
   "outputs": [],
   "source": [
    "Input: \n",
    "array = [10, 2, -2, -20, 10]\n",
    "k = -10\n",
    "Output : 3\n",
    "#The following subarrays [10, 2, -2, -20], [2, -2, -20, 10], [-20, 10] have a sum exactly equal to -10\n",
    "                \n",
    "Input: \n",
    "array = [9, 4, 20, 3, 10, 5]\n",
    "k = 33\n",
    "Output : 2\n",
    "#The following subarrays [9, 4, 20], [20, 3, 10] have a sum exactly equal to 33"
   ]
  },
  {
   "attachments": {
    "image.png": {
     "image/png": "[encoded data removed]"
    }
   },
   "cell_type": "markdown",
   "metadata": {},
   "source": [
    "# Question 149: (Statistics)\n",
    "\n",
    "**Can you explain how a receiver operating characteristic curve, or ROC curve, works?**\n",
    "\n",
    "example image:\n",
    "\n",
    "\n",
    "![image.png](attachment:image.png)"
   ]
  },
  {
   "cell_type": "code",
   "execution_count": null,
   "metadata": {},
   "outputs": [],
   "source": []
  }
 ],
 "metadata": {
  "kernelspec": {
   "display_name": "Python 3",
   "language": "python",
   "name": "python3"
  },
  "language_info": {
   "codemirror_mode": {
    "name": "ipython",
    "version": 3
   },
   "file_extension": ".py",
   "mimetype": "text/x-python",
   "name": "python",
   "nbconvert_exporter": "python",
   "pygments_lexer": "ipython3",
   "version": "3.7.6"
  }
 },
 "nbformat": 4,
 "nbformat_minor": 2
}
