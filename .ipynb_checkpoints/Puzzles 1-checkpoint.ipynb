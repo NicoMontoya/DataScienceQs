{
 "cells": [
  {
   "cell_type": "markdown",
   "metadata": {},
   "source": [
    "# $\\S$ Question 51: (SQL)\n",
    "\n",
    "**Given the following tables, write a SQL query to return the average weight for each adult animal:**\n",
    "\n",
    "\n",
    "table_1\n",
    "\n",
    "adult|\tanimal|\tanimal_id|\tsize\n",
    "---|---|---|---|\n",
    "False|\tcat\t|1|\tM\n",
    "True|\tdog\t|2\t|M\n",
    "False|\tcat|\t3\t|M\n",
    "False|\tfish\t|4|\tS\n",
    "True\t|dog|\t5\t|L\n",
    "True|cat|\t6|\tM\n",
    "True\t|cat\t|7\t|M\n",
    "    \n",
    "    \n",
    "table_2\n",
    "\n",
    "animal_id|\tweight\n",
    "---|---\n",
    "1|\t8\n",
    "2|\t10\n",
    "3|\t11\n",
    "4|\t1\n",
    "5|\t20\n",
    "6|\t12\n",
    "7|\t12\n"
   ]
  },
  {
   "cell_type": "code",
   "execution_count": null,
   "metadata": {},
   "outputs": [],
   "source": [
    "# %SQL\n",
    "\n",
    "# SELECT AVG(two.weight) as average_weight\n",
    "# FROM table_one one\n",
    "# LEFT JOIN table_two two ON two.animal_id = one.animal_id\n",
    "# WHERE one.adult = True"
   ]
  },
  {
   "cell_type": "markdown",
   "metadata": {},
   "source": [
    "# $\\S$ Question 52: (Python)\n",
    "\n",
    "**Given an array of integers and a number X, can you find the smallest subarray with sum greater than the given value? If there isn't a possible subarray, print \"Not possible\".**\n"
   ]
  },
  {
   "cell_type": "code",
   "execution_count": 55,
   "metadata": {},
   "outputs": [],
   "source": [
    "tester = [1, 10, 5, 2, 7]\n",
    "number  = 9\n",
    "\n",
    "\n",
    "\n",
    "def subby(arr, x):\n",
    "    \n",
    "    w = arr\n",
    "\n",
    "    while len(arr) != 1:\n",
    "\n",
    "\n",
    "        for i in range(len(arr)):\n",
    "            \n",
    "           if sum(arr[:i]) > x:\n",
    "            \n",
    "            if len(arr[:i]) < len(w):\n",
    "                   w = arr[:i]\n",
    "\n",
    "\n",
    "        arr.pop(0)\n",
    "        \n",
    "    if sum(w) < number:\n",
    "        return 'Not possible'\n",
    "    else:\n",
    "        return(w)"
   ]
  },
  {
   "cell_type": "code",
   "execution_count": 56,
   "metadata": {},
   "outputs": [
    {
     "data": {
      "text/plain": [
       "[10]"
      ]
     },
     "execution_count": 56,
     "metadata": {},
     "output_type": "execute_result"
    }
   ],
   "source": [
    "subby(tester, number)"
   ]
  },
  {
   "cell_type": "markdown",
   "metadata": {},
   "source": [
    "# $\\S$ Question 53: (Statistics)\n",
    "\n",
    "**Suppose 3 carsds are drawn from a standard 52-card deck, without replacement (meaning once a card is drawn it is removed from the deck). Based on this, find the probability that none of the 3 cards drawn are a diamond.**"
   ]
  },
  {
   "cell_type": "code",
   "execution_count": 2,
   "metadata": {},
   "outputs": [
    {
     "data": {
      "text/plain": [
       "0.4470588235294118"
      ]
     },
     "execution_count": 2,
     "metadata": {},
     "output_type": "execute_result"
    }
   ],
   "source": [
    "p_1 = 40 / 52\n",
    "p_2 = 39 / 51\n",
    "p_3 = 38 / 50\n",
    "\n",
    "p_no_diamonds = p_1 * p_2 * p_3\n",
    "\n",
    "p_no_diamonds"
   ]
  },
  {
   "cell_type": "markdown",
   "metadata": {},
   "source": [
    "# $\\S$ Question 54: (Python)\n",
    "\n",
    "**The following [dataset](https://drive.google.com/a/carvana.com/uc?id=1-3yZcIF46Iieu-KspeLHaddex781DpDZ&export=download) contains information on loans. Can you do the following to prepare the dataset for analysis?**\n",
    "\n",
    "1. Create a new column called \"loan_status_type\" which will categorize \"loan_status\" into the following:\n",
    "  - Current - loans currently outstanding\n",
    "  - Closed - loans that are no longer open\n",
    "2. Create a new column called \"loan_status_standing\" which will categorize \"loan_status\" into the following:\n",
    "  - Good - customers who have (so far) successfully met the condition of their loan (e.g. no missed payments, no late fees accumulated)\n",
    "  - Bad - customers who have missed payments / defaulted\n",
    "  \n",
    "  \n",
    "**With these 2 new columns, can you plot the month and year the loan was issued and the sum of the loan amounts by loan_status_type and loan_status_contract?**\n",
    "\n",
    "**The data provided is a subset of a larger dataset. You can find more information about the larger dataset [here](https://www.kaggle.com/wendykan/lending-club-loan-data#LCDataDictionary.xlsx).**\n",
    "\n",
    "\n",
    "\n",
    "LoanStatNew|\tDescription\n",
    "---|---|\n",
    "zip_code|\tThe first 3 numbers of the zip code provided by the borrower in the loan application.\n",
    "addr_state|\tThe state provided by the borrower in the loan application\n",
    "annual_inc|\tThe annual income provided by the borrower during registration.\n",
    "collection_recovery_fee|\tpost charge off collection fee\n",
    "collections_12_mths_ex_med|\tNumber of collections in 12 months excluding medical collections\n",
    "delinq_2yrs\t|The number of 30+ days past-due incidences of delinquency in the borrower’s credit file for the past 2 years\n",
    "desc|\tLoan description provided by the borrower\n",
    "dti|\tA ratio calculated using the borrower’s total monthly debt payments on the total debt obligations, excluding mortgage and the requested LC loan, divided by the borrower’s self-reported monthly income.\n",
    "earliest_cr_line|\tThe month the borrower’s earliest reported credit line was opened\n",
    "emp_length|\tEmployment length in years. Possible values are between 0 and 10 where 0 means less than one year and 10 means ten or more years.\n",
    "emp_title\t|The job title supplied by the Borrower when applying for the loan.\n",
    "funded_amnt\t|The total amount committed to that loan at that point in time.\n",
    "funded_amnt_inv|\tThe total amount committed by investors for that loan at that point in time.\n",
    "grade\t|LC assigned loan grade\n",
    "home_ownership|\tThe home ownership status provided by the borrower during registration. Our values are: RENT, OWN, MORTGAGE, OTHER.\n",
    "id\t|A unique LC assigned ID for the loan listing.\n",
    "initial_list_status|\tThe initial listing status of the loan. Possible values are – W, F\n",
    "inq_last_6mths|\tThe number of inquiries by creditors during the past 6 months.\n",
    "installment\t|The monthly payment owed by the borrower if the loan originates.\n",
    "int_rate|\tInterest Rate on the loan\n",
    "issue_d\t|The month which the loan was funded\n",
    "last_credit_pull_d\t|The most recent month LC pulled credit for this loan\n",
    "last_pymnt_amnt\t|Last total payment amount received\n",
    "last_pymnt_d\t|Last month payment was received\n",
    "loan_amnt\t|The listed amount of the loan applied for by the borrower. If at some point in time, the credit department reduces the loan amount, then it will be reflected in this value.\n",
    "loan_status|\tCurrent status of the loan\n",
    "member_id|\tA unique LC assigned Id for the borrower member.\n",
    "mths_since_last_delinq|\tThe number of months since the borrower’s last delinquency.\n",
    "mths_since_last_major_derog|\tMonths since most recent 90-day or worse rating\n",
    "mths_since_last_record\t|The number of months since the last public record.\n",
    "next_pymnt_d\t|Next scheduled payment date\n",
    "open_acc\t|The number of open credit lines in the borrower’s credit file.\n",
    "out_prncp\t|Remaining outstanding principal for total amount funded\n",
    "out_prncp_inv|\tRemaining outstanding principal for portion of total amount funded by investors\n",
    "policy_code\t|Publicly available policy_code=1, new products not publicly available policy_code=2\n",
    "pub_rec\t|Number of derogatory public records\n",
    "purpose|\tA category provided by the borrower for the loan request.\n",
    "pymnt_plan|\tIndicates if a payment plan has been put in place for the loan\n",
    "recoveries|\tpost charge off gross recovery\n",
    "revol_bal\t|Total credit revolving balance\n",
    "revol_util\t|Revolving line utilization rate, or the amount of credit the borrower is using relative to all available revolving credit.\n",
    "sub_grade\t|LC assigned loan subgrade\n",
    "term\t|The number of payments on the loan. Values are in months and can be either 36 or 60.\n",
    "title\t|The loan title provided by the borrower\n",
    "total_acc|\tThe total number of credit lines currently in the borrower’s credit file\n",
    "total_pymnt|\tPayments received to date for total amount funded\n",
    "total_pymnt_inv|\tPayments received to date for portion of total amount funded by investors\n",
    "total_rec_int|\tInterest received to date\n",
    "total_rec_late_fee|\tLate fees received to date\n",
    "total_rec_prncp\t|Principal received to date\n",
    "url|\tURL for the LC page with listing data."
   ]
  },
  {
   "cell_type": "code",
   "execution_count": 2,
   "metadata": {},
   "outputs": [
    {
     "name": "stderr",
     "output_type": "stream",
     "text": [
      "C:\\ProgramData\\Anaconda3\\lib\\site-packages\\IPython\\core\\interactiveshell.py:3057: DtypeWarning: Columns (6) have mixed types. Specify dtype option on import or set low_memory=False.\n",
      "  interactivity=interactivity, compiler=compiler, result=result)\n"
     ]
    }
   ],
   "source": [
    "import pandas as pd\n",
    "import numpy as np\n",
    "\n",
    "loan_df = pd.read_csv(r'C:\\Users\\NMontoya\\Documents\\Custom Office Templates\\PuzzleData\\trunc_loan_data.csv', encoding='ISO-8859-1')"
   ]
  },
  {
   "cell_type": "code",
   "execution_count": 3,
   "metadata": {},
   "outputs": [
    {
     "data": {
      "text/html": [
       "<div>\n",
       "<style scoped>\n",
       "    .dataframe tbody tr th:only-of-type {\n",
       "        vertical-align: middle;\n",
       "    }\n",
       "\n",
       "    .dataframe tbody tr th {\n",
       "        vertical-align: top;\n",
       "    }\n",
       "\n",
       "    .dataframe thead th {\n",
       "        text-align: right;\n",
       "    }\n",
       "</style>\n",
       "<table border=\"1\" class=\"dataframe\">\n",
       "  <thead>\n",
       "    <tr style=\"text-align: right;\">\n",
       "      <th></th>\n",
       "      <th>Unnamed: 0</th>\n",
       "      <th>annual_inc</th>\n",
       "      <th>collection_recovery_fee</th>\n",
       "      <th>collections_12_mths_ex_med</th>\n",
       "      <th>delinq_2yrs</th>\n",
       "      <th>dti</th>\n",
       "      <th>funded_amnt</th>\n",
       "      <th>funded_amnt_inv</th>\n",
       "      <th>id</th>\n",
       "      <th>inq_last_6mths</th>\n",
       "      <th>...</th>\n",
       "      <th>recoveries</th>\n",
       "      <th>revol_bal</th>\n",
       "      <th>revol_util</th>\n",
       "      <th>total_acc</th>\n",
       "      <th>total_pymnt</th>\n",
       "      <th>total_pymnt_inv</th>\n",
       "      <th>total_rec_int</th>\n",
       "      <th>total_rec_late_fee</th>\n",
       "      <th>total_rec_prncp</th>\n",
       "      <th>url</th>\n",
       "    </tr>\n",
       "  </thead>\n",
       "  <tbody>\n",
       "    <tr>\n",
       "      <th>count</th>\n",
       "      <td>8.555020e+05</td>\n",
       "      <td>8.555020e+05</td>\n",
       "      <td>855502.000000</td>\n",
       "      <td>855502.000000</td>\n",
       "      <td>855502.000000</td>\n",
       "      <td>855502.000000</td>\n",
       "      <td>855502.000000</td>\n",
       "      <td>855502.000000</td>\n",
       "      <td>855502.0</td>\n",
       "      <td>855502.000000</td>\n",
       "      <td>...</td>\n",
       "      <td>855502.000000</td>\n",
       "      <td>8.555020e+05</td>\n",
       "      <td>855502.000000</td>\n",
       "      <td>855502.000000</td>\n",
       "      <td>855502.000000</td>\n",
       "      <td>855502.000000</td>\n",
       "      <td>855502.000000</td>\n",
       "      <td>8.555020e+05</td>\n",
       "      <td>855502.000000</td>\n",
       "      <td>855502.0</td>\n",
       "    </tr>\n",
       "    <tr>\n",
       "      <th>mean</th>\n",
       "      <td>9.229925e+05</td>\n",
       "      <td>7.825165e+04</td>\n",
       "      <td>35.960533</td>\n",
       "      <td>0.020982</td>\n",
       "      <td>0.354076</td>\n",
       "      <td>19.003015</td>\n",
       "      <td>14983.191009</td>\n",
       "      <td>14977.015363</td>\n",
       "      <td>0.0</td>\n",
       "      <td>0.566982</td>\n",
       "      <td>...</td>\n",
       "      <td>203.321485</td>\n",
       "      <td>1.730852e+04</td>\n",
       "      <td>52.207361</td>\n",
       "      <td>24.999151</td>\n",
       "      <td>14798.687358</td>\n",
       "      <td>14792.591478</td>\n",
       "      <td>2818.156308</td>\n",
       "      <td>2.080421e+00</td>\n",
       "      <td>11775.129144</td>\n",
       "      <td>0.0</td>\n",
       "    </tr>\n",
       "    <tr>\n",
       "      <th>std</th>\n",
       "      <td>2.469623e+05</td>\n",
       "      <td>7.566224e+04</td>\n",
       "      <td>158.307604</td>\n",
       "      <td>0.163635</td>\n",
       "      <td>0.938743</td>\n",
       "      <td>9.686841</td>\n",
       "      <td>8790.896227</td>\n",
       "      <td>8788.080189</td>\n",
       "      <td>0.0</td>\n",
       "      <td>0.864599</td>\n",
       "      <td>...</td>\n",
       "      <td>887.415722</td>\n",
       "      <td>2.406750e+04</td>\n",
       "      <td>24.120351</td>\n",
       "      <td>12.065802</td>\n",
       "      <td>9767.301967</td>\n",
       "      <td>9763.934143</td>\n",
       "      <td>2829.331245</td>\n",
       "      <td>1.441029e+01</td>\n",
       "      <td>8335.838393</td>\n",
       "      <td>0.0</td>\n",
       "    </tr>\n",
       "    <tr>\n",
       "      <th>min</th>\n",
       "      <td>4.952420e+05</td>\n",
       "      <td>0.000000e+00</td>\n",
       "      <td>0.000000</td>\n",
       "      <td>0.000000</td>\n",
       "      <td>0.000000</td>\n",
       "      <td>-1.000000</td>\n",
       "      <td>1000.000000</td>\n",
       "      <td>775.000000</td>\n",
       "      <td>0.0</td>\n",
       "      <td>0.000000</td>\n",
       "      <td>...</td>\n",
       "      <td>0.000000</td>\n",
       "      <td>0.000000e+00</td>\n",
       "      <td>0.000000</td>\n",
       "      <td>2.000000</td>\n",
       "      <td>0.000000</td>\n",
       "      <td>0.000000</td>\n",
       "      <td>0.000000</td>\n",
       "      <td>-9.500000e-09</td>\n",
       "      <td>0.000000</td>\n",
       "      <td>0.0</td>\n",
       "    </tr>\n",
       "    <tr>\n",
       "      <th>25%</th>\n",
       "      <td>7.091172e+05</td>\n",
       "      <td>4.700000e+04</td>\n",
       "      <td>0.000000</td>\n",
       "      <td>0.000000</td>\n",
       "      <td>0.000000</td>\n",
       "      <td>12.440000</td>\n",
       "      <td>8000.000000</td>\n",
       "      <td>8000.000000</td>\n",
       "      <td>0.0</td>\n",
       "      <td>0.000000</td>\n",
       "      <td>...</td>\n",
       "      <td>0.000000</td>\n",
       "      <td>6.230000e+03</td>\n",
       "      <td>34.200000</td>\n",
       "      <td>16.000000</td>\n",
       "      <td>7267.058859</td>\n",
       "      <td>7263.125000</td>\n",
       "      <td>923.650000</td>\n",
       "      <td>0.000000e+00</td>\n",
       "      <td>5407.612500</td>\n",
       "      <td>0.0</td>\n",
       "    </tr>\n",
       "    <tr>\n",
       "      <th>50%</th>\n",
       "      <td>9.229925e+05</td>\n",
       "      <td>6.500000e+04</td>\n",
       "      <td>0.000000</td>\n",
       "      <td>0.000000</td>\n",
       "      <td>0.000000</td>\n",
       "      <td>18.400000</td>\n",
       "      <td>13100.000000</td>\n",
       "      <td>13100.000000</td>\n",
       "      <td>0.0</td>\n",
       "      <td>0.000000</td>\n",
       "      <td>...</td>\n",
       "      <td>0.000000</td>\n",
       "      <td>1.159100e+04</td>\n",
       "      <td>52.300000</td>\n",
       "      <td>23.000000</td>\n",
       "      <td>12424.215000</td>\n",
       "      <td>12418.650000</td>\n",
       "      <td>1850.350000</td>\n",
       "      <td>0.000000e+00</td>\n",
       "      <td>10000.000000</td>\n",
       "      <td>0.0</td>\n",
       "    </tr>\n",
       "    <tr>\n",
       "      <th>75%</th>\n",
       "      <td>1.136868e+06</td>\n",
       "      <td>9.300000e+04</td>\n",
       "      <td>0.000000</td>\n",
       "      <td>0.000000</td>\n",
       "      <td>0.000000</td>\n",
       "      <td>25.100000</td>\n",
       "      <td>20000.000000</td>\n",
       "      <td>20000.000000</td>\n",
       "      <td>0.0</td>\n",
       "      <td>1.000000</td>\n",
       "      <td>...</td>\n",
       "      <td>0.000000</td>\n",
       "      <td>2.073400e+04</td>\n",
       "      <td>70.600000</td>\n",
       "      <td>32.000000</td>\n",
       "      <td>20343.310000</td>\n",
       "      <td>20334.035000</td>\n",
       "      <td>3745.460000</td>\n",
       "      <td>0.000000e+00</td>\n",
       "      <td>16000.000000</td>\n",
       "      <td>0.0</td>\n",
       "    </tr>\n",
       "    <tr>\n",
       "      <th>max</th>\n",
       "      <td>1.350743e+06</td>\n",
       "      <td>9.573072e+06</td>\n",
       "      <td>6687.622800</td>\n",
       "      <td>20.000000</td>\n",
       "      <td>39.000000</td>\n",
       "      <td>999.000000</td>\n",
       "      <td>40000.000000</td>\n",
       "      <td>40000.000000</td>\n",
       "      <td>0.0</td>\n",
       "      <td>6.000000</td>\n",
       "      <td>...</td>\n",
       "      <td>37153.460000</td>\n",
       "      <td>2.904836e+06</td>\n",
       "      <td>193.000000</td>\n",
       "      <td>176.000000</td>\n",
       "      <td>61184.573797</td>\n",
       "      <td>61184.570000</td>\n",
       "      <td>26948.660000</td>\n",
       "      <td>1.427250e+03</td>\n",
       "      <td>40000.000000</td>\n",
       "      <td>0.0</td>\n",
       "    </tr>\n",
       "  </tbody>\n",
       "</table>\n",
       "<p>8 rows × 33 columns</p>\n",
       "</div>"
      ],
      "text/plain": [
       "         Unnamed: 0    annual_inc  collection_recovery_fee  \\\n",
       "count  8.555020e+05  8.555020e+05            855502.000000   \n",
       "mean   9.229925e+05  7.825165e+04                35.960533   \n",
       "std    2.469623e+05  7.566224e+04               158.307604   \n",
       "min    4.952420e+05  0.000000e+00                 0.000000   \n",
       "25%    7.091172e+05  4.700000e+04                 0.000000   \n",
       "50%    9.229925e+05  6.500000e+04                 0.000000   \n",
       "75%    1.136868e+06  9.300000e+04                 0.000000   \n",
       "max    1.350743e+06  9.573072e+06              6687.622800   \n",
       "\n",
       "       collections_12_mths_ex_med    delinq_2yrs            dti  \\\n",
       "count               855502.000000  855502.000000  855502.000000   \n",
       "mean                     0.020982       0.354076      19.003015   \n",
       "std                      0.163635       0.938743       9.686841   \n",
       "min                      0.000000       0.000000      -1.000000   \n",
       "25%                      0.000000       0.000000      12.440000   \n",
       "50%                      0.000000       0.000000      18.400000   \n",
       "75%                      0.000000       0.000000      25.100000   \n",
       "max                     20.000000      39.000000     999.000000   \n",
       "\n",
       "         funded_amnt  funded_amnt_inv        id  inq_last_6mths  ...  \\\n",
       "count  855502.000000    855502.000000  855502.0   855502.000000  ...   \n",
       "mean    14983.191009     14977.015363       0.0        0.566982  ...   \n",
       "std      8790.896227      8788.080189       0.0        0.864599  ...   \n",
       "min      1000.000000       775.000000       0.0        0.000000  ...   \n",
       "25%      8000.000000      8000.000000       0.0        0.000000  ...   \n",
       "50%     13100.000000     13100.000000       0.0        0.000000  ...   \n",
       "75%     20000.000000     20000.000000       0.0        1.000000  ...   \n",
       "max     40000.000000     40000.000000       0.0        6.000000  ...   \n",
       "\n",
       "          recoveries     revol_bal     revol_util      total_acc  \\\n",
       "count  855502.000000  8.555020e+05  855502.000000  855502.000000   \n",
       "mean      203.321485  1.730852e+04      52.207361      24.999151   \n",
       "std       887.415722  2.406750e+04      24.120351      12.065802   \n",
       "min         0.000000  0.000000e+00       0.000000       2.000000   \n",
       "25%         0.000000  6.230000e+03      34.200000      16.000000   \n",
       "50%         0.000000  1.159100e+04      52.300000      23.000000   \n",
       "75%         0.000000  2.073400e+04      70.600000      32.000000   \n",
       "max     37153.460000  2.904836e+06     193.000000     176.000000   \n",
       "\n",
       "         total_pymnt  total_pymnt_inv  total_rec_int  total_rec_late_fee  \\\n",
       "count  855502.000000    855502.000000  855502.000000        8.555020e+05   \n",
       "mean    14798.687358     14792.591478    2818.156308        2.080421e+00   \n",
       "std      9767.301967      9763.934143    2829.331245        1.441029e+01   \n",
       "min         0.000000         0.000000       0.000000       -9.500000e-09   \n",
       "25%      7267.058859      7263.125000     923.650000        0.000000e+00   \n",
       "50%     12424.215000     12418.650000    1850.350000        0.000000e+00   \n",
       "75%     20343.310000     20334.035000    3745.460000        0.000000e+00   \n",
       "max     61184.573797     61184.570000   26948.660000        1.427250e+03   \n",
       "\n",
       "       total_rec_prncp       url  \n",
       "count    855502.000000  855502.0  \n",
       "mean      11775.129144       0.0  \n",
       "std        8335.838393       0.0  \n",
       "min           0.000000       0.0  \n",
       "25%        5407.612500       0.0  \n",
       "50%       10000.000000       0.0  \n",
       "75%       16000.000000       0.0  \n",
       "max       40000.000000       0.0  \n",
       "\n",
       "[8 rows x 33 columns]"
      ]
     },
     "execution_count": 3,
     "metadata": {},
     "output_type": "execute_result"
    }
   ],
   "source": [
    "loan_df.describe()"
   ]
  },
  {
   "cell_type": "code",
   "execution_count": 26,
   "metadata": {},
   "outputs": [],
   "source": [
    "## find loan status type.. 'current' or 'closed'\n",
    "\n",
    "\n",
    "\n",
    "loan_m = loan_df[['issue_d', 'int_rate', 'installment', 'last_pymnt_amnt', 'loan_status', 'next_pymnt_d', 'out_prncp', 'term', 'total_pymnt', 'total_rec_int', 'loan_status_type', 'loan_status_standing']]"
   ]
  },
  {
   "cell_type": "code",
   "execution_count": 6,
   "metadata": {},
   "outputs": [
    {
     "data": {
      "text/plain": [
       "Fully Paid            506169\n",
       "Current               197111\n",
       "Charged Off           141942\n",
       "Late (31-120 days)      6563\n",
       "In Grace Period         2699\n",
       "Late (16-30 days)       1006\n",
       "Default                   12\n",
       "Name: loan_status, dtype: int64"
      ]
     },
     "execution_count": 6,
     "metadata": {},
     "output_type": "execute_result"
    }
   ],
   "source": [
    "loan_df['loan_status'].value_counts()"
   ]
  },
  {
   "cell_type": "code",
   "execution_count": 7,
   "metadata": {},
   "outputs": [],
   "source": [
    "loan_df['loan_status_type'] = np.nan"
   ]
  },
  {
   "cell_type": "code",
   "execution_count": 8,
   "metadata": {},
   "outputs": [
    {
     "name": "stderr",
     "output_type": "stream",
     "text": [
      "C:\\ProgramData\\Anaconda3\\lib\\site-packages\\pandas\\core\\indexing.py:190: SettingWithCopyWarning: \n",
      "A value is trying to be set on a copy of a slice from a DataFrame\n",
      "\n",
      "See the caveats in the documentation: http://pandas.pydata.org/pandas-docs/stable/indexing.html#indexing-view-versus-copy\n",
      "  self._setitem_with_indexer(indexer, value)\n"
     ]
    }
   ],
   "source": [
    "# df.loc[df['shield'] > 35] = 0\n",
    "\n",
    "loan_df['loan_status_type'].loc[loan_df['loan_status'] == 'Fully Paid'] = 'closed'\n",
    "loan_df['loan_status_type'].loc[loan_df['loan_status'] == 'Default'] = 'closed'\n",
    "loan_df['loan_status_type'].loc[loan_df['loan_status'] == 'Current'] = 'current'\n",
    "loan_df['loan_status_type'].loc[loan_df['loan_status'] == 'Charged Off'] = 'closed'\n",
    "loan_df['loan_status_type'].loc[loan_df['loan_status'] == 'Late (31-120 days)'] = 'current'\n",
    "loan_df['loan_status_type'].loc[loan_df['loan_status'] == 'In Grace Period'] = 'current'\n",
    "loan_df['loan_status_type'].loc[loan_df['loan_status'] == 'Late (16-30 days)'] = 'current'"
   ]
  },
  {
   "cell_type": "code",
   "execution_count": 11,
   "metadata": {},
   "outputs": [],
   "source": [
    "loan_df['loan_status_standing'] = loan_df.apply(lambda x: 'Bad' if (x['loan_status'] == 'Late (16-30 days)' or x['loan_status'] == 'Late (31-120 days)' or x['loan_status'] == 'Default') else 'Good', axis=1)"
   ]
  },
  {
   "cell_type": "code",
   "execution_count": 15,
   "metadata": {},
   "outputs": [
    {
     "data": {
      "text/html": [
       "<div>\n",
       "<style scoped>\n",
       "    .dataframe tbody tr th:only-of-type {\n",
       "        vertical-align: middle;\n",
       "    }\n",
       "\n",
       "    .dataframe tbody tr th {\n",
       "        vertical-align: top;\n",
       "    }\n",
       "\n",
       "    .dataframe thead th {\n",
       "        text-align: right;\n",
       "    }\n",
       "</style>\n",
       "<table border=\"1\" class=\"dataframe\">\n",
       "  <thead>\n",
       "    <tr style=\"text-align: right;\">\n",
       "      <th></th>\n",
       "      <th>issue_d</th>\n",
       "      <th>int_rate</th>\n",
       "      <th>installment</th>\n",
       "      <th>last_pymnt_amnt</th>\n",
       "      <th>loan_status</th>\n",
       "      <th>next_pymnt_d</th>\n",
       "      <th>out_prncp</th>\n",
       "      <th>term</th>\n",
       "      <th>total_pymnt</th>\n",
       "      <th>total_rec_int</th>\n",
       "      <th>loan_status_type</th>\n",
       "      <th>loan_status_standing</th>\n",
       "    </tr>\n",
       "  </thead>\n",
       "  <tbody>\n",
       "    <tr>\n",
       "      <th>0</th>\n",
       "      <td>Sep-2016</td>\n",
       "      <td>12.79</td>\n",
       "      <td>268.75</td>\n",
       "      <td>268.75</td>\n",
       "      <td>Current</td>\n",
       "      <td>Mar-2019</td>\n",
       "      <td>2063.66</td>\n",
       "      <td>36 months</td>\n",
       "      <td>7521.680000</td>\n",
       "      <td>1585.34</td>\n",
       "      <td>current</td>\n",
       "      <td>Good</td>\n",
       "    </tr>\n",
       "    <tr>\n",
       "      <th>1</th>\n",
       "      <td>Sep-2016</td>\n",
       "      <td>17.99</td>\n",
       "      <td>507.76</td>\n",
       "      <td>507.76</td>\n",
       "      <td>Charged Off</td>\n",
       "      <td>0</td>\n",
       "      <td>0.00</td>\n",
       "      <td>60 months</td>\n",
       "      <td>7366.250000</td>\n",
       "      <td>3341.65</td>\n",
       "      <td>closed</td>\n",
       "      <td>Good</td>\n",
       "    </tr>\n",
       "    <tr>\n",
       "      <th>2</th>\n",
       "      <td>Sep-2016</td>\n",
       "      <td>8.59</td>\n",
       "      <td>316.10</td>\n",
       "      <td>35.67</td>\n",
       "      <td>Fully Paid</td>\n",
       "      <td>0</td>\n",
       "      <td>0.00</td>\n",
       "      <td>36 months</td>\n",
       "      <td>10962.479076</td>\n",
       "      <td>962.48</td>\n",
       "      <td>closed</td>\n",
       "      <td>Good</td>\n",
       "    </tr>\n",
       "    <tr>\n",
       "      <th>3</th>\n",
       "      <td>Sep-2016</td>\n",
       "      <td>21.49</td>\n",
       "      <td>880.02</td>\n",
       "      <td>31447.60</td>\n",
       "      <td>Fully Paid</td>\n",
       "      <td>0</td>\n",
       "      <td>0.00</td>\n",
       "      <td>60 months</td>\n",
       "      <td>35770.812746</td>\n",
       "      <td>3570.81</td>\n",
       "      <td>closed</td>\n",
       "      <td>Good</td>\n",
       "    </tr>\n",
       "    <tr>\n",
       "      <th>4</th>\n",
       "      <td>Sep-2016</td>\n",
       "      <td>8.99</td>\n",
       "      <td>82.67</td>\n",
       "      <td>2492.06</td>\n",
       "      <td>Fully Paid</td>\n",
       "      <td>0</td>\n",
       "      <td>0.00</td>\n",
       "      <td>36 months</td>\n",
       "      <td>2662.590238</td>\n",
       "      <td>62.59</td>\n",
       "      <td>closed</td>\n",
       "      <td>Good</td>\n",
       "    </tr>\n",
       "  </tbody>\n",
       "</table>\n",
       "</div>"
      ],
      "text/plain": [
       "    issue_d  int_rate  installment  last_pymnt_amnt  loan_status next_pymnt_d  \\\n",
       "0  Sep-2016     12.79       268.75           268.75      Current     Mar-2019   \n",
       "1  Sep-2016     17.99       507.76           507.76  Charged Off            0   \n",
       "2  Sep-2016      8.59       316.10            35.67   Fully Paid            0   \n",
       "3  Sep-2016     21.49       880.02         31447.60   Fully Paid            0   \n",
       "4  Sep-2016      8.99        82.67          2492.06   Fully Paid            0   \n",
       "\n",
       "   out_prncp        term   total_pymnt  total_rec_int loan_status_type  \\\n",
       "0    2063.66   36 months   7521.680000        1585.34          current   \n",
       "1       0.00   60 months   7366.250000        3341.65           closed   \n",
       "2       0.00   36 months  10962.479076         962.48           closed   \n",
       "3       0.00   60 months  35770.812746        3570.81           closed   \n",
       "4       0.00   36 months   2662.590238          62.59           closed   \n",
       "\n",
       "  loan_status_standing  \n",
       "0                 Good  \n",
       "1                 Good  \n",
       "2                 Good  \n",
       "3                 Good  \n",
       "4                 Good  "
      ]
     },
     "execution_count": 15,
     "metadata": {},
     "output_type": "execute_result"
    }
   ],
   "source": [
    "loan_df[['issue_d', 'int_rate', 'installment', 'last_pymnt_amnt', 'loan_status', 'next_pymnt_d', 'out_prncp', 'term', 'total_pymnt', 'total_rec_int', 'loan_status_type', 'loan_status_standing']].head()"
   ]
  },
  {
   "cell_type": "code",
   "execution_count": 27,
   "metadata": {},
   "outputs": [],
   "source": [
    "ctdf = (loan_m.reset_index()\n",
    "          .groupby(['issue_d','loan_status_standing'], as_index=False)\n",
    "          .count()\n",
    "          # rename isn't strictly necessary here, it's just for readability\n",
    "          .rename(columns={'index':'ct'})\n",
    "       )"
   ]
  },
  {
   "cell_type": "code",
   "execution_count": 28,
   "metadata": {},
   "outputs": [
    {
     "data": {
      "image/png": "[encoded data removed]",
      "text/plain": [
       "<Figure size 432x288 with 1 Axes>"
      ]
     },
     "metadata": {
      "needs_background": "light"
     },
     "output_type": "display_data"
    }
   ],
   "source": [
    "from matplotlib import pyplot as plt\n",
    "fig, ax = plt.subplots()\n",
    "\n",
    "# key gives the group name (i.e. category), data gives the actual values\n",
    "for key, data in ctdf.groupby('loan_status_standing'):\n",
    "    data.plot(x='issue_d', y='ct', ax=ax, label=key)"
   ]
  },
  {
   "cell_type": "markdown",
   "metadata": {},
   "source": [
    "# $\\S$ Question 55: (SQL)\n",
    "\n",
    "**You have the following dataset of chocolate bar ratings. You can assume you have this data in a table called InternationalChocolateRatings.**\n",
    "\n",
    "**Can you write a SQL query to summarize the BroadBeanOrigin for US manufactured chocolate bars and provide the number of reviews, average rating, and average cocoa percent?**\n",
    "\n",
    "\n",
    "Column Name in CSV|\tColumn Name for SQL|\tColumn Type|\tShort description\n",
    "---|---|---|---\n",
    "Company|\tCompany|\tstring|\tName of the company manufacturing the bar\n",
    "Specific Bean Origin or Bar Name|\tSpecificBeanOrigin|\tstring\t|The specific geo-region of origin for the bar.\n",
    "REF value|\tREFValue|\tint|\tValue linked to when the review was entered in the database. Higher = more recent.\n",
    "Review Date|\tReviewDate|\tint\t|Year of publication of the review.\n",
    "Cocoa Percent|\tCocoaPercent\t|double\t|Cocoa percentage (darkness) of the chocolate bar being reviewed.\n",
    "Company Location|\tCompanyLocation\t|string\t|Manufacturer base country.\n",
    "Rating\t|Rating\t|int|\tExpert rating for the bar.\n",
    "Bean Type|\tBeanType|\tstring|\tThe variety (breed) of bean used, if provided.\n",
    "Broad Bean Origin\t|BroadBeanOrigin\t|string\t|The broad geo-region of origin for the bean."
   ]
  },
  {
   "cell_type": "code",
   "execution_count": null,
   "metadata": {},
   "outputs": [],
   "source": [
    "%SQL\n",
    "\n",
    "SELECT COUNT(*) as number_of_reviews\n",
    "    ,  AVG(Rating) as average_rating\n",
    "    ,  AVG(CocoaPercent) as average_cocoa_percent\n",
    "FROM InternationalChocolateRatings\n",
    "WHERE CompanyLocation = 'United States'\n",
    "GROUP BY CompanyLocation"
   ]
  },
  {
   "cell_type": "markdown",
   "metadata": {},
   "source": [
    "# $\\S$ Question 56: (Python)\n",
    "\n",
    "**Given an integer matrix, m, with an odd # dimensions, n x n, (e.g 3 x 3, 5 x 5, etc), find the sum of middle row as well as the middle column.**\n",
    "\n",
    "For example:"
   ]
  },
  {
   "cell_type": "code",
   "execution_count": 64,
   "metadata": {},
   "outputs": [
    {
     "name": "stdout",
     "output_type": "stream",
     "text": [
      " Sum middle row =  65 \n",
      " Sum middle column = 65\n"
     ]
    }
   ],
   "source": [
    "#Given\n",
    "three_matrix = [[1,2,3],\n",
    "                [4,5,6],\n",
    "                [7,8,9]]\n",
    "\n",
    "\n",
    "five_matrix = [[1,2,3,4,5],\n",
    "               [6,7,8,9,10],\n",
    "               [11,12,13,14,15],\n",
    "               [16,17,18,19,20],\n",
    "               [21,22,23,24,25]]\n",
    "\n",
    "seven_matrix = [[1,2,3,4,5,6,7],\n",
    "               [8,9,10,11,12,13,14],\n",
    "               [15,16,17,18,19,20,21],\n",
    "               [22,23,24,25,26,27,28],\n",
    "               [29,30,31,32,33,34,35],\n",
    "               [36,37,38,39,40,41,42],\n",
    "               [43,44,45,46,47,48,49]]\n",
    "\n",
    "\n",
    "# #Your program would output:\n",
    "# 'Sum middle row =' 15 #(e.g. 4+5+6)\n",
    "# 'Sum middle column =' 15 #(e.g. 2+5+8)\n",
    "\n",
    "def middles(matrix):\n",
    "    sum_middle_column = 0\n",
    "    sum_middle_row = 0\n",
    "    \n",
    "    for i in range((len(matrix) // 2) + (len(matrix) // 2)+1):\n",
    "        sum_middle_column += matrix[i][len(matrix) // 2]\n",
    "        sum_middle_row += matrix[len(matrix)//2][i]\n",
    "        \n",
    "        \n",
    "    print(\" Sum middle row = \", sum_middle_row, \"\\n\", \"Sum middle column =\",sum_middle_column)\n",
    "    \n",
    "middles(five_matrix)"
   ]
  },
  {
   "cell_type": "markdown",
   "metadata": {},
   "source": [
    "# Question 57: (Statistics)\n",
    "\n",
    "**Assume that hair color is a genetically inherited trait controlled by one gene with two alleles. You can assume that Brown hair and Red hair pose a 50/50 chance of inheritance when mixed. A brown-haired man and a red-haired woman have 3 children. The first has red hair. What is the probability that all three children will have red hair?**"
   ]
  },
  {
   "cell_type": "code",
   "execution_count": 4,
   "metadata": {},
   "outputs": [],
   "source": [
    "b_br = .5\n",
    "r_br = .5\n",
    "\n",
    "p_all_red_given_first_red = ?"
   ]
  },
  {
   "cell_type": "markdown",
   "metadata": {},
   "source": [
    "# Question 58: (Python)\n",
    "\n",
    "**The following [dataset](https://docs.google.com/spreadsheets/u/1/d/1lJL6IYuQqBV8xTdc5IZPjz_pKRluSUeHuKUOJss7uB8/edit#gid=1240005) contains the following fields that describe employee attrition for a company:**\n",
    "\n",
    "- satisfaction_level: value between 0 - 1 that describes how satisfied the employee was at their current role\n",
    "- last_evaluation: value between 0 - 1 that describes how well the employee performed\n",
    "- number_project: number of projects the employee was on\n",
    "- average_montly_hours: average number of hours worked monthly time_spend_company: number of years at the company\n",
    "- work_accident: boolean for if the employee has been in an accident at work\n",
    "- left: boolean that describes if the employee has left the company\n",
    "- role: employee's role\n",
    "- salary: low, medium, high --> indicates how high employee salary was\n",
    "\n",
    "**Can you describe which factors are the strongest indicator if an employee is going to attrit?\n",
    "Hint: If you're having trouble finding a starting point, you can reference this [method](https://docs.scipy.org/doc/scipy/reference/generated/scipy.stats.pearsonr.html) and this [wikipedia page](https://en.wikipedia.org/wiki/Correlation_and_dependence).**\n",
    "\n",
    "**Click [here](https://colab.research.google.com/drive/1ndkomMv_UuqgCSlpd0VqU5FVYoh50U71) to view this problem in an interactive Colab (Jupyter) notebook.**\n"
   ]
  },
  {
   "cell_type": "markdown",
   "metadata": {},
   "source": [
    "# Question 59: (SQL)\n",
    "\n",
    "**Suppose you're provided two tables, as shown below. One table contains the price for a given product in a given region, while another contains sales for the past week.**\n",
    "\n",
    "\n",
    "**Table:** product_pricing\n",
    "\n",
    "region|\tproduct|\tprice\n",
    "---|---|---\n",
    "Americas|\tPepsi|\t2.2\n",
    "EMEA|\tPepsi|\t1.8\n",
    "APAC|\tPepsi|\t1.5\n",
    "Americas|\tCoke|\t2.5\n",
    "EMEA|\tCoke|\t2.0\n",
    "APAC|\tCoke|\t1.8\n",
    "\n",
    "**Table:** product_sales\n",
    "\n",
    "region|\tproduct|\tnum_sales\n",
    "---|---|---\n",
    "Americas|\tPepsi|\t20\n",
    "EMEA|\tPepsi|\t25\n",
    "APAC|\tPepsi|\t22\n",
    "Americas|\tCoke|\t30\n",
    "EMEA|\tCoke|\t10\n",
    "APAC|\tCoke|\t13\n",
    "\n",
    "**Given the two tables, write a SQL query to pull the total earnings for each product/region combination.**"
   ]
  },
  {
   "cell_type": "markdown",
   "metadata": {},
   "source": [
    "# $\\S$Question 60: (Python)\n",
    "\n",
    "**Given the following Python function, write out what the output would be at each stage:**"
   ]
  },
  {
   "cell_type": "code",
   "execution_count": 1,
   "metadata": {},
   "outputs": [
    {
     "name": "stdout",
     "output_type": "stream",
     "text": [
      "output:\n",
      "3\n",
      "output:\n",
      "4\n",
      "output:\n",
      "4\n"
     ]
    }
   ],
   "source": [
    "n = 1\n",
    "while n < 3:\n",
    "    m = n + 1\n",
    "    while m < 4:\n",
    "        m += 1\n",
    "        print('output:')\n",
    "        print(m)\n",
    "    n+= 1"
   ]
  },
  {
   "cell_type": "markdown",
   "metadata": {},
   "source": [
    "# Question 61: (Statistics)\n",
    "\n",
    "**In statistical hypothesis testing, explain the difference between Type I and Type II error. You should be able to provide an example on the fly here.**"
   ]
  },
  {
   "cell_type": "markdown",
   "metadata": {},
   "source": [
    "# $\\S$ Question 62: (Python)\n",
    "\n",
    "**Suppose you have the following [dataset*](https://docs.google.com/spreadsheets/u/1/d/1c-ggjDyeZ_ByKOe5J8mKkZViDo_FW8EYvzkCRQc-Ds0/edit?usp=sharing), which is a list of leaders for all independent states in the world as outlined in Gleditsch and Ward.**\n",
    "\n",
    "**With this data, for all leaders that have valid birth and death years, can you plot the life expectancy over time for these leaders?**\n",
    "\n",
    "**Here I would probably recommend a box and whisker plot to show distributions over time in the same chart..**\n",
    "\n",
    "[*Dataset source](http://www.ksgleditsch.com/archigos.html)"
   ]
  },
  {
   "cell_type": "code",
   "execution_count": 109,
   "metadata": {},
   "outputs": [],
   "source": [
    "import pandas as pd\n",
    "import numpy as np\n",
    "import matplotlib.pyplot as plt\n",
    "\n",
    "df = pd.read_csv(r'C:\\Users\\NMontoya\\Documents\\Custom Office Templates\\PuzzleData\\Archigos_ A Database of Political Leaders - 1March_Archigos_4.1.csv')"
   ]
  },
  {
   "cell_type": "code",
   "execution_count": 110,
   "metadata": {},
   "outputs": [
    {
     "data": {
      "text/html": [
       "<div>\n",
       "<style scoped>\n",
       "    .dataframe tbody tr th:only-of-type {\n",
       "        vertical-align: middle;\n",
       "    }\n",
       "\n",
       "    .dataframe tbody tr th {\n",
       "        vertical-align: top;\n",
       "    }\n",
       "\n",
       "    .dataframe thead th {\n",
       "        text-align: right;\n",
       "    }\n",
       "</style>\n",
       "<table border=\"1\" class=\"dataframe\">\n",
       "  <thead>\n",
       "    <tr style=\"text-align: right;\">\n",
       "      <th></th>\n",
       "      <th>obsid</th>\n",
       "      <th>leadid</th>\n",
       "      <th>ccode</th>\n",
       "      <th>idacr</th>\n",
       "      <th>leader</th>\n",
       "      <th>startdate</th>\n",
       "      <th>enddate</th>\n",
       "      <th>entry</th>\n",
       "      <th>exit</th>\n",
       "      <th>exitcode</th>\n",
       "      <th>prevtimesinoffice</th>\n",
       "      <th>posttenurefate</th>\n",
       "      <th>gender</th>\n",
       "      <th>yrborn</th>\n",
       "      <th>yrdied</th>\n",
       "      <th>borndate</th>\n",
       "      <th>deathdate</th>\n",
       "      <th>dbpedia.uri</th>\n",
       "      <th>num.entry</th>\n",
       "      <th>num.exit</th>\n",
       "      <th>num.exitcode</th>\n",
       "      <th>num.posttenurefate</th>\n",
       "      <th>fties</th>\n",
       "      <th>ftcur</th>\n",
       "    </tr>\n",
       "  </thead>\n",
       "  <tbody>\n",
       "    <tr>\n",
       "      <th>3404</th>\n",
       "      <td>FJI-2000-1</td>\n",
       "      <td>824fc72c-1e42-11e4-b4cd-db5882bf8def</td>\n",
       "      <td>950</td>\n",
       "      <td>FJI</td>\n",
       "      <td>Ratu Josefa Iloilo</td>\n",
       "      <td>2000-05-27</td>\n",
       "      <td>2000-05-29</td>\n",
       "      <td>Irregular</td>\n",
       "      <td>Regular</td>\n",
       "      <td>Regular</td>\n",
       "      <td>0</td>\n",
       "      <td>OK</td>\n",
       "      <td>M</td>\n",
       "      <td>1920</td>\n",
       "      <td>-777</td>\n",
       "      <td>NaN</td>\n",
       "      <td>NaN</td>\n",
       "      <td>NaN</td>\n",
       "      <td>1</td>\n",
       "      <td>1.0</td>\n",
       "      <td>0</td>\n",
       "      <td>0.0</td>\n",
       "      <td>NaN</td>\n",
       "      <td>NaN</td>\n",
       "    </tr>\n",
       "    <tr>\n",
       "      <th>3405</th>\n",
       "      <td>FJI-2000-2</td>\n",
       "      <td>3671d6d8-3bbd-11e5-afeb-eb6f07f9fec7</td>\n",
       "      <td>950</td>\n",
       "      <td>FJI</td>\n",
       "      <td>Bainimarama</td>\n",
       "      <td>2000-05-29</td>\n",
       "      <td>2000-07-14</td>\n",
       "      <td>Irregular</td>\n",
       "      <td>Irregular</td>\n",
       "      <td>Removed by Other Government Actors, without Fo...</td>\n",
       "      <td>0</td>\n",
       "      <td>OK</td>\n",
       "      <td>M</td>\n",
       "      <td>1954</td>\n",
       "      <td>-777</td>\n",
       "      <td>1954-04-27</td>\n",
       "      <td>NaN</td>\n",
       "      <td>http://dbpedia.org/resource/Frank_Bainimarama</td>\n",
       "      <td>1</td>\n",
       "      <td>3.0</td>\n",
       "      <td>8</td>\n",
       "      <td>0.0</td>\n",
       "      <td>NaN</td>\n",
       "      <td>NaN</td>\n",
       "    </tr>\n",
       "    <tr>\n",
       "      <th>3406</th>\n",
       "      <td>FJI-2000-3</td>\n",
       "      <td>824fc72e-1e42-11e4-b4cd-db5882bf8def</td>\n",
       "      <td>950</td>\n",
       "      <td>FJI</td>\n",
       "      <td>Laisenia Qarase</td>\n",
       "      <td>2000-07-14</td>\n",
       "      <td>2006-12-05</td>\n",
       "      <td>Regular</td>\n",
       "      <td>Irregular</td>\n",
       "      <td>Removed by Military, without Foreign Support</td>\n",
       "      <td>0</td>\n",
       "      <td>OK</td>\n",
       "      <td>M</td>\n",
       "      <td>1941</td>\n",
       "      <td>-777</td>\n",
       "      <td>NaN</td>\n",
       "      <td>NaN</td>\n",
       "      <td>NaN</td>\n",
       "      <td>0</td>\n",
       "      <td>3.0</td>\n",
       "      <td>6</td>\n",
       "      <td>0.0</td>\n",
       "      <td>NaN</td>\n",
       "      <td>NaN</td>\n",
       "    </tr>\n",
       "    <tr>\n",
       "      <th>3407</th>\n",
       "      <td>GUA-1954-1</td>\n",
       "      <td>81e587c4-1e42-11e4-b4cd-db5882bf8def</td>\n",
       "      <td>90</td>\n",
       "      <td>GUA</td>\n",
       "      <td>Diaz</td>\n",
       "      <td>1954-06-27</td>\n",
       "      <td>1954-06-29</td>\n",
       "      <td>Irregular</td>\n",
       "      <td>Irregular</td>\n",
       "      <td>Removed by Military, without Foreign Support</td>\n",
       "      <td>0</td>\n",
       "      <td>Imprisonment</td>\n",
       "      <td>M</td>\n",
       "      <td>1910</td>\n",
       "      <td>2015</td>\n",
       "      <td>NaN</td>\n",
       "      <td>NaN</td>\n",
       "      <td>NaN</td>\n",
       "      <td>1</td>\n",
       "      <td>3.0</td>\n",
       "      <td>6</td>\n",
       "      <td>2.0</td>\n",
       "      <td>NaN</td>\n",
       "      <td>NaN</td>\n",
       "    </tr>\n",
       "    <tr>\n",
       "      <th>3408</th>\n",
       "      <td>FJI-2007</td>\n",
       "      <td>3671d6d8-3bbd-11e5-afeb-eb6f07f9fec7</td>\n",
       "      <td>950</td>\n",
       "      <td>FJI</td>\n",
       "      <td>Bainimarama</td>\n",
       "      <td>2007-01-05</td>\n",
       "      <td>2015-12-31</td>\n",
       "      <td>Irregular</td>\n",
       "      <td>Still in Office</td>\n",
       "      <td>Still in Office</td>\n",
       "      <td>1</td>\n",
       "      <td>Leader Still in Office</td>\n",
       "      <td>M</td>\n",
       "      <td>1954</td>\n",
       "      <td>-777</td>\n",
       "      <td>1954-04-27</td>\n",
       "      <td>NaN</td>\n",
       "      <td>NaN</td>\n",
       "      <td>1</td>\n",
       "      <td>-888.0</td>\n",
       "      <td>-888</td>\n",
       "      <td>-888.0</td>\n",
       "      <td>NaN</td>\n",
       "      <td>NaN</td>\n",
       "    </tr>\n",
       "  </tbody>\n",
       "</table>\n",
       "</div>"
      ],
      "text/plain": [
       "           obsid                                leadid  ccode idacr  \\\n",
       "3404  FJI-2000-1  824fc72c-1e42-11e4-b4cd-db5882bf8def    950   FJI   \n",
       "3405  FJI-2000-2  3671d6d8-3bbd-11e5-afeb-eb6f07f9fec7    950   FJI   \n",
       "3406  FJI-2000-3  824fc72e-1e42-11e4-b4cd-db5882bf8def    950   FJI   \n",
       "3407  GUA-1954-1  81e587c4-1e42-11e4-b4cd-db5882bf8def     90   GUA   \n",
       "3408    FJI-2007  3671d6d8-3bbd-11e5-afeb-eb6f07f9fec7    950   FJI   \n",
       "\n",
       "                  leader   startdate     enddate      entry             exit  \\\n",
       "3404  Ratu Josefa Iloilo  2000-05-27  2000-05-29  Irregular          Regular   \n",
       "3405         Bainimarama  2000-05-29  2000-07-14  Irregular        Irregular   \n",
       "3406     Laisenia Qarase  2000-07-14  2006-12-05    Regular        Irregular   \n",
       "3407                Diaz  1954-06-27  1954-06-29  Irregular        Irregular   \n",
       "3408         Bainimarama  2007-01-05  2015-12-31  Irregular  Still in Office   \n",
       "\n",
       "                                               exitcode  prevtimesinoffice  \\\n",
       "3404                                            Regular                  0   \n",
       "3405  Removed by Other Government Actors, without Fo...                  0   \n",
       "3406       Removed by Military, without Foreign Support                  0   \n",
       "3407       Removed by Military, without Foreign Support                  0   \n",
       "3408                                    Still in Office                  1   \n",
       "\n",
       "              posttenurefate gender  yrborn  yrdied    borndate deathdate  \\\n",
       "3404                      OK      M    1920    -777         NaN       NaN   \n",
       "3405                      OK      M    1954    -777  1954-04-27       NaN   \n",
       "3406                      OK      M    1941    -777         NaN       NaN   \n",
       "3407            Imprisonment      M    1910    2015         NaN       NaN   \n",
       "3408  Leader Still in Office      M    1954    -777  1954-04-27       NaN   \n",
       "\n",
       "                                        dbpedia.uri  num.entry  num.exit  \\\n",
       "3404                                            NaN          1       1.0   \n",
       "3405  http://dbpedia.org/resource/Frank_Bainimarama          1       3.0   \n",
       "3406                                            NaN          0       3.0   \n",
       "3407                                            NaN          1       3.0   \n",
       "3408                                            NaN          1    -888.0   \n",
       "\n",
       "      num.exitcode  num.posttenurefate fties  ftcur  \n",
       "3404             0                 0.0   NaN    NaN  \n",
       "3405             8                 0.0   NaN    NaN  \n",
       "3406             6                 0.0   NaN    NaN  \n",
       "3407             6                 2.0   NaN    NaN  \n",
       "3408          -888              -888.0   NaN    NaN  "
      ]
     },
     "execution_count": 110,
     "metadata": {},
     "output_type": "execute_result"
    }
   ],
   "source": [
    "pd.set_option('display.max_columns', None)\n",
    "\n",
    "df['borndate'].iloc[1416:1417] = '1960-04-17'\n",
    "df.tail()"
   ]
  },
  {
   "cell_type": "code",
   "execution_count": 111,
   "metadata": {},
   "outputs": [],
   "source": [
    "df['startdate'] = pd.to_datetime(df['startdate'])\n",
    "df['enddate'] = pd.to_datetime(df['enddate'])\n",
    "df['borndate'] = pd.to_datetime(df['borndate'])\n",
    "df['deathdate'] = pd.to_datetime(df['deathdate'])"
   ]
  },
  {
   "cell_type": "code",
   "execution_count": 112,
   "metadata": {},
   "outputs": [],
   "source": [
    "# valuation_df['valuation_to_use']= valuation_df.apply(lambda x: x['RequiredMargin_request_body_message_valuation_rbookListPrice'] \n",
    "#                    if x['RequiredMargin_request_body_message_valuation_rbookListPrice'] > 0\n",
    "#                    else (x['RequiredMargin_valuation_imv']\n",
    "                         \n",
    "df['age'] = df.apply(lambda x: (x['yrdied'] - x['yrborn']) if x['yrdied'] != -777 else 200, axis=1  ) \n",
    "                         \n"
   ]
  },
  {
   "cell_type": "code",
   "execution_count": 113,
   "metadata": {},
   "outputs": [],
   "source": [
    "df = df[df['age'] < 150]"
   ]
  },
  {
   "cell_type": "code",
   "execution_count": 114,
   "metadata": {},
   "outputs": [],
   "source": [
    "result = df[['yrdied', 'age']].groupby('yrdied').mean()"
   ]
  },
  {
   "cell_type": "code",
   "execution_count": 116,
   "metadata": {},
   "outputs": [],
   "source": [
    "result = result.drop([-999])"
   ]
  },
  {
   "cell_type": "code",
   "execution_count": 117,
   "metadata": {},
   "outputs": [
    {
     "data": {
      "image/png": "[encoded data removed]",
      "text/plain": [
       "<Figure size 432x288 with 1 Axes>"
      ]
     },
     "metadata": {
      "needs_background": "light"
     },
     "output_type": "display_data"
    }
   ],
   "source": [
    "plt.bar(result.index, result['age'])\n",
    "plt.xlabel('year')\n",
    "plt.ylabel('favourite_count')\n",
    "plt.title('life expectancy of world leaders', y=1.1)\n",
    "plt.grid()\n",
    "plt.show()"
   ]
  },
  {
   "cell_type": "markdown",
   "metadata": {},
   "source": [
    "# $\\S$ Question 63: (SQL)\n",
    "\n",
    "**Given the table below, called 'orders', write a SQL query to show the monthly revenue growth for the online channel. To calculate the monthly revenue growth, you can apply the following logic:**\n",
    "\n",
    "*__revenue growth = (current month's revenue-prior month's revenue)/prior month's revenue.__*\n",
    "\n",
    "\n",
    "order_id\t|channel\t|date\t|month|\trevenue\n",
    "---|---|---|---|---\n",
    "1|\tonline\t|2018-09-01\t|09\t|100\n",
    "2|\tonline\t|2018-09-03|\t09\t|125\n",
    "3|\tin_store|\t2018-10-11|\t10|\t200\n",
    "4|\tin_store|\t2018-08-21|\t08|\t80\n",
    "5|\tonline|\t2018-08-13\t|08|\t200\n"
   ]
  },
  {
   "cell_type": "code",
   "execution_count": null,
   "metadata": {},
   "outputs": [],
   "source": [
    "%sql\n",
    "WITH o as (\n",
    "SELECT month\n",
    "    ,  SUM(revenue) as monthly_revenue\n",
    "FROM orders\n",
    "GROUP BY month\n",
    ")\n",
    "SELECT o*\n",
    "    ,  CAST(o.monthly_revenue as float) / CAST(LAG(o.monthly_revenue, 1) OVER (o.month) as float) as net_monthly_change\n",
    "FROM o\n",
    "ORDER BY o.month"
   ]
  },
  {
   "cell_type": "markdown",
   "metadata": {},
   "source": [
    "# Question 64: (Python)\n",
    "\n",
    "**Given two strings, write code to print overlapping letters in alphabetical order.**\n",
    "\n",
    "**For example:**"
   ]
  },
  {
   "cell_type": "code",
   "execution_count": 1,
   "metadata": {},
   "outputs": [
    {
     "data": {
      "text/plain": [
       "'ar'"
      ]
     },
     "execution_count": 1,
     "metadata": {},
     "output_type": "execute_result"
    }
   ],
   "source": [
    "#Given the following strings:\n",
    "str1 = 'card'\n",
    "str2 = 'shark'\n",
    "\n",
    "#Your overlapping letters would be 'a' (1x) and 'r' (1x), \n",
    "#and they just happen to be in alphabetical order already, \n",
    "#so your code would return:\n",
    "'ar'"
   ]
  },
  {
   "cell_type": "markdown",
   "metadata": {},
   "source": [
    "**If there is no overlap between the two strings, you can print 'no overlap'.**"
   ]
  },
  {
   "cell_type": "markdown",
   "metadata": {},
   "source": [
    "# Question 65: (Statistics)\n",
    "\n",
    "**A population of amoebas starts with 1. After a single period, assume the amoeba can divide into 1, 2, 3, or 0 (it can die) with equal probability. What is the probability that the entire population dies out eventually?**\n",
    "\n",
    "**For help, you can read up on [law of total probability](https://en.wikipedia.org/wiki/Law_of_total_probability).**"
   ]
  },
  {
   "cell_type": "markdown",
   "metadata": {},
   "source": [
    "# Question 66: (Python)\n",
    "\n",
    "**Below is a snippet from a table that contains information about employees that work at Company XYZ:**\n",
    "\n",
    "employee_name\t|employee_id\t|date_joined\t|age\t|yrs_of_experience\n",
    "---|---|---|---|---\n",
    "Andy|\t123456\t|2015-02-15|\t45|\t24\n",
    "Beth|\t789456\t|2014-02-15\t|36\t|15\n",
    "Cindy\t|654123\t|2017-05-16\t|34\t|14\n",
    "Dale|\t963852\t|2018-01-15\t|25\t|4\n",
    "\n",
    "\n",
    "**Company XYZ is looking to create a report that tracks the tenure of its employees. Using Python, write a snippet to add a column with each individual's years of experience. You can assume the current date is January 1st, 2019. All records in the table are shown in YYYY-MM-DD format.**\n",
    "\n",
    "**Click [here](https://colab.research.google.com/drive/1R0vmxAT5yM7htib94BlmeIaUR96Rrmap#scrollTo=H_IMNOsYLt2I) to view this problem in an interactive Colab (Jupyter) notebook.**\n"
   ]
  },
  {
   "cell_type": "markdown",
   "metadata": {},
   "source": [
    "# Question 67: (SQL)\n",
    "\n",
    "**Suppose a school is holding elections, with a small modification: in this voting system, students are allowed to vote for as many candidates as they like, with the caveat that each time they vote their vote is split. For example, if a given student votes for 1 candidate, that candidate receives 1 whole vote, whereas if the student votes for 2 candidates then both will receive 1/2 of a vote.**\n",
    "\n",
    "**Given the following table along with the rules above, write a SQL query to determine which candidate won the election.**\n",
    "\n",
    "Table name: **election_data**\n",
    "\n",
    "\n",
    "Voter|\tCandidate\n",
    "---|---\n",
    "James|\tSusan\n",
    "James|\tJerry\n",
    "John\t|Susan\n",
    "Lucy\t|Alan\n",
    "Terrance|\tSusan\n",
    "Terrance|\tAlan\n",
    "Howard\t|Jerry"
   ]
  },
  {
   "cell_type": "markdown",
   "metadata": {},
   "source": [
    "# Questoin 68: (Python)\n",
    "\n",
    "**Given the following [dataset](https://drive.google.com/file/d/1vvnaJ9KErXx2zI47IBytR_tHGijtJBE6/view), classify customer value based on order frequency. You can assign them a score of 1-3, with 1 being least valuable and 3 being most valuable For example, a customer who has made 10 purchases is more valuable than one that has made 2 purchases across the same time period.**\n",
    "\n",
    "**For more information regarding customer lifetime value you can read this [post](https://www.shopify.com/blog/customer-lifetime-value).**"
   ]
  },
  {
   "cell_type": "markdown",
   "metadata": {},
   "source": [
    "# Question 69: (Statistics)\n",
    "\n",
    "**Can you explain what resampling is? Can you name 2 seperate resampling methods and explain the pros and cons?**\n",
    "\n",
    "**BONUS: Can you tell me about a time where you had to use a resampling technique?**"
   ]
  },
  {
   "cell_type": "markdown",
   "metadata": {},
   "source": [
    "# Question 70: (Python)\n",
    "\n",
    "**The following [dataset]() contains consumer complaints received by the Bureau of Consumer Financial Protection about financial products and services from 2012-2016.**\n",
    "\n",
    "**Can you identify the financial product that receives the most complaints? Within that product can you highlight (1) the largest issue within the product and (2) the company that is contributing most to that product?**\n",
    "\n",
    "**You can find more information about this [data set here](https://data.world/data-society/consumer-complaint-data).**"
   ]
  },
  {
   "cell_type": "markdown",
   "metadata": {},
   "source": [
    "# Question 71: (SQL)\n",
    "\n",
    "**You're analyzing revenue for Company XYZ and want to understand what the revenue per employee was in 2017. You have the following tables:**\n",
    "\n",
    "Table: Employees\n",
    "\n",
    "\n",
    "Column Name\t|Data Type|\tDescription\n",
    "---|---|---\n",
    "employeeid|\tinteger|\tid of the employee\n",
    "product_area|\tstring\t|product area that employee works in\n",
    "compensation|\tinteger\t|yearly salary for employee\n",
    "\n",
    "Table: Revenue\n",
    "\n",
    "\n",
    "Column Name|\tData Type|\tDescription\n",
    "---|---|---\n",
    "date|\tstring\t|format is \"YYYY-MM-DD\n",
    "product_area|\tstring|\tproduct area that employee works in\n",
    "revenue\t|integer|\trevenue made on the given date in USD\n",
    "\n",
    "**Given the above, write a SQL query to calculate revenue per employee by product area.**\n"
   ]
  },
  {
   "cell_type": "markdown",
   "metadata": {},
   "source": [
    "# $\\S$Question 72: (Python)\n",
    "\n",
    "**Write a Python function to convert temperatures from fahrenheit to celsius. More specifically, your function should be able to read in a list of unspecified length and print out the celsius temperature for each item.**\n",
    "\n",
    "**The formula to convert from fahrenheit to celsius is:**\n",
    "\n",
    "**(fahrenheit temperature - 32) * 5/9**"
   ]
  },
  {
   "cell_type": "code",
   "execution_count": 1,
   "metadata": {},
   "outputs": [
    {
     "data": {
      "text/plain": [
       "[37.77777777777778, 0.0, -17.77777777777778]"
      ]
     },
     "execution_count": 1,
     "metadata": {},
     "output_type": "execute_result"
    }
   ],
   "source": [
    "def fahrenheit_to_celsius(temps):\n",
    "    \n",
    "    celsius_list = []\n",
    "    \n",
    "    for i in temps:\n",
    "        \n",
    "        celsius = (i-32)*5/9\n",
    "        celsius_list.append(celsius)\n",
    "        \n",
    "    return celsius_list\n",
    "\n",
    "\n",
    "fahrenheit_to_celsius([100, 32, 0])"
   ]
  },
  {
   "cell_type": "markdown",
   "metadata": {},
   "source": [
    "# Question 73: (Statistics)\n",
    "\n",
    "**Give an example of when you would want to use a One Way ANOVA test. Walk through the example, your reasoning for choosing a One Way ANOVA, and the steps you would take to run the test.**"
   ]
  },
  {
   "cell_type": "markdown",
   "metadata": {},
   "source": [
    "# Question 74: (Python)\n",
    "\n",
    "**Given the following datasets, containing both price and calorie information for McDonald's food items:**\n",
    "\n",
    "- **[McDonald's menu item prices](https://raw.githubusercontent.com/erood/interviewqs.com_code_snippets/master/Datasets/mcD_food_prices.csv)**\n",
    "\n",
    "- **[McDonald's menu item calories](https://raw.githubusercontent.com/erood/interviewqs.com_code_snippets/master/Datasets/mcD_food_calories.csv)**\n",
    "\n",
    "**Write code to merge the two datasets, calculate the price per calorie of food, and stack rank the foods from the 'best value' (most calories per dollar*) to 'worst value' (least calories per dollar*).**\n",
    "\n",
    "*There are of course nuances in nutritional benefits, protein, etc, but we're simplifying here for the purposes of these definitions and assuming someone wants to optimize purely for cost of calories."
   ]
  },
  {
   "cell_type": "markdown",
   "metadata": {},
   "source": [
    "# Question 75: (SQL)\n",
    "\n",
    "**You are working for a company like Twitch.tv. Twitch.tv is a live streaming platform, where content creators (e.g. the people creating content on the live streams) can get donations from viewers for producing content they support.**\n",
    "\n",
    "**Your company is trying to launch a new product that will benefit content creators that get a large amount of donations per streaming session. You are given the following tables:**\n",
    "\n",
    "Table: all_donations\n",
    "\n",
    "\n",
    "Column Name|\tData Type|\tDescription\n",
    "---|---|---\n",
    "creator_id|\tinteger\t|unique id of content creator\n",
    "viewer_id\t|integer|\tunique id of viewer\n",
    "session_id\t|integer|\tunique session id of stream\n",
    "date\t|string\t|format is \"YYYY-MM-DD\"\n",
    "donation_amount|\tinteger|\tamount donated in USD\n",
    "\n",
    "Table: sessions_info\n",
    "\n",
    "Column Name|\tData Type|\tDescription\n",
    "---|---|---\n",
    "creator_id\t|integer|\tunique id of content creator\n",
    "session_id\t|integer|\tunique id of viewer\n",
    "date\t|string\t|format is \"YYYY-MM-DD\", date of session\n",
    "length\t|integer|\tlength of session\n",
    "\n",
    "\n",
    "Table: session_viewers\n",
    "\n",
    "Column Name\t|Data Type|\tDescription\n",
    "---|---|---\n",
    "creator_id\t|integer|\tunique id of content creator\n",
    "viewer_id\t|integer|\tunique id of viewer\n",
    "date\t|string\t|format is \"YYYY-MM-DD\"\n",
    "session_id|\tinteger\t|unique session id of stream\n",
    "mins_viewed|\tinteger|\ttotal number of the viewer watched the stream\n",
    "\n",
    "**Given this, write a SQL query to find the top 10 content creators in 2018 that have the highest average donations per viewer.**\n",
    "\n",
    "\n",
    "\n",
    "\n"
   ]
  },
  {
   "cell_type": "markdown",
   "metadata": {},
   "source": [
    "# Question 76: (Python)\n",
    "\n",
    "**Given a matrix with m x n dimensions, print its elements in spiral form.**\n",
    "\n",
    "**For example:**"
   ]
  },
  {
   "cell_type": "code",
   "execution_count": 1,
   "metadata": {},
   "outputs": [
    {
     "name": "stdout",
     "output_type": "stream",
     "text": [
      "10 2 11 4 9 7 8 1 3\n"
     ]
    }
   ],
   "source": [
    "#Given:\n",
    "a = [ [10, 2, 11],\n",
    "[1, 3, 4],\n",
    "[8, 7, 9] ]\n",
    "\n",
    "#Your function should return:\n",
    "print(10, 2, 11, 4, 9, 7, 8, 1, 3)"
   ]
  },
  {
   "cell_type": "markdown",
   "metadata": {},
   "source": [
    "# Question 77: (Statistics)\n",
    "\n",
    "**Suppose a casino has created a new game, determined via coin toss. If the coin is tails, the individual is paid 1 dollar, and if the coin is heads it's tossed again. On the 2nd toss (assuming heads on first toss), the individual will be paid 2dollars if tails, otherwise if it's heads we continue, doubling each time to 4 dollars, 8 dollars, 16 dollars etc for each tails. What price should the casino charge to play this game, assuming you only want to break even?**"
   ]
  },
  {
   "cell_type": "markdown",
   "metadata": {},
   "source": [
    "# Question 78: (Python)\n",
    "\n",
    "**Suppose you have the following [dataset](https://docs.google.com/spreadsheets/d/1DrvkAWnO1psWkFN1YVt891sHe4yHl4ljNPUVlCsI95M/edit#gid=2039795889) which contains (1st tab) a list of items purchased by a given user, (2nd tab) a mapping which maps the item_id to the item name and price, (3rd tab) a matrix that formats data from sheet 1 into a matrix with users in rows and the number of each item_id purchased in columns.**\n",
    "\n",
    "**Using this data, can you create a similarity matrix for each item? Then can you create a heat chart that visually displays the similarity matrix?**"
   ]
  },
  {
   "cell_type": "markdown",
   "metadata": {},
   "source": [
    "# Question 79: (SQL)\n",
    "\n",
    "**You're given a table called userActivityLogs. This table contains data on each time a user opens into Application X. Below is some sample data from this table. You can assume this table has all the historical data one would expect (this table will be large assuming Application X has a number of loyal users).**\n",
    "\n",
    "\n",
    "userid|\tdate|\tsession_duration_ms|\tstart_timestamp|\tend_timestamp\n",
    "---|---|---|---|---\n",
    "139281|\t2019-01-01\t|21240|\t1546300800|\t1546322040\n",
    "139281|\t2019-01-02\t|21600\t|1546401600|\t1546423200\n",
    "\n",
    "**Application X defines an active user as one that has opened the application within the last 30 days. Using SQL, can you write a query that outputs users who are inactive? Your output should have userid and the number of days since the last login.**\n",
    "\n"
   ]
  },
  {
   "cell_type": "markdown",
   "metadata": {},
   "source": [
    "# Question 80: (Python)\n",
    "\n",
    "**Given a matrix of order m*n, find the frequency of even and odd numbers in the matrix.**\n",
    "\n",
    "**For Example:**"
   ]
  },
  {
   "cell_type": "code",
   "execution_count": null,
   "metadata": {},
   "outputs": [],
   "source": [
    "#Given the following inputs\n",
    "m = 2, n = 3\n",
    "[[ 9, 11, 3 ], \n",
    "[ 4, 12, 2 ]]\n",
    "\n",
    "#Your function should return the following output:\n",
    "#Frequency of odd #:  3 (since 9, 11, and 3 are all odd #s)\n",
    "#Frequency of even #: 3"
   ]
  },
  {
   "cell_type": "markdown",
   "metadata": {},
   "source": [
    "# Question 81: (Statistics)\n",
    "\n",
    "**Suppose a bag contains 40 skittles: 16 yellow, 14 red, and 10 orange. You draw 3 skittles at random (without replacement) from the bag. What is the probability that you get 2 skittles of one color and another skittle of a different color?**\n",
    "\n"
   ]
  },
  {
   "cell_type": "markdown",
   "metadata": {},
   "source": [
    "# Question 82: (Python)\n",
    "\n",
    "**Suppose you're given the following table, showing open and close prices as well as trading volume for a particular equity.**"
   ]
  },
  {
   "cell_type": "markdown",
   "metadata": {},
   "source": [
    "\n",
    "date|Close\t|Open\t|Volume\n",
    "---|---|---|---\n",
    "2019-01-01|\t0.214420|\t1.808281\t|759\n",
    "2019-01-02\t|0.338620|\t0.254375\t|1324\n",
    "2019-01-03\t|1.051536|\t1.151315\t|1787\n",
    "2019-01-04|\t0.911552\t|0.455321\t|2908\n",
    "2019-01-05\t|0.997130\t|0.359723\t|713\n",
    "2019-01-06\t|0.426184\t|0.987991\t|2330\n",
    "2019-01-07\t|0.376917\t|0.307812\t|2592\n",
    "2019-01-08\t|0.543065\t|0.136257\t|1265\n",
    "2019-01-09\t|1.678835\t|0.836795\t|2674\n",
    "2019-01-10\t|0.481132\t|0.790461\t|2508\n",
    "2019-01-11\t|0.091329\t|0.910299\t|806\n",
    "2019-01-12\t|0.308104\t|0.843959\t|647\n",
    "2019-01-13\t|0.698701\t|0.947239\t|2351\n",
    "2019-01-14\t|0.878822\t|1.046117\t|2840\n",
    "2019-01-15\t|1.159343\t|0.427352\t|2302\n",
    "\n",
    "**In Python, write code to show the [volume weighted average price (VWAP)](https://www.investopedia.com/terms/v/vwap.asp) for a rolling 2-day window. The VWAP is calculated as:** \n",
    "\n",
    "**$\\frac {[Price \\times Volume]} {Volume} $**\n",
    "\n",
    "**In this case, your resultant table would start on 1/3/2019 and roll daily from there.**"
   ]
  },
  {
   "cell_type": "markdown",
   "metadata": {},
   "source": [
    "# $\\S$Question 83: (SQL)\n",
    "\n",
    "**Suppose you're given the following table, called 'employees':**\n",
    "\n",
    "\n",
    "name\t|job_role\n",
    "---|---\n",
    "John\t|Analyst\n",
    "Harry\t|Administrative Business Partner\n",
    "Sam\t|Software Engineer\n",
    "Tina|\tAnalyst\n",
    "\n",
    "**To test your SQL skills, create a query that returns the name and job_role of each individual who has either a name that contains the letter 'a' or a job role that ends in the letters 'er'.**"
   ]
  },
  {
   "cell_type": "code",
   "execution_count": null,
   "metadata": {},
   "outputs": [],
   "source": [
    "%SQL\n",
    "\n",
    "SELECT name\n",
    "    ,  job_role\n",
    "FROM employees\n",
    "WHERE name LIKE '%a%' OR job_role LIKE '%er'"
   ]
  },
  {
   "cell_type": "markdown",
   "metadata": {},
   "source": [
    "# Question 84: (Python)\n",
    "\n",
    "Can you build a function that prints an [identity matrix](https://en.wikipedia.org/wiki/Identity_matrix), given the identity matrix size?\n",
    "\n",
    "Examples:"
   ]
  },
  {
   "cell_type": "code",
   "execution_count": 7,
   "metadata": {},
   "outputs": [],
   "source": [
    "# Input= 2\n",
    "# Output: \n",
    "#        1 0\n",
    "#        0 1\n",
    "         \n",
    "\n",
    "# Input =  4\n",
    "# Output: \n",
    "#        1 0 0 0\n",
    "#        0 1 0 0\n",
    "#        0 0 1 0\n",
    "#        0 0 0 1\n",
    "    \n",
    "def identity_matrix(number):\n",
    "    pass"
   ]
  },
  {
   "cell_type": "markdown",
   "metadata": {},
   "source": [
    "# Question 85: (Statistics)\n",
    "\n",
    "**What is Bayes’ Theorem? Explain how it can be useful in a machine learning context?**"
   ]
  },
  {
   "cell_type": "markdown",
   "metadata": {},
   "source": [
    "# $\\S$ Question 86: (Python)\n",
    "\n",
    "**You are given a dataset of [Chipotle orders](https://raw.githubusercontent.com/justmarkham/DAT8/master/data/chipotle.tsv). You're asked to figure out the average order price and the average price per item ordered. Can you describe how you would do this using Python Pandas? The solution will be Python code which walks through the logic and calculation.**"
   ]
  },
  {
   "cell_type": "code",
   "execution_count": 3,
   "metadata": {},
   "outputs": [],
   "source": [
    "import pandas as pd\n",
    "import numpy as np\n",
    "\n",
    "chipotle = pd.read_csv('https://raw.githubusercontent.com/justmarkham/DAT8/master/data/chipotle.tsv', sep='\\t')"
   ]
  },
  {
   "cell_type": "code",
   "execution_count": 21,
   "metadata": {},
   "outputs": [
    {
     "data": {
      "text/html": [
       "<div>\n",
       "<style scoped>\n",
       "    .dataframe tbody tr th:only-of-type {\n",
       "        vertical-align: middle;\n",
       "    }\n",
       "\n",
       "    .dataframe tbody tr th {\n",
       "        vertical-align: top;\n",
       "    }\n",
       "\n",
       "    .dataframe thead th {\n",
       "        text-align: right;\n",
       "    }\n",
       "</style>\n",
       "<table border=\"1\" class=\"dataframe\">\n",
       "  <thead>\n",
       "    <tr style=\"text-align: right;\">\n",
       "      <th></th>\n",
       "      <th>order_id</th>\n",
       "      <th>quantity</th>\n",
       "      <th>item_name</th>\n",
       "      <th>choice_description</th>\n",
       "      <th>item_price</th>\n",
       "    </tr>\n",
       "  </thead>\n",
       "  <tbody>\n",
       "    <tr>\n",
       "      <th>0</th>\n",
       "      <td>1</td>\n",
       "      <td>1</td>\n",
       "      <td>Chips and Fresh Tomato Salsa</td>\n",
       "      <td>NaN</td>\n",
       "      <td>2.39</td>\n",
       "    </tr>\n",
       "    <tr>\n",
       "      <th>1</th>\n",
       "      <td>1</td>\n",
       "      <td>1</td>\n",
       "      <td>Izze</td>\n",
       "      <td>[Clementine]</td>\n",
       "      <td>3.39</td>\n",
       "    </tr>\n",
       "    <tr>\n",
       "      <th>2</th>\n",
       "      <td>1</td>\n",
       "      <td>1</td>\n",
       "      <td>Nantucket Nectar</td>\n",
       "      <td>[Apple]</td>\n",
       "      <td>3.39</td>\n",
       "    </tr>\n",
       "    <tr>\n",
       "      <th>3</th>\n",
       "      <td>1</td>\n",
       "      <td>1</td>\n",
       "      <td>Chips and Tomatillo-Green Chili Salsa</td>\n",
       "      <td>NaN</td>\n",
       "      <td>2.39</td>\n",
       "    </tr>\n",
       "    <tr>\n",
       "      <th>4</th>\n",
       "      <td>2</td>\n",
       "      <td>2</td>\n",
       "      <td>Chicken Bowl</td>\n",
       "      <td>[Tomatillo-Red Chili Salsa (Hot), [Black Beans...</td>\n",
       "      <td>16.98</td>\n",
       "    </tr>\n",
       "  </tbody>\n",
       "</table>\n",
       "</div>"
      ],
      "text/plain": [
       "   order_id  quantity                              item_name  \\\n",
       "0         1         1           Chips and Fresh Tomato Salsa   \n",
       "1         1         1                                   Izze   \n",
       "2         1         1                       Nantucket Nectar   \n",
       "3         1         1  Chips and Tomatillo-Green Chili Salsa   \n",
       "4         2         2                           Chicken Bowl   \n",
       "\n",
       "                                  choice_description  item_price  \n",
       "0                                                NaN        2.39  \n",
       "1                                       [Clementine]        3.39  \n",
       "2                                            [Apple]        3.39  \n",
       "3                                                NaN        2.39  \n",
       "4  [Tomatillo-Red Chili Salsa (Hot), [Black Beans...       16.98  "
      ]
     },
     "execution_count": 21,
     "metadata": {},
     "output_type": "execute_result"
    }
   ],
   "source": [
    "chipotle.head()"
   ]
  },
  {
   "cell_type": "code",
   "execution_count": 18,
   "metadata": {},
   "outputs": [],
   "source": [
    "chipotle['item_price'] = chipotle['item_price'].str.replace('$', '')"
   ]
  },
  {
   "cell_type": "code",
   "execution_count": 20,
   "metadata": {},
   "outputs": [],
   "source": [
    "chipotle['item_price'] = chipotle['item_price'].astype('float')"
   ]
  },
  {
   "cell_type": "code",
   "execution_count": 27,
   "metadata": {},
   "outputs": [],
   "source": [
    "potle_mean = chipotle[['order_id', 'item_price']].groupby('order_id').mean().reset_index(0)"
   ]
  },
  {
   "cell_type": "code",
   "execution_count": 29,
   "metadata": {},
   "outputs": [],
   "source": [
    "average_order_price = potle_mean['item_price'].mean()"
   ]
  },
  {
   "cell_type": "code",
   "execution_count": 32,
   "metadata": {},
   "outputs": [],
   "source": [
    "potle_item_mean = chipotle[['item_name', 'item_price']].groupby('item_name').mean().reset_index()"
   ]
  },
  {
   "cell_type": "code",
   "execution_count": 34,
   "metadata": {},
   "outputs": [
    {
     "data": {
      "text/html": [
       "<div>\n",
       "<style scoped>\n",
       "    .dataframe tbody tr th:only-of-type {\n",
       "        vertical-align: middle;\n",
       "    }\n",
       "\n",
       "    .dataframe tbody tr th {\n",
       "        vertical-align: top;\n",
       "    }\n",
       "\n",
       "    .dataframe thead th {\n",
       "        text-align: right;\n",
       "    }\n",
       "</style>\n",
       "<table border=\"1\" class=\"dataframe\">\n",
       "  <thead>\n",
       "    <tr style=\"text-align: right;\">\n",
       "      <th></th>\n",
       "      <th>item_name</th>\n",
       "      <th>item_price</th>\n",
       "    </tr>\n",
       "  </thead>\n",
       "  <tbody>\n",
       "    <tr>\n",
       "      <th>0</th>\n",
       "      <td>6 Pack Soft Drink</td>\n",
       "      <td>6.610185</td>\n",
       "    </tr>\n",
       "    <tr>\n",
       "      <th>1</th>\n",
       "      <td>Barbacoa Bowl</td>\n",
       "      <td>10.187273</td>\n",
       "    </tr>\n",
       "    <tr>\n",
       "      <th>2</th>\n",
       "      <td>Barbacoa Burrito</td>\n",
       "      <td>9.832418</td>\n",
       "    </tr>\n",
       "    <tr>\n",
       "      <th>3</th>\n",
       "      <td>Barbacoa Crispy Tacos</td>\n",
       "      <td>10.928182</td>\n",
       "    </tr>\n",
       "    <tr>\n",
       "      <th>4</th>\n",
       "      <td>Barbacoa Salad Bowl</td>\n",
       "      <td>10.640000</td>\n",
       "    </tr>\n",
       "  </tbody>\n",
       "</table>\n",
       "</div>"
      ],
      "text/plain": [
       "               item_name  item_price\n",
       "0      6 Pack Soft Drink    6.610185\n",
       "1          Barbacoa Bowl   10.187273\n",
       "2       Barbacoa Burrito    9.832418\n",
       "3  Barbacoa Crispy Tacos   10.928182\n",
       "4    Barbacoa Salad Bowl   10.640000"
      ]
     },
     "execution_count": 34,
     "metadata": {},
     "output_type": "execute_result"
    }
   ],
   "source": [
    "potle_item_mean.head()"
   ]
  },
  {
   "cell_type": "markdown",
   "metadata": {},
   "source": [
    "# Question 87: (SQL)\n",
    "\n",
    "**Suppose you're working for Reddit as an analyst. Reddit is trying to optimize its server allocation per subreddit, and you've been tasked with figuring out how much comment activity happens once a post is published.**\n",
    "\n",
    "**Use your intuition to select a timeframe to query the data, as well as how you would want to present this information to the partnering team. The solution will be a SQL query with assumptions that you would need to state if this were asked in an interview. You have the following tables:**\n",
    "\n",
    "Table **posts**:\n",
    "\n",
    "Column Name|\tData Type|\tDescription\n",
    "---|---|---\n",
    "id\t|integer\t|id of the post\n",
    "publisher_id|\tinteger\t|id the user posting\n",
    "score\t|integer\t|score of the post\n",
    "time\t|integer\t|post publish time in unix time\n",
    "title\t|string\t|title of the post\n",
    "deleted\t|boolean|\tis the post deleted?\n",
    "dead\t|boolean|\tis the post active?\n",
    "subreddit_id|\tinteger|\tid of the subreddit\n",
    "\n",
    "Table **comments**:\n",
    "\n",
    "Column Name|\tData Type\t|Description\n",
    "---|---|---\n",
    "id|\tinteger|\tid of the comment\n",
    "author_id|\tinteger|\tid of the commenter\n",
    "post_id\t|integer|\tid of the post the comment is nested under\n",
    "parent_comment|\tinteger\t|id of parent comment that comment is nested under\n",
    "deleted|\tinteger\t|is comment deleted?\n",
    "\n",
    "\n",
    "**Given the above, write a SQL query to highlight comment activity by subreddit. This problem is intended to test how you can think through vague/open-ended questions.**\n"
   ]
  },
  {
   "cell_type": "markdown",
   "metadata": {},
   "source": [
    "# Question 88: (Python)\n",
    "\n",
    "**The following [dataset](https://raw.githubusercontent.com/erood/interviewqs.com_code_snippets/master/Datasets/winequality-red.csv) has information around red wine characteristics (acidity, pH, etc) as well as a quality rating. More information about the schema can be found [here](https://archive.ics.uci.edu/ml/datasets/Wine+Quality).**\n",
    "\n",
    "**Given this, create a Random Forest model to predict wine quality. Additionally, use [GridSearchCV](https://scikit-learn.org/stable/modules/generated/sklearn.model_selection.GridSearchCV.html) (or a tool of your own choice) to find the best parameters for the model.**\n"
   ]
  },
  {
   "cell_type": "markdown",
   "metadata": {},
   "source": [
    "# Question 89: (Statistics)\n",
    "\n",
    "**Given the data table below, determine if there is a relationship between fitness level and smoking habits:**\n",
    "\n",
    "\n",
    "..|Low fitness level|\tMedium-low fitness level\t|Medium-high fitness level\t|High fitness level\n",
    "---|---|---|---|---\n",
    "Never smoked|\t113\t|113|\t110\t|159\n",
    "Former smokers\t|119\t|135|\t172\t|190\n",
    "1 to 9 cigarettes daily|\t77\t|91\t|86\t|65\n",
    ">=10 cigarettes daily|\t181\t|152|\t124|\t73\n",
    "\n",
    "**You don't have to fully solve for the number here (that would be pretty time-intensive for an interview setting), but lay out the steps you would take to solve such a problem.**"
   ]
  },
  {
   "cell_type": "markdown",
   "metadata": {},
   "source": [
    "# Question 90: (Python)\n",
    "\n",
    "**Given the table below, called 'orders', write code to show the average revenue by month by channel:**\n",
    "\n",
    "\n",
    "order_id|\tchannel|\tdate|\tmonth\t|revenue\n",
    "---|---|---|---|---\n",
    "1\t|online|\t2018-09-01|\t09|\t100\n",
    "2\t|online\t|2018-09-03|\t09|\t125\n",
    "3\t|in_store|\t2018-10-11|\t10|\t200\n",
    "4\t|in_store|\t2018-08-21\t|08\t|80\n",
    "5\t|online|\t2018-08-13|08\t|200\n",
    "\n",
    "**Your result should return the following fields in a structured table:**\n",
    "\n",
    "Month|Channel| Avg. Money\n",
    "---|---|---\n",
    "a|b|c"
   ]
  },
  {
   "cell_type": "markdown",
   "metadata": {},
   "source": [
    "# Question 91: (SQL)\n",
    "\n",
    "**You are given 2 tables, the first one is named current_inventory, and contains the current inventory per item. The second table is called location_section_capacity, and contains the warehouse capacity of a given location.**\n",
    "\n",
    "**The schemas of the tables are below:**\n",
    "\n",
    "**current_inventory**:\n",
    "\n",
    "Column Name| Description, type\n",
    "---|---\n",
    "location_id|\tThe unique location code for the warehouse, int\n",
    "section_id\t|The unique section id for the warehouse, int\n",
    "item_id\t|The ID of the given item in stock, int\n",
    "item_size|\tThe size of the given item, int\n",
    "num_items|\tThe number of items currently in inventory, int\n",
    "\n",
    "\n",
    "**location_section_capacity**\n",
    "\n",
    "Column Name| Description, type\n",
    "---|---\n",
    "warehouse_state|\tThe state that the warehouse is in, varchar\n",
    "location_id|\tThe unique location code for the warehouse, int\n",
    "section_id|\tThe unique section code for section in the warehouse, int\n",
    "location_section_capacity|\tThe capacity of the given section, int\n",
    "\n",
    "**Using these two tables, write a SQL query to highlight location sections that have < 50% of the space occupied. To get the amount of space taken up by the item you will need to multiply item_size and num_items. Also note that if a location has no items, it might not show up in current_inventory.**\n",
    "\n"
   ]
  },
  {
   "cell_type": "markdown",
   "metadata": {},
   "source": [
    "# Question 92: (Python)\n",
    "\n",
    "**Suppose a company is taxed 20% if earnings for a given quarter are >= $3M USD.**\n",
    "\n",
    "**If earnings land < $3M USD for the quarter, the company is taxed at a lower rate of 15%.**\n",
    "\n",
    "**Write a function using Python to calculate both the pre-tax and post-tax earnings for a given company, with the ability to feed in the # of widgets sold as well as the average price of the widget as inputs (# of widgets sold * avg. price of widgets = total earnings in this case).**\n",
    "\n",
    "**For example, if the company sells 20,000 widgets at an average price of $220 USD then your function should return:**\n",
    "\n",
    "- **Pre-tax earnings were 20,000*220 = 4.4M for the quarter.**\n",
    "- **Post-tax earnings were 3.52M for the quarter [4.4M *.8 (since we fall in higher 20 percent tax bracket here)]**"
   ]
  },
  {
   "cell_type": "markdown",
   "metadata": {},
   "source": [
    "# Question 93: (Statistics)\n",
    "\n",
    "**Suppose you're trying to optimize a mailing campaign where physical mail is sent to potential customers. There are two options to send advertising mail: either first class or third class. First-class costs 0.50 per parcel with a delivery rate of 99% and third-class costs 0.35 per parcel with a delivery rate of 65 percent. Third-class mail also receives a volume discount, if a batch of parcels is greater than 500, for first 500 are 0.35 and anything additional costs 0.32 per parcel.**\n",
    "\n",
    "**Questions:**\n",
    "\n",
    "- Which option is the best for the company?\n",
    "- Assume our goal is to reach as many people with a cap of $1000, which option would be the best?\n",
    "- Assume our goal is to reach 100 people, what option is best?"
   ]
  },
  {
   "cell_type": "markdown",
   "metadata": {},
   "source": [
    "# Question 94: (Python)\n",
    "\n",
    "**Using Python, write code that will read a file and return the number of capital letters. Once you have your initial piece of code, see if you can condense into a one-liner.**"
   ]
  },
  {
   "cell_type": "markdown",
   "metadata": {},
   "source": [
    "# Question 95: (SQL)\n",
    "\n",
    "**Suppose you’re an analyst for an e-commerce store. You’re trying to identify the top selling products in Q4 2017 by region, and you have 2 tables that you can query:**\n",
    "\n",
    "Table: all_products\n",
    "\n",
    "Column Name|\tData Type|\tDescription\n",
    "---|---|---\n",
    "product_id|\tinteger|\tid of the product\n",
    "product_name|\tstring|\tname of the product\n",
    "sku|\tinteger|\tuniversal stock keeping unit number\n",
    "distributor_id\t|integer|\tid for distributor\n",
    "\n",
    "Table: orders\n",
    "\n",
    "\n",
    "Column Name|\tData Type|\tDescription\n",
    "---|---|---\n",
    "date|\tstring|\tformat is \"YYYY-MM-DD\"\n",
    "user_id|\tinteger|\tid of purchaser\n",
    "order_id|\tinteger\t|id of order number\n",
    "product_id|\tinteger\t|id of product\n",
    "no_units|\tinteger\t|number of units sold in the order\n",
    "price|\tinteger\t|price per item\n",
    "shipping_id|\tinteger|\tid of shipment\n",
    "region|\tstring\t|region being shipped to\n",
    "\n",
    "**Using the tables above, write a SQL query to find the top 5 selling products (in terms of total units sold) by region in Q4 of 2017. Include both the distributor id as well as the name of the product in your results.**\n"
   ]
  },
  {
   "cell_type": "markdown",
   "metadata": {},
   "source": [
    "# $\\S$ Question 96: (Python)\n",
    "\n",
    "**Given the following [dataset](https://raw.githubusercontent.com/guipsamora/pandas_exercises/master/06_Stats/US_Baby_Names/US_Baby_Names_right.csv), can you find the top state for baby births? One way to show this visually to a stakeholder would be to plot the births by state (using something like matplotlib)**"
   ]
  },
  {
   "cell_type": "code",
   "execution_count": 22,
   "metadata": {},
   "outputs": [],
   "source": [
    "import pandas as pd\n",
    "import numpy as np\n",
    "\n",
    "df = pd.read_csv('https://raw.githubusercontent.com/guipsamora/pandas_exercises/master/06_Stats/US_Baby_Names/US_Baby_Names_right.csv')"
   ]
  },
  {
   "cell_type": "code",
   "execution_count": 23,
   "metadata": {},
   "outputs": [],
   "source": [
    "state_agg= df[['State', 'Count']].groupby(['State']).sum().reset_index().sort_values(by=['Count'], ascending=False)"
   ]
  },
  {
   "cell_type": "code",
   "execution_count": 24,
   "metadata": {},
   "outputs": [
    {
     "data": {
      "text/plain": [
       "<matplotlib.axes._subplots.AxesSubplot at 0x7fc761091278>"
      ]
     },
     "execution_count": 24,
     "metadata": {},
     "output_type": "execute_result"
    },
    {
     "data": {
      "image/png": "[encoded data removed]",
      "text/plain": [
       "<Figure size 432x288 with 1 Axes>"
      ]
     },
     "metadata": {
      "needs_background": "light"
     },
     "output_type": "display_data"
    }
   ],
   "source": [
    "state_agg.head(10).plot.bar(x='State')"
   ]
  },
  {
   "cell_type": "markdown",
   "metadata": {},
   "source": [
    "# Question 97: (Statistics)\n",
    "\n",
    "**Suppose a study shows that exercising before studying can improve your memory. Suppose a researcher tests this hypothesis with a sample of 40 students, giving them a memory test after they've completed a moderately intense cardiovascular workout. Under normal circumstances (e.g. no exercise prior), the mean score was 55 while the standard deviation was 10. The mean score for the group after exercising was 61 while the standard deviation was 10.**\n",
    "\n",
    "**Given the following information, perform a Z-test to determine whether to accept or reject our null hypothesis, that exercising prior to the memory test does not improve memory.**"
   ]
  },
  {
   "cell_type": "markdown",
   "metadata": {},
   "source": [
    "# $\\S$ Question 98: (Python)\n",
    "\n",
    "**Suppose you are given a [dataset](https://raw.githubusercontent.com/justmarkham/DAT8/master/data/chipotle.tsv) of Chipotle orders. Using these data, can you make a plot showing total revenue per menu item?**"
   ]
  },
  {
   "cell_type": "code",
   "execution_count": 14,
   "metadata": {},
   "outputs": [],
   "source": [
    "import pandas as pd\n",
    "import numpy as np\n",
    "import matplotlib.pyplot as plt\n",
    "\n",
    "df = pd.read_csv('https://raw.githubusercontent.com/justmarkham/DAT8/master/data/chipotle.tsv',sep='\\t')"
   ]
  },
  {
   "cell_type": "code",
   "execution_count": 17,
   "metadata": {},
   "outputs": [],
   "source": [
    "df['item_price'] = pd.to_numeric(df['item_price'].str.replace('$', ''))"
   ]
  },
  {
   "cell_type": "code",
   "execution_count": 19,
   "metadata": {},
   "outputs": [],
   "source": [
    "df_item_revenue = df[['item_name', 'item_price']].groupby(['item_name']).sum(col=['item_price']).reset_index()"
   ]
  },
  {
   "cell_type": "code",
   "execution_count": 30,
   "metadata": {},
   "outputs": [],
   "source": [
    "df_item_revenue = df_item_revenue.rename(columns={\"item_price\": \"item_revenue\"})"
   ]
  },
  {
   "cell_type": "code",
   "execution_count": 32,
   "metadata": {},
   "outputs": [
    {
     "data": {
      "text/plain": [
       "<matplotlib.axes._subplots.AxesSubplot at 0x7ff1aed79198>"
      ]
     },
     "execution_count": 32,
     "metadata": {},
     "output_type": "execute_result"
    },
    {
     "data": {
      "image/png": "[encoded data removed]",
      "text/plain": [
       "<Figure size 432x288 with 1 Axes>"
      ]
     },
     "metadata": {
      "needs_background": "light"
     },
     "output_type": "display_data"
    }
   ],
   "source": [
    "df_item_revenue.sort_values(by=['item_revenue'], ascending=False).plot.bar(x='item_name')"
   ]
  },
  {
   "cell_type": "markdown",
   "metadata": {},
   "source": [
    "# Question 99: (SQL)\n",
    "\n",
    "**You are given the below tables, showing student attendance information as well as the grade level (grades 7-8) that each student is in. The columns are labeled in such a way that you should be able to interpret what each field is showing.**\n",
    "\n",
    "\n",
    "student_attendance_log:\n",
    "\n",
    "student_id\t|attendance_status\n",
    "---|---\n",
    "57510|\tPresent\n",
    "57509|\tPresent\n",
    "57508|\tTardy\n",
    "57507|\tAbsent\n",
    "57506|\tPresent\n",
    "57505|\tPresent\n",
    "57504|\tPresent\n",
    "57503|\tTardy\n",
    "57501|\tAbsent\n",
    "57500|\tPresent\n",
    "57499|\tTardy\n",
    "57498|\tAbsent\n",
    "57497|\tPresent\n",
    "\n",
    "\n",
    "student_info:\n",
    "\n",
    "\n",
    "student_id|\tgrade_level\n",
    "--|--\n",
    "57510|\t7\n",
    "57509|\t7\n",
    "57508|\t8\n",
    "57507|\t8\n",
    "57506|\t7\n",
    "57505|\t7\n",
    "57504|\t8\n",
    "57503|\t8\n",
    "57501|\t8\n",
    "57500|\t8\n",
    "57499|\t7\n",
    "57498|\t7\n",
    "57497|\t8\n",
    "\n",
    "**Using the tables above, write a SQL query to return the % of students by grade that are either tardy or absent in your attendance log. As shown in the tables, each student id is unique and exists across both tables.**\n",
    "\n",
    "Your output should return the following columns:\n",
    "\n",
    "grade_level|\tpercent_absent_tardy|\ttotal_num_students\n",
    "---|---|---\n",
    "7|\t0.XX|\tN\n",
    "8|\t0.YY|\tN\n"
   ]
  },
  {
   "cell_type": "code",
   "execution_count": null,
   "metadata": {},
   "outputs": [],
   "source": []
  }
 ],
 "metadata": {
  "kernelspec": {
   "display_name": "Python 3",
   "language": "python",
   "name": "python3"
  },
  "language_info": {
   "codemirror_mode": {
    "name": "ipython",
    "version": 3
   },
   "file_extension": ".py",
   "mimetype": "text/x-python",
   "name": "python",
   "nbconvert_exporter": "python",
   "pygments_lexer": "ipython3",
   "version": "3.7.3"
  }
 },
 "nbformat": 4,
 "nbformat_minor": 2
}
