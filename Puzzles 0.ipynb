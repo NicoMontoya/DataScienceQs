{
 "cells": [
  {
   "cell_type": "markdown",
   "metadata": {},
   "source": [
    "# $\\S$ Question 3: (Python)\n",
    "**Given a List of numbers (j) and a number (p), return the minimum and maximum of (p) numbers in given (j) list.**"
   ]
  },
  {
   "cell_type": "code",
   "execution_count": 38,
   "metadata": {},
   "outputs": [],
   "source": [
    "j = [4,4,4,9,10,11,12]\n",
    "p = 3\n",
    "\n",
    "ma = []\n",
    "\n",
    "def moving_avg(list_numbers, single_number):\n",
    "    for i in range(len(j)):\n",
    "        if (i+3) < len(j)+1:\n",
    "            ma.append(sum(j[i:i+3])/p)\n",
    "\n",
    "    print(\"Minimum Moving Average:\", min(ma), \"Maximimum Moving Average:\",  max(ma))"
   ]
  },
  {
   "cell_type": "code",
   "execution_count": 39,
   "metadata": {},
   "outputs": [
    {
     "name": "stdout",
     "output_type": "stream",
     "text": [
      "Minimum Moving Average: 4.0 Maximimum Moving Average: 11.0\n"
     ]
    }
   ],
   "source": [
    "moving_avg(j, p)"
   ]
  },
  {
   "cell_type": "markdown",
   "metadata": {},
   "source": [
    " # $\\S$ Question 4: (Python)\n",
    " What fraction of active users sent messages to at least 9 unique people on March 1, 2018? You should be able to write complete code to answer this, given just the schema above. Solution will be provided in Python for premium users"
   ]
  },
  {
   "cell_type": "code",
   "execution_count": 45,
   "metadata": {},
   "outputs": [
    {
     "data": {
      "text/html": [
       "<div>\n",
       "<style scoped>\n",
       "    .dataframe tbody tr th:only-of-type {\n",
       "        vertical-align: middle;\n",
       "    }\n",
       "\n",
       "    .dataframe tbody tr th {\n",
       "        vertical-align: top;\n",
       "    }\n",
       "\n",
       "    .dataframe thead th {\n",
       "        text-align: right;\n",
       "    }\n",
       "</style>\n",
       "<table border=\"1\" class=\"dataframe\">\n",
       "  <thead>\n",
       "    <tr style=\"text-align: right;\">\n",
       "      <th></th>\n",
       "      <th>date</th>\n",
       "      <th>sender_id</th>\n",
       "      <th>receiver_id</th>\n",
       "    </tr>\n",
       "  </thead>\n",
       "  <tbody>\n",
       "    <tr>\n",
       "      <th>0</th>\n",
       "      <td>2018-03-01</td>\n",
       "      <td>5</td>\n",
       "      <td>2</td>\n",
       "    </tr>\n",
       "    <tr>\n",
       "      <th>1</th>\n",
       "      <td>2018-03-01</td>\n",
       "      <td>8</td>\n",
       "      <td>6</td>\n",
       "    </tr>\n",
       "    <tr>\n",
       "      <th>2</th>\n",
       "      <td>2018-03-01</td>\n",
       "      <td>1</td>\n",
       "      <td>2</td>\n",
       "    </tr>\n",
       "    <tr>\n",
       "      <th>3</th>\n",
       "      <td>2018-03-01</td>\n",
       "      <td>4</td>\n",
       "      <td>8</td>\n",
       "    </tr>\n",
       "    <tr>\n",
       "      <th>4</th>\n",
       "      <td>2018-03-01</td>\n",
       "      <td>2</td>\n",
       "      <td>7</td>\n",
       "    </tr>\n",
       "  </tbody>\n",
       "</table>\n",
       "</div>"
      ],
      "text/plain": [
       "         date  sender_id  receiver_id\n",
       "0  2018-03-01          5            2\n",
       "1  2018-03-01          8            6\n",
       "2  2018-03-01          1            2\n",
       "3  2018-03-01          4            8\n",
       "4  2018-03-01          2            7"
      ]
     },
     "execution_count": 45,
     "metadata": {},
     "output_type": "execute_result"
    }
   ],
   "source": [
    "import pandas as pd\n",
    "df = pd.read_csv('https://raw.githubusercontent.com/erood/interviewqs.com_code_snippets/master/Datasets/ddi_message_app_data.csv')\n",
    "df.head()"
   ]
  },
  {
   "cell_type": "code",
   "execution_count": 46,
   "metadata": {},
   "outputs": [],
   "source": [
    "df['date'] = pd.to_datetime(df['date'])"
   ]
  },
  {
   "cell_type": "code",
   "execution_count": 47,
   "metadata": {},
   "outputs": [],
   "source": [
    "df_march_first = df[df['date'] == '2018-03-01']"
   ]
  },
  {
   "cell_type": "code",
   "execution_count": 50,
   "metadata": {},
   "outputs": [
    {
     "data": {
      "text/plain": [
       "4     63\n",
       "1     58\n",
       "2     50\n",
       "6     49\n",
       "5     49\n",
       "8     43\n",
       "3     42\n",
       "10    39\n",
       "9     35\n",
       "7     31\n",
       "Name: sender_id, dtype: int64"
      ]
     },
     "execution_count": 50,
     "metadata": {},
     "output_type": "execute_result"
    }
   ],
   "source": [
    "df_march_first['sender_id'].value_counts()"
   ]
  },
  {
   "cell_type": "code",
   "execution_count": 60,
   "metadata": {},
   "outputs": [
    {
     "data": {
      "text/plain": [
       "9"
      ]
     },
     "execution_count": 60,
     "metadata": {},
     "output_type": "execute_result"
    }
   ],
   "source": [
    "len(df_march_first[df_march_first['sender_id'] == 9]['receiver_id'].value_counts())"
   ]
  },
  {
   "cell_type": "code",
   "execution_count": 56,
   "metadata": {},
   "outputs": [
    {
     "name": "stdout",
     "output_type": "stream",
     "text": [
      "sender_id: 4  unique_receivers: 9\n",
      "sender_id: 1  unique_receivers: 9\n",
      "sender_id: 2  unique_receivers: 9\n",
      "sender_id: 6  unique_receivers: 9\n",
      "sender_id: 5  unique_receivers: 9\n",
      "sender_id: 8  unique_receivers: 9\n",
      "sender_id: 3  unique_receivers: 9\n",
      "sender_id: 10  unique_receivers: 9\n",
      "sender_id: 9  unique_receivers: 9\n",
      "sender_id: 7  unique_receivers: 8\n"
     ]
    }
   ],
   "source": [
    "l = [4, 1, 2, 6, 5, 8, 3, 10, 9, 7]\n",
    "\n",
    "for i in l:\n",
    "    print('sender_id: ' + str(i) + '  ' + 'unique_receivers: ' + str(len(df_march_first[df_march_first['sender_id'] == i]['receiver_id'].value_counts())))"
   ]
  },
  {
   "cell_type": "code",
   "execution_count": 62,
   "metadata": {},
   "outputs": [
    {
     "data": {
      "text/plain": [
       "0.9"
      ]
     },
     "execution_count": 62,
     "metadata": {},
     "output_type": "execute_result"
    }
   ],
   "source": [
    "9/10"
   ]
  },
  {
   "cell_type": "markdown",
   "metadata": {},
   "source": [
    "# $\\S$  Question 5:  (SQL)\n",
    "**Suppose you're consulting for a company, and you've sent out a survey that asks successive qustions randomly. The survey logs data into a table called survey_logging. The schema of the table is:**\n",
    "\n",
    "|Column Name|Data Type|Description|\n",
    "|---|---|---|\n",
    "|employee_id|integer|employee id of the survey respondant|\n",
    "action|string|Will be one of the following values, 'view', 'answer', 'skip'\n",
    "question_id|integer|ID of the question asked\n",
    "answer_id|integer|ID of the answer asked\n",
    "timestamp|integer|time stamp of the action made by respondant\n",
    "  \n",
    "**Using SQL, find which question has the highest response rate.**"
   ]
  },
  {
   "cell_type": "code",
   "execution_count": null,
   "metadata": {},
   "outputs": [],
   "source": [
    "%SQL\n",
    "\n",
    "SELECT TOP(1)question_id\n",
    "    ,  COUNT(*) as response_count\n",
    "FROM survey_logging\n",
    "GROUP BY question_id\n",
    "ORDER BY response_count DESC"
   ]
  },
  {
   "cell_type": "markdown",
   "metadata": {},
   "source": [
    "#  $\\S$ Question 6: (Python)\n",
    "Create a Python function that generates the power set given a set of values. For example, if you're given the following set:\n",
    "\n",
    "set = {1, 2, 3}\n",
    "\n",
    "Your python function should return the corresponding power set (note this can be a formatted as a list of lists):\n",
    "\n",
    "power set = [[], [1], [2], [1, 2], [3], [1, 3], [2, 3], [1, 2, 3]]"
   ]
  },
  {
   "cell_type": "code",
   "execution_count": 1,
   "metadata": {},
   "outputs": [],
   "source": [
    "import itertools\n",
    "\n",
    "s = {1, 2, 3}\n",
    "\n",
    "def power_set(boboo):\n",
    "    \n",
    "    sets = [[]]\n",
    "    \n",
    "    sorted_sets = []\n",
    "    \n",
    "    for i in boboo:\n",
    "        sets.append([i])\n",
    "        \n",
    "        for j in boboo:\n",
    "            if len(set([i,j])) == len([i,j]):\n",
    "                sets.append([i, j])\n",
    "                \n",
    "            for z in boboo:\n",
    "                if len(set([i, j, z])) == len([i,j,z]):\n",
    "                    sets.append([i,j,z])\n",
    "\n",
    "    for i in sets:\n",
    "        sorted_sets.append(sorted(i))\n",
    "        \n",
    "    sorted_sets.sort()\n",
    "    answer = list(sorted_sets for sorted_sets,_ in itertools.groupby(sorted_sets))\n",
    "    \n",
    "    return answer"
   ]
  },
  {
   "cell_type": "code",
   "execution_count": 65,
   "metadata": {},
   "outputs": [
    {
     "data": {
      "text/plain": [
       "[[], [1], [1, 2], [1, 2, 3], [1, 3], [2], [2, 3], [3]]"
      ]
     },
     "execution_count": 65,
     "metadata": {},
     "output_type": "execute_result"
    }
   ],
   "source": [
    "power_set(s)"
   ]
  },
  {
   "cell_type": "markdown",
   "metadata": {},
   "source": [
    "# $\\S$ Question 7: (Baye's)\n",
    "**Given the information below, if you had a good first interview, what is the probability you will receive a second interview?**\n",
    "\n",
    "-  50% of all people who received a first interview received a second interview\n",
    "-  95% of people that received a second interview had a good first interview\n",
    "-  75% of people that did not receive a second interview had a good first interview\n",
    "\n"
   ]
  },
  {
   "cell_type": "markdown",
   "metadata": {},
   "source": [
    "***Baye's Theory:***\n",
    "$P(A\\mid B) = \\frac{P(B\\mid A) \\cdot P(A)} {P(B)}$\n",
    "\n",
    "\n",
    "\n",
    "- A (receive second interview), B(first interview went well)\t=\tevents\n",
    "- P(A|B)\t=\tprobability of A given B is true\n",
    "- P(B|A)\t=\tprobability of B given A is true\n",
    "- P(A), P(B)\t=\tthe independent probabilities of A and B"
   ]
  },
  {
   "cell_type": "code",
   "execution_count": 9,
   "metadata": {},
   "outputs": [
    {
     "data": {
      "text/plain": [
       "0.5588235294117647"
      ]
     },
     "execution_count": 9,
     "metadata": {},
     "output_type": "execute_result"
    }
   ],
   "source": [
    "P_A = .50\n",
    "P_B_given_A = .95\n",
    "P_B = .85    ## because 95% of second round interviewers received a good interview... (47.5%)\n",
    "             ## but also have to include 75% of people that did not receive second interview, yet had good first interview. (37.5%)\n",
    "\n",
    "P = (P_B_given_A * P_A)/P_B\n",
    "\n",
    "P"
   ]
  },
  {
   "cell_type": "markdown",
   "metadata": {},
   "source": [
    "# $\\S$ Question 8: (Python)\n",
    "**Given an array a, write a function to feed in the array elements and check whether they can all be made equal by only multiplying the numbers by 2 or 7. (you can multiply by these #s as many times as you like)**\n",
    "\n",
    "If all elements can be made equal, return False, otherwise return True.\n",
    "\n",
    "**Example:**\n",
    "\n",
    "#Input\n",
    "a = [128, 4, 2]\n",
    "\n",
    "#Here, we can turn all elements into 128, by multiplying by 2\n",
    "#128, 4*2*2*2*2*2 = 128, 2*2*2*2*2*2*2 = 128\n",
    "\n",
    "#Output:\n",
    "#True\n",
    "\n",
    "#Input\n",
    "a = [65, 4, 2]\n",
    "#Here, we cannot make all elements equal through multiplication by 2 or 7, \n",
    "#so we return false\n",
    "\n",
    "#Output:\n",
    "#False"
   ]
  },
  {
   "cell_type": "code",
   "execution_count": 17,
   "metadata": {},
   "outputs": [],
   "source": [
    "a = [65, 4, 2]\n",
    "\n",
    "def divisibility(elements):\n",
    "    \n",
    "    list_one = []\n",
    "    list_two = []\n",
    "    list_three = []\n",
    "    \n",
    "    one = elements[0]\n",
    "    two = elements[1]\n",
    "    three = elements[2]\n",
    "    \n",
    "    for i in range(1000):\n",
    "        list_one.append((2**i) * one)\n",
    "        list_two.append((2**i) * two)\n",
    "        list_three.append((2**i) * three)\n",
    "        list_one.append((7**i) * one)\n",
    "        list_two.append((7**i) * two)\n",
    "        list_three.append((7**i) * three)\n",
    "        \n",
    "    list_one.append(one)\n",
    "    list_two.append(two)\n",
    "    list_three.append(three)\n",
    "        \n",
    "    set_one = set(list_one)\n",
    "    set_two = set(list_two)\n",
    "    set_three = set(list_three)\n",
    "    \n",
    "    if (set_one & set_two & set_three):\n",
    "        return True\n",
    "    else:\n",
    "        return False\n",
    "        \n",
    "    \n"
   ]
  },
  {
   "cell_type": "code",
   "execution_count": 18,
   "metadata": {},
   "outputs": [
    {
     "name": "stdout",
     "output_type": "stream",
     "text": [
      "False\n"
     ]
    }
   ],
   "source": [
    "print(divisibility(a))"
   ]
  },
  {
   "cell_type": "markdown",
   "metadata": {},
   "source": [
    "# Question 9: (Python)\n",
    "**You are given a dataset with information around messages sent between users in a P2P messaging application. Below is the dataset's schema:**\n",
    "\n",
    "| Column Name |\tData Type |\tDescription |\n",
    "|---|---|---|\n",
    "|date|\tstring|\tdate of the message sent/received, format is 'YYYY-mm-dd'|\n",
    "|timestamp | integer | timestamp of the message sent/received, epoch seconds |\n",
    "|sender_id|\tinteger|\tid of the message sender|\n",
    "|receiver_id|\tinteger|\tid of the message receiver|\n",
    "\n",
    "**Given this, write code to find the fraction of messages that are sent between the same sender and receiver within five minutes (e.g. the fraction of messages that receive a response within 5 minutes).**"
   ]
  },
  {
   "cell_type": "code",
   "execution_count": 1,
   "metadata": {},
   "outputs": [],
   "source": [
    "import pandas as pd\n",
    "import numpy as np\n",
    "\n",
    "df = pd.read_csv(r'C:\\Users\\NMontoya\\Documents\\Custom Office Templates\\Copy of Sample Message Dataset - Sheet1.csv')"
   ]
  },
  {
   "cell_type": "code",
   "execution_count": 2,
   "metadata": {},
   "outputs": [
    {
     "data": {
      "text/html": [
       "<div>\n",
       "<style scoped>\n",
       "    .dataframe tbody tr th:only-of-type {\n",
       "        vertical-align: middle;\n",
       "    }\n",
       "\n",
       "    .dataframe tbody tr th {\n",
       "        vertical-align: top;\n",
       "    }\n",
       "\n",
       "    .dataframe thead th {\n",
       "        text-align: right;\n",
       "    }\n",
       "</style>\n",
       "<table border=\"1\" class=\"dataframe\">\n",
       "  <thead>\n",
       "    <tr style=\"text-align: right;\">\n",
       "      <th></th>\n",
       "      <th>date</th>\n",
       "      <th>timestamp</th>\n",
       "      <th>sender_id</th>\n",
       "      <th>receiver_id</th>\n",
       "    </tr>\n",
       "  </thead>\n",
       "  <tbody>\n",
       "    <tr>\n",
       "      <th>0</th>\n",
       "      <td>2018-03-01</td>\n",
       "      <td>1519923378</td>\n",
       "      <td>1</td>\n",
       "      <td>5</td>\n",
       "    </tr>\n",
       "    <tr>\n",
       "      <th>1</th>\n",
       "      <td>2018-03-01</td>\n",
       "      <td>1519942810</td>\n",
       "      <td>1</td>\n",
       "      <td>4</td>\n",
       "    </tr>\n",
       "    <tr>\n",
       "      <th>2</th>\n",
       "      <td>2018-03-01</td>\n",
       "      <td>1519918950</td>\n",
       "      <td>1</td>\n",
       "      <td>5</td>\n",
       "    </tr>\n",
       "    <tr>\n",
       "      <th>3</th>\n",
       "      <td>2018-03-01</td>\n",
       "      <td>1519930114</td>\n",
       "      <td>1</td>\n",
       "      <td>2</td>\n",
       "    </tr>\n",
       "    <tr>\n",
       "      <th>4</th>\n",
       "      <td>2018-03-01</td>\n",
       "      <td>1519920410</td>\n",
       "      <td>1</td>\n",
       "      <td>2</td>\n",
       "    </tr>\n",
       "  </tbody>\n",
       "</table>\n",
       "</div>"
      ],
      "text/plain": [
       "         date   timestamp  sender_id  receiver_id\n",
       "0  2018-03-01  1519923378          1            5\n",
       "1  2018-03-01  1519942810          1            4\n",
       "2  2018-03-01  1519918950          1            5\n",
       "3  2018-03-01  1519930114          1            2\n",
       "4  2018-03-01  1519920410          1            2"
      ]
     },
     "execution_count": 2,
     "metadata": {},
     "output_type": "execute_result"
    }
   ],
   "source": [
    "df.head()"
   ]
  },
  {
   "cell_type": "code",
   "execution_count": 3,
   "metadata": {},
   "outputs": [],
   "source": [
    "df['timestamp'] = pd.to_datetime(df['timestamp'], unit='s')"
   ]
  },
  {
   "cell_type": "code",
   "execution_count": 4,
   "metadata": {},
   "outputs": [
    {
     "data": {
      "text/html": [
       "<div>\n",
       "<style scoped>\n",
       "    .dataframe tbody tr th:only-of-type {\n",
       "        vertical-align: middle;\n",
       "    }\n",
       "\n",
       "    .dataframe tbody tr th {\n",
       "        vertical-align: top;\n",
       "    }\n",
       "\n",
       "    .dataframe thead th {\n",
       "        text-align: right;\n",
       "    }\n",
       "</style>\n",
       "<table border=\"1\" class=\"dataframe\">\n",
       "  <thead>\n",
       "    <tr style=\"text-align: right;\">\n",
       "      <th></th>\n",
       "      <th>date</th>\n",
       "      <th>timestamp</th>\n",
       "      <th>sender_id</th>\n",
       "      <th>receiver_id</th>\n",
       "    </tr>\n",
       "  </thead>\n",
       "  <tbody>\n",
       "    <tr>\n",
       "      <th>38</th>\n",
       "      <td>2018-03-01</td>\n",
       "      <td>2018-03-01 00:56:40</td>\n",
       "      <td>7</td>\n",
       "      <td>4</td>\n",
       "    </tr>\n",
       "    <tr>\n",
       "      <th>81</th>\n",
       "      <td>2018-03-01</td>\n",
       "      <td>2018-03-01 01:00:04</td>\n",
       "      <td>4</td>\n",
       "      <td>7</td>\n",
       "    </tr>\n",
       "    <tr>\n",
       "      <th>5</th>\n",
       "      <td>2018-03-01</td>\n",
       "      <td>2018-03-01 01:45:47</td>\n",
       "      <td>2</td>\n",
       "      <td>3</td>\n",
       "    </tr>\n",
       "    <tr>\n",
       "      <th>48</th>\n",
       "      <td>2018-03-01</td>\n",
       "      <td>2018-03-01 01:45:58</td>\n",
       "      <td>3</td>\n",
       "      <td>2</td>\n",
       "    </tr>\n",
       "    <tr>\n",
       "      <th>7</th>\n",
       "      <td>2018-03-01</td>\n",
       "      <td>2018-03-01 03:07:13</td>\n",
       "      <td>2</td>\n",
       "      <td>2</td>\n",
       "    </tr>\n",
       "  </tbody>\n",
       "</table>\n",
       "</div>"
      ],
      "text/plain": [
       "          date           timestamp  sender_id  receiver_id\n",
       "38  2018-03-01 2018-03-01 00:56:40          7            4\n",
       "81  2018-03-01 2018-03-01 01:00:04          4            7\n",
       "5   2018-03-01 2018-03-01 01:45:47          2            3\n",
       "48  2018-03-01 2018-03-01 01:45:58          3            2\n",
       "7   2018-03-01 2018-03-01 03:07:13          2            2"
      ]
     },
     "execution_count": 4,
     "metadata": {},
     "output_type": "execute_result"
    }
   ],
   "source": [
    "df.sort_values(by=['timestamp']).head()"
   ]
  },
  {
   "cell_type": "code",
   "execution_count": 11,
   "metadata": {},
   "outputs": [
    {
     "data": {
      "text/html": [
       "<div>\n",
       "<style scoped>\n",
       "    .dataframe tbody tr th:only-of-type {\n",
       "        vertical-align: middle;\n",
       "    }\n",
       "\n",
       "    .dataframe tbody tr th {\n",
       "        vertical-align: top;\n",
       "    }\n",
       "\n",
       "    .dataframe thead th {\n",
       "        text-align: right;\n",
       "    }\n",
       "</style>\n",
       "<table border=\"1\" class=\"dataframe\">\n",
       "  <thead>\n",
       "    <tr style=\"text-align: right;\">\n",
       "      <th></th>\n",
       "      <th>date</th>\n",
       "      <th>timestamp</th>\n",
       "      <th>sender_id</th>\n",
       "      <th>receiver_id</th>\n",
       "    </tr>\n",
       "  </thead>\n",
       "  <tbody>\n",
       "    <tr>\n",
       "      <th>38</th>\n",
       "      <td>2018-03-01</td>\n",
       "      <td>2018-03-01 00:56:40</td>\n",
       "      <td>7</td>\n",
       "      <td>4</td>\n",
       "    </tr>\n",
       "    <tr>\n",
       "      <th>81</th>\n",
       "      <td>2018-03-01</td>\n",
       "      <td>2018-03-01 01:00:04</td>\n",
       "      <td>4</td>\n",
       "      <td>7</td>\n",
       "    </tr>\n",
       "    <tr>\n",
       "      <th>34</th>\n",
       "      <td>2018-03-01</td>\n",
       "      <td>2018-03-01 07:33:53</td>\n",
       "      <td>7</td>\n",
       "      <td>4</td>\n",
       "    </tr>\n",
       "    <tr>\n",
       "      <th>77</th>\n",
       "      <td>2018-03-01</td>\n",
       "      <td>2018-03-01 07:58:22</td>\n",
       "      <td>4</td>\n",
       "      <td>7</td>\n",
       "    </tr>\n",
       "    <tr>\n",
       "      <th>18</th>\n",
       "      <td>2018-03-01</td>\n",
       "      <td>2018-03-01 09:34:57</td>\n",
       "      <td>4</td>\n",
       "      <td>7</td>\n",
       "    </tr>\n",
       "    <tr>\n",
       "      <th>61</th>\n",
       "      <td>2018-03-01</td>\n",
       "      <td>2018-03-01 09:39:41</td>\n",
       "      <td>7</td>\n",
       "      <td>4</td>\n",
       "    </tr>\n",
       "  </tbody>\n",
       "</table>\n",
       "</div>"
      ],
      "text/plain": [
       "          date           timestamp  sender_id  receiver_id\n",
       "38  2018-03-01 2018-03-01 00:56:40          7            4\n",
       "81  2018-03-01 2018-03-01 01:00:04          4            7\n",
       "34  2018-03-01 2018-03-01 07:33:53          7            4\n",
       "77  2018-03-01 2018-03-01 07:58:22          4            7\n",
       "18  2018-03-01 2018-03-01 09:34:57          4            7\n",
       "61  2018-03-01 2018-03-01 09:39:41          7            4"
      ]
     },
     "execution_count": 11,
     "metadata": {},
     "output_type": "execute_result"
    }
   ],
   "source": [
    "df[((df['sender_id'] == 7) & (df['receiver_id'] == 4)) | ((df['sender_id'] == 4) &( df['receiver_id'] == 7))].sort_values(by=['timestamp'])"
   ]
  },
  {
   "cell_type": "markdown",
   "metadata": {},
   "source": [
    "# Question 10: (SQL)\n",
    "**Given the following table schemas, how would you figure out the overall attendance rate for each grade on 2018-03-12?**\n",
    "\n",
    "Table 1:\n",
    "\n",
    "| Column Name  | Date Type  |Description   | \n",
    "|---|---|---|\n",
    "| Date  |  string | date of log per student_id, format is 'yyyy-mm-dd'  |\n",
    "|student_id   | integer  | id of a student|\n",
    "| attendance_status  | string  | Possible values are ['present', 'tardy', 'absent']  |\n",
    "\n",
    "\n",
    "Table 2:\n",
    "\n",
    "| Column Name  |Date Type   | Description  |\n",
    "|---|---|---|\n",
    "| student_id  |  integer | id of the student  |\n",
    "| grade_level  | integer  | will be a value of 0-12, which corresponds  |\n",
    "| date_of_birth  | string  | Student birth date, format is 'yyyy-mm-dd'  |"
   ]
  },
  {
   "cell_type": "markdown",
   "metadata": {},
   "source": [
    "# $\\S$ Question 11: (ML Concepts)\n",
    "**Can you explain what the Bias-Variance Tradeoff is? Can you share an example of when you might want to use a biased estimator? Think about this in the context of machine learning and training data.**\n",
    "\n",
    "Answer: Bias-Variance Tradeoff is the dilemma of trying when you try to minimize bias in a model, you tend to increase variance, and vice versa.  Ideally both bias and variance are minimized.  The issue with bias, is that although it generalizes things, too much of it can cause a model to miss important relationships that actually improve forecasting.  In other words, high bias can lead to the underfitting of a model.  On the other hand, high variance will capture almost any relationship in data. Too much of it of course will lead to overfitting.  \n",
    "\n",
    "**research why and when you might want to use a biased estimator.. this ideas seems importantv**"
   ]
  },
  {
   "cell_type": "markdown",
   "metadata": {},
   "source": [
    "# Question 12: (Python)\n",
    "**Suppose you are given a list of Q 1D points. Write code to return the value in Q that is the closest to value j. If two values are equally close to j, return the smaller value.**\n",
    "\n",
    "**Example:**\n",
    "\n",
    "Q = [1, -1, -5, 2, 4, -2, 1]\n",
    "\n",
    "j = 3\n",
    "\n",
    "#Output: 2"
   ]
  },
  {
   "cell_type": "code",
   "execution_count": null,
   "metadata": {},
   "outputs": [],
   "source": [
    "Q = [1, -1, -5, 2, 4, -2, 1]\n",
    "J = 3\n",
    "\n",
    "def closest_number(number_list, target):\n",
    "    "
   ]
  },
  {
   "cell_type": "markdown",
   "metadata": {},
   "source": [
    "# Question 13: (Python)\n",
    "\n",
    "**Company XYZ recently migrated database systems causing some of the date_joined records to be NULL. You're told by an analyst in human resources NULL records for the date_joined field indicates the employees joined prior to 2010. You also find out there are multiple employees with the same name and duplicate records for some employees.**\n",
    "\n",
    "**Given this, write code to find the number of employees that joined each month. You can group all of the null values as Dec 1, 2009.**"
   ]
  },
  {
   "cell_type": "code",
   "execution_count": 60,
   "metadata": {},
   "outputs": [
    {
     "data": {
      "text/html": [
       "<div>\n",
       "<style scoped>\n",
       "    .dataframe tbody tr th:only-of-type {\n",
       "        vertical-align: middle;\n",
       "    }\n",
       "\n",
       "    .dataframe tbody tr th {\n",
       "        vertical-align: top;\n",
       "    }\n",
       "\n",
       "    .dataframe thead th {\n",
       "        text-align: right;\n",
       "    }\n",
       "</style>\n",
       "<table border=\"1\" class=\"dataframe\">\n",
       "  <thead>\n",
       "    <tr style=\"text-align: right;\">\n",
       "      <th></th>\n",
       "      <th>employee_name</th>\n",
       "      <th>employee_id</th>\n",
       "      <th>date_joined</th>\n",
       "      <th>age</th>\n",
       "      <th>yrs_of_experience</th>\n",
       "    </tr>\n",
       "  </thead>\n",
       "  <tbody>\n",
       "    <tr>\n",
       "      <th>0</th>\n",
       "      <td>Andy</td>\n",
       "      <td>123456</td>\n",
       "      <td>2015-02-15</td>\n",
       "      <td>45</td>\n",
       "      <td>24</td>\n",
       "    </tr>\n",
       "    <tr>\n",
       "      <th>1</th>\n",
       "      <td>Beth</td>\n",
       "      <td>789456</td>\n",
       "      <td>NaN</td>\n",
       "      <td>36</td>\n",
       "      <td>14</td>\n",
       "    </tr>\n",
       "    <tr>\n",
       "      <th>2</th>\n",
       "      <td>Cindy</td>\n",
       "      <td>654123</td>\n",
       "      <td>2017-05-16</td>\n",
       "      <td>34</td>\n",
       "      <td>14</td>\n",
       "    </tr>\n",
       "    <tr>\n",
       "      <th>3</th>\n",
       "      <td>Dale</td>\n",
       "      <td>963852</td>\n",
       "      <td>2018-01-15</td>\n",
       "      <td>25</td>\n",
       "      <td>4</td>\n",
       "    </tr>\n",
       "  </tbody>\n",
       "</table>\n",
       "</div>"
      ],
      "text/plain": [
       "  employee_name  employee_id date_joined  age  yrs_of_experience\n",
       "0          Andy       123456  2015-02-15   45                 24\n",
       "1          Beth       789456         NaN   36                 14\n",
       "2         Cindy       654123  2017-05-16   34                 14\n",
       "3          Dale       963852  2018-01-15   25                  4"
      ]
     },
     "execution_count": 60,
     "metadata": {},
     "output_type": "execute_result"
    }
   ],
   "source": [
    "import pandas as pd\n",
    "from datetime import datetime\n",
    "from dateutil.parser import parse\n",
    "import numpy as np\n",
    "raw_data = {'employee_name': ['Andy', 'Beth', 'Cindy', \"Dale\"],\n",
    "            'employee_id': [123456,789456,654123,963852],\n",
    "            'date_joined': ['2015-02-15', np.nan, '2017-05-16', \"2018-01-15\"],\n",
    "            'age': [45,36,34,25],\n",
    "            'yrs_of_experience': [24,14,14,4]}\n",
    "df = pd.DataFrame(raw_data, columns = ['employee_name', 'employee_id', 'date_joined','age', 'yrs_of_experience'])\n",
    "df"
   ]
  },
  {
   "cell_type": "code",
   "execution_count": 62,
   "metadata": {},
   "outputs": [],
   "source": [
    "import datetime\n",
    "\n",
    "df = df.fillna(pd.Timestamp('20091201'))"
   ]
  },
  {
   "cell_type": "code",
   "execution_count": 64,
   "metadata": {},
   "outputs": [],
   "source": [
    "df['date_joined'] = pd.to_datetime(df['date_joined'])"
   ]
  },
  {
   "cell_type": "code",
   "execution_count": 72,
   "metadata": {},
   "outputs": [],
   "source": [
    "df.index = df['date_joined']"
   ]
  },
  {
   "cell_type": "code",
   "execution_count": 76,
   "metadata": {},
   "outputs": [
    {
     "data": {
      "text/html": [
       "<div>\n",
       "<style scoped>\n",
       "    .dataframe tbody tr th:only-of-type {\n",
       "        vertical-align: middle;\n",
       "    }\n",
       "\n",
       "    .dataframe tbody tr th {\n",
       "        vertical-align: top;\n",
       "    }\n",
       "\n",
       "    .dataframe thead th {\n",
       "        text-align: right;\n",
       "    }\n",
       "</style>\n",
       "<table border=\"1\" class=\"dataframe\">\n",
       "  <thead>\n",
       "    <tr style=\"text-align: right;\">\n",
       "      <th></th>\n",
       "      <th>employee_name</th>\n",
       "      <th>employee_id</th>\n",
       "      <th>date_joined</th>\n",
       "      <th>age</th>\n",
       "      <th>yrs_of_experience</th>\n",
       "    </tr>\n",
       "    <tr>\n",
       "      <th>date_joined</th>\n",
       "      <th></th>\n",
       "      <th></th>\n",
       "      <th></th>\n",
       "      <th></th>\n",
       "      <th></th>\n",
       "    </tr>\n",
       "  </thead>\n",
       "  <tbody>\n",
       "    <tr>\n",
       "      <th>2009-12-31</th>\n",
       "      <td>1</td>\n",
       "      <td>1</td>\n",
       "      <td>1</td>\n",
       "      <td>1</td>\n",
       "      <td>1</td>\n",
       "    </tr>\n",
       "    <tr>\n",
       "      <th>2010-01-31</th>\n",
       "      <td>0</td>\n",
       "      <td>0</td>\n",
       "      <td>0</td>\n",
       "      <td>0</td>\n",
       "      <td>0</td>\n",
       "    </tr>\n",
       "    <tr>\n",
       "      <th>2010-02-28</th>\n",
       "      <td>0</td>\n",
       "      <td>0</td>\n",
       "      <td>0</td>\n",
       "      <td>0</td>\n",
       "      <td>0</td>\n",
       "    </tr>\n",
       "    <tr>\n",
       "      <th>2010-03-31</th>\n",
       "      <td>0</td>\n",
       "      <td>0</td>\n",
       "      <td>0</td>\n",
       "      <td>0</td>\n",
       "      <td>0</td>\n",
       "    </tr>\n",
       "    <tr>\n",
       "      <th>2010-04-30</th>\n",
       "      <td>0</td>\n",
       "      <td>0</td>\n",
       "      <td>0</td>\n",
       "      <td>0</td>\n",
       "      <td>0</td>\n",
       "    </tr>\n",
       "  </tbody>\n",
       "</table>\n",
       "</div>"
      ],
      "text/plain": [
       "             employee_name  employee_id  date_joined  age  yrs_of_experience\n",
       "date_joined                                                                 \n",
       "2009-12-31               1            1            1    1                  1\n",
       "2010-01-31               0            0            0    0                  0\n",
       "2010-02-28               0            0            0    0                  0\n",
       "2010-03-31               0            0            0    0                  0\n",
       "2010-04-30               0            0            0    0                  0"
      ]
     },
     "execution_count": 76,
     "metadata": {},
     "output_type": "execute_result"
    }
   ],
   "source": [
    "df.resample('M').count().head()"
   ]
  },
  {
   "cell_type": "markdown",
   "metadata": {},
   "source": [
    "# $\\S$Question 14: (SQL)\n",
    "\n",
    "**Below are two table schemas for a popular music streaming application:**\n",
    "\n",
    "Table 1: user_song_log\n",
    "\n",
    "|Column_name| Data_type| Description|\n",
    "|---|---|---|\n",
    "|user_id|id|id of streaming user|\n",
    "|timestamp|integer|\ttimestamp of when the user started listening to the song, epoch seconds|\n",
    "|song_id|integer|id of song|\n",
    "|artist_id|integer|id of artist|\n",
    "\n",
    "Table 2: song_info\n",
    "\n",
    "|Column_name|data_type|description|\n",
    "|---|---|---|\n",
    "|song_id|integer|id of song|\n",
    "|artist_id|integer|id of artist|\n",
    "|song_length|integer|length of song in seconds|\n",
    "\n",
    "**Given the above, can you write a SQL query to estimate the average number of hours a user spends listening to music daily? You can assume that once a given user starts a song, they listen to it in its entirety.**"
   ]
  },
  {
   "cell_type": "code",
   "execution_count": null,
   "metadata": {},
   "outputs": [],
   "source": [
    "%SQL\n",
    "\n",
    "SELECT usl.user_id\n",
    "    ,  AVG(tt.time_listened_day) AS avg_time_listened_day\n",
    "FROM user_song_log usl\n",
    "LEFT JOIN\n",
    "    (SELECT usl.user_id,\n",
    "        ,  SUM(si.song_length) AS time_listened_day\n",
    "        ,  DATE(FROM_UNIXTIME(timestamp)) as Day\n",
    "    FROM user_song_log usl\n",
    "    LEFT JOIN song_info si ON si.song_id = usl.song_id\n",
    "    GROUP BY usl.user_id, DATE(FROM_UNIXTIME(timestamp))\n",
    "    ORDER BY Day) tt ON tt.user_id = usl.user_id\n",
    "GROUP BY usl.user_id"
   ]
  },
  {
   "cell_type": "markdown",
   "metadata": {},
   "source": [
    "# Question 15: (Probability)\n",
    "\n",
    "**Suppose we have a standard (52 card) deck of cards. Each card has an equal chance of being one of the four \"suits\" (e.g. clubs, spades, diamonds, and hearts).**\n",
    "\n",
    "### **Question:**\n",
    "\n",
    "**If you draw 3 cards from the deck, one at a time, what is the probability that you draw a club, a heart, and a diamond in that order?**"
   ]
  },
  {
   "cell_type": "markdown",
   "metadata": {},
   "source": [
    "# Question 16: (Python)\n",
    "\n",
    "**Suppose you are given P, which is list of j integer intervals, where j is the number of intervals. The intervals are in a format [a, b].**\n",
    "\n",
    "**Given an integer z, can you return the number of overlapping intervals for point z?**\n",
    "\n",
    "**For example:**\n",
    "\n",
    "#Input:\n",
    "P =  [[0, 2], [3, 7], [4, 6], [7, 8], [1 ,5]]\n",
    "z = 5\n",
    "#Output:\n",
    "#3\n",
    "#At z = 5, there are 3 intervals that overlap. The intervals are: [3, 7], [4, 6], and [1, 5]"
   ]
  },
  {
   "cell_type": "markdown",
   "metadata": {},
   "source": [
    "# Question 17: (Python)\n",
    "\n",
    "**Below is a snippet from a table that contains information about employees that work at Company XYZ:**\n",
    "\n",
    "|Column Name|Data Type|Example Value| Description|\n",
    "|---|---|---|---|\n",
    "|Employee_name|string|Cindy|Name of employee|\n",
    "|Employee_id| integer| 1837204| Unique id for each employee|\n",
    "|yrs_of_experience| interger| 14| total working years of experience|\n",
    "|yrs_at_a_company| integer| 10| total working years at company XYZ|\n",
    "|compensation| integer| 100000| dollar value of employee compensation|\n",
    "|career_track| string| technical| Potential values: technical, non-technical, executive|\n",
    "\n",
    "\n",
    "**Company XYZ Human Resource department is trying to understand compensation across the company and asked you to pull data to help them make a decision regarding employee compensation.**\n",
    "\n",
    "**Question: Can you pull the average, median, minimum, maximum, and standard deviations for salary across 5 year experience buckets at Company XYZ? (e.g. get the corresponding average, median, minimum, maximum, and standard deviations for experience buckets 0-5, 5-10, 10-15, etc.)**\n",
    "\n",
    "**You can assume the data is imported into a dataframe named df. Solution will be provided in Python for premium users.**"
   ]
  },
  {
   "cell_type": "markdown",
   "metadata": {},
   "source": [
    "# Question 18: (SQL)\n",
    "**Suppose you're an analyst for a major US hotel chain which has locations all over the US. Your marketing team is planning a promotion focused around loyal customers, and they are trying to forecast how much revenue the promotion will bring in. However, they need help from you to understand how much revenue comes from \"loyal\" customers to plug into their model.**\n",
    "\n",
    "**A \"loyal\" customer is defined as (1) having a membership with your company's point system, (2) having >2 stays at each hotel the customer visited, (3) having stayed at 3 different locations throughout the US.**\n",
    "\n",
    "**You have a table showing all transactions made in 2017. The schema of the table is below:**\n",
    "\n",
    "|Column Name| Data type| Description|\n",
    "|---|---|---|\n",
    "|customer_id| id| id of customer|\n",
    "|hotel_id| integer| unique id for hotel|\n",
    "|transaction_id| integer| unique id for tansaction|\n",
    "|first_night| string| date of first night in 'YYYY-mm-dd' format|\n",
    "|number_of_nights| integer| # of nights customer stayed in hotel|\n",
    "|total_spend| integer| total $ spent|\n",
    "|is_member| boolean| indicates if customer is member of point system|\n",
    "\n",
    "**Given this, can you write a SQL query that calculates percent of revenue loyal customers brought in 2017?**"
   ]
  },
  {
   "cell_type": "markdown",
   "metadata": {},
   "source": [
    "# Question 19:  (Baye's)\n",
    "**You go to see the doctor about a cough you've had for a while. The doctor selects you at random to have a blood test for a new strain of flu, which for the purposes of this exercise we will say is currently suspected to affect 1 in 10,000 people in the US. The test is 99% accurate, in the sense that the probability of a false positive is 1%.**\n",
    "\n",
    "**The probability of a false negative is zero. You test positive. What is the new probability that you have this strain of flu?**"
   ]
  },
  {
   "cell_type": "markdown",
   "metadata": {},
   "source": [
    "# $\\S$Question 20: (Python)\n",
    "\n",
    "**Write a function to return a boolean that indicates if two strings are one edit away from being identical. The function should take in 2 strings and return a boolean.**\n",
    "\n",
    "**The definition of an 'edit' is as follows:**\n",
    "\n",
    "- Insert one character\n",
    "- Remove one character\n",
    "- Replace one character\n",
    "\n",
    "**A few examples of inputs and the function result are listed below:**\n",
    "\n",
    "- OneEditAway('pea', 'peas') = True\n",
    "\n",
    "- OneEditAway('pea', 'fleas') = False\n",
    "\n",
    "- OneEditAway('pea', 'lea') = True\n",
    "\n",
    "- OneEditAway('pea', 'seas') = False"
   ]
  },
  {
   "cell_type": "code",
   "execution_count": 42,
   "metadata": {},
   "outputs": [],
   "source": [
    "def OneEditAway(first_string, second_string):\n",
    "    \n",
    "    count = sum(1 for a, b in zip(seq1, seq2) if a != b) + abs(len(seq1) - len(seq2))\n",
    "    \n",
    "    if count == 1:\n",
    "        return True\n",
    "    else:\n",
    "        return False"
   ]
  },
  {
   "cell_type": "code",
   "execution_count": 48,
   "metadata": {},
   "outputs": [
    {
     "data": {
      "text/plain": [
       "True"
      ]
     },
     "execution_count": 48,
     "metadata": {},
     "output_type": "execute_result"
    }
   ],
   "source": [
    "seq1 = 'pea'\n",
    "seq2 = 'lea'\n",
    "\n",
    "OneEditAway(seq1, seq2)"
   ]
  },
  {
   "cell_type": "markdown",
   "metadata": {},
   "source": [
    "# Question 21 (python)\n",
    "\n",
    "**You're given a set of data that is aggregated on a monthly basis (as illustrated in Table A).**\n",
    "\n",
    "**Can you write code that can expand this monthly table into a daily table that spreads revenue across the 30 day period (as shown in Table B)?**\n",
    "\n",
    "**You can assume each month has 30 days and that Table A is in a dataframe named \"df\".**\n",
    "\n",
    "Table A:\n",
    "\n",
    "|Index| Month| Revenue($)|\n",
    "|---|---|---|\n",
    "|0|1|300|\n",
    "|1|2|330|\n",
    "|2|3|390|\n",
    "\n",
    "Table B:\n",
    "\n",
    "|Index|Month|Day|Revenue($)|\n",
    "|---|---|---|---|\n",
    "|0|1|1|10|\n",
    "|1|1|2|10|\n",
    "|2|1|3|10|\n",
    "|...|...|...|...|\n",
    "|30|2|1|11|\n",
    "|31|2|2|11|\n",
    "|...|...|...|...|\n",
    "|60|3|1|13|\n",
    "|...|...|...|...|\n",
    "|89|3|30|13|"
   ]
  },
  {
   "cell_type": "markdown",
   "metadata": {},
   "source": [
    "# Question 22: (SQL)\n",
    "\n",
    "**You work for a large hardware company (one that manufactures watches, computers, and phones) and you're trying to understand user sentiment towards the company's brand and the products. You decide to send out a survey to a random set of users across different products.\n",
    "Can you create a query that samples across the different product offerings? The output of your query should be user_id and group (e.g. the sampling group the user belongs to). Your team will use this output to distribute the survey.**\n",
    "\n",
    "**You have a table with all users and their registered devices. The schema of the table is below:**\n",
    "\n",
    "Table: user_devices\n",
    "\n",
    "|Column Name| Data Type| Description|\n",
    "|---|---|---|\n",
    "|user_id| integer| id of the user|\n",
    "|devices| array of strings| lists the devices (watch, laptop,phone)|\n",
    "|device_ids| array of integers| id of the devices used |\n",
    "|user_create_time| integer| epoch time of the user account|\n",
    "|total_spend| integer | lifetime spend of a user|\n",
    "|country| string| user country|"
   ]
  },
  {
   "cell_type": "markdown",
   "metadata": {},
   "source": [
    "# $\\S$Question 23:  (Probability)\n",
    "\n",
    "**Suppose we have a standard (52 card) deck of cards, with an equal share of the cards associated with each of the four \"suits\" (e.g. clubs, spades, diamonds, and hearts). You can read more about a standard card deck [here](https://en.wikipedia.org/wiki/Standard_52-card_deck\").**\n",
    "\n",
    "**Question: If you were to draw 3 cards from the deck, one a time, what is the probability that you draw a club, a heart and a diamond in any order? Be sure you can explain your reasoning here using probablity theory.**"
   ]
  },
  {
   "cell_type": "code",
   "execution_count": 1,
   "metadata": {},
   "outputs": [
    {
     "data": {
      "text/plain": [
       "0.09941176470588235"
      ]
     },
     "execution_count": 1,
     "metadata": {},
     "output_type": "execute_result"
    }
   ],
   "source": [
    "P_first_draw = 39 / 52\n",
    "P_second_draw = 26 / 51\n",
    "P_third_draw = 13 / 50\n",
    "\n",
    "P_c_h_d_any_order = P_first_draw * P_second_draw * P_third_draw\n",
    "\n",
    "P_c_h_d_any_order"
   ]
  },
  {
   "cell_type": "markdown",
   "metadata": {},
   "source": [
    "# $\\S$ Question 24: (Python)\n",
    "\n",
    "**Write a function that takes in an integer n, and prints out integers from 1 to n inclusive.**\n",
    "\n",
    "**Additionally, if %3 == 0 then print \"foo\" in place of the integer, if %5 == 0 then print \"ie\" in place of the integer, and if both conditions are true then print \"foo-ie\" in place of the integer.**"
   ]
  },
  {
   "cell_type": "code",
   "execution_count": 20,
   "metadata": {},
   "outputs": [],
   "source": [
    "def fooie(n):\n",
    "    for i in range(n):\n",
    "        if (i+1) % 3 == 0 and (i+1) % 5 == 0:\n",
    "            print('foo-ie')\n",
    "        elif (i+1) % 3 == 0:\n",
    "            print('foo')\n",
    "        elif (i+1) % 5 == 0:\n",
    "            print('ie')\n",
    "        else:\n",
    "            print(i+1)"
   ]
  },
  {
   "cell_type": "code",
   "execution_count": 21,
   "metadata": {},
   "outputs": [
    {
     "name": "stdout",
     "output_type": "stream",
     "text": [
      "1\n",
      "2\n",
      "foo\n",
      "4\n",
      "ie\n",
      "foo\n",
      "7\n",
      "8\n",
      "foo\n",
      "ie\n",
      "11\n",
      "foo\n",
      "13\n",
      "14\n",
      "foo-ie\n"
     ]
    }
   ],
   "source": [
    "fooie(15)"
   ]
  },
  {
   "cell_type": "markdown",
   "metadata": {},
   "source": [
    "# $\\S$ Question 25: (Python)\n",
    "\n",
    "**Your team at Apple released a new feature that collects feedback when an app launches. As part of the Alpha Launch for testing, the feedback consists of 1 question within a dialog box that asks \"Would you like to give {App Name} your credit card number?\", with potential answers being \"Yes\" and \"No\".**\n",
    "\n",
    "**This data is logged within a table named 'dialogbox_feedback' with the following schema:**\n",
    "\n",
    "Table: dialogbox_feedback:\n",
    "\n",
    "|Columne Name| Data Type| Description|\n",
    "|---|---|---|\n",
    "|time|integer|epoch time of response|\n",
    "|user_id|integer|unique user id|\n",
    "|app_id|integer| unique app id|\n",
    "|app_name| string| name of application|\n",
    "|event|string|Possible values are: impressed (when user sees the dialog box), \"Yes\" (when user clicks yes). There is no logging for when the user clicks \"No\".|\n",
    "\n",
    "\n",
    "**Question: A Product Manager asked you to give an update on how the Alpha Launch is going. You decide to aggregate (e.g. pivot) the events by each app to provide a quick summary. Write the aggregation using Python (Pandas).**\n"
   ]
  },
  {
   "cell_type": "code",
   "execution_count": null,
   "metadata": {},
   "outputs": [],
   "source": [
    "dialogbox_feedback.pivot(index = \"event\", columns = \"app_name\")"
   ]
  },
  {
   "cell_type": "markdown",
   "metadata": {},
   "source": [
    "# $\\S$ Question 26: (Probability)\n",
    "\n",
    "**Is drawing a red card and drawing an ace independent? You can read more about a standard card deck [here](https://en.wikipedia.org/wiki/Standard_52-card_deck\"). Hint: Drawing an ace (event A) and drawing a red card (event B) are two separate events -- think of a way to prove (using probability theory) that knowing whether event A occurred impacts the probability of event B occuring.**\n",
    "\n",
    "Drawing a red card and drawing an ace are independent events.  Unless you are drawing cards without replacing them back into the deck.  With replacement, the probabilty of drawing one or the other does not change. Without replacing, the probability changes no matter what, merely because the deck has one less card, and even less if you happen to draw an ace or a red card in the first draw."
   ]
  },
  {
   "cell_type": "markdown",
   "metadata": {},
   "source": [
    "# $\\S$ Question 27: (SQL)\n",
    "\n",
    "**Suppose you work for Airbnb as an analyst. A team has come to you asking which cities generate the highest revenue for the company in 2017. Using the schemas below, write a SQL query to answer this question.**\n",
    "\n",
    "**You have one table with property location information and another with stay information. The schema each table is shown below:**\n",
    "\n",
    "Table: property_location_info\n",
    "\n",
    "|Column Name| Data Type| Description|\n",
    "|---|---|---|\n",
    "|property_id| integer| ID of the property location|\n",
    "|country| string| Country code of the property location|\n",
    "|city_name| string| name of city (note there can be multiple cities with the same name|\n",
    "|subregion_name| string| provence, state or subregion name|\n",
    "|address| string| address of property location|\n",
    "\n",
    "\n",
    "Table: stays_info\n",
    "\n",
    "|Column Name| Data Type | Description|\n",
    "|---|---|---|\n",
    "|guest_id|integer| ID of guest|\n",
    "|property_id| integer| ID of property location|\n",
    "|host_id| integer| ID of the host managing the property|\n",
    "|revenue| integer| cost of stay for guest in USD|\n",
    "|date_start|string| start day of stay, format is 'YYYY-mm-dd'|\n",
    "|date_end|  string| end day of stay, format is 'YYYY-mm-dd'|\n",
    "|stay_length| integer| number of days for stay|\n",
    "|airbnb_revenue| integer| revenue that Airbnb collected on stay|"
   ]
  },
  {
   "cell_type": "code",
   "execution_count": null,
   "metadata": {},
   "outputs": [],
   "source": [
    "%SQL\n",
    "\n",
    "SELECT TOP(10)pli.city_name\n",
    "    ,  SUM(si.airbnb_revenue) as total_2017_revenue\n",
    "FROM stays_info si\n",
    "LEFT JOIN property_location_info pli ON pli.property_id = si.property_id\n",
    "WHERE YEAR(date_end) = 2017\n",
    "GROUP BY pli.city_name"
   ]
  },
  {
   "cell_type": "markdown",
   "metadata": {},
   "source": [
    "# $\\S$ Question 28: (Probability)\n",
    "\n",
    "**Suppose you're trying to figure out your chances of winning the lottery. The specific lottery you're interested in has 49 balls, each showing a single number. To win the jackpot you need to match 6 balls to win (note that order does not matter).**\n",
    "\n",
    "**What is the probability that you can win the jackpot, given you buy 1 ticket? What if you buy 3 lottery tickets?**"
   ]
  },
  {
   "cell_type": "code",
   "execution_count": 4,
   "metadata": {},
   "outputs": [
    {
     "data": {
      "text/plain": [
       "(9.932116447247939e-11, 2.979634934174382e-10)"
      ]
     },
     "execution_count": 4,
     "metadata": {},
     "output_type": "execute_result"
    }
   ],
   "source": [
    "p_1 = 1 / 49\n",
    "p_2 = 1 / 48\n",
    "p_3 = 1 / 47\n",
    "p_4 = 1 / 46\n",
    "p_5 = 1 / 45\n",
    "p_6 = 1 / 44\n",
    "\n",
    "p_lottery_one_ticket = p_1 * p_2 * p_3 * p_4 * p_5 * p_6\n",
    "\n",
    "p_lottery_three_tickets = p_lottery_one_ticket + p_lottery_one_ticket + p_lottery_one_ticket\n",
    "\n",
    "p_lottery_one_ticket, p_lottery_three_tickets"
   ]
  },
  {
   "cell_type": "markdown",
   "metadata": {},
   "source": [
    "# $\\S$Question 29: (Python)\n",
    "\n",
    "**There are a few ways we can score in American Football:**\n",
    "\n",
    "- 1 point - After scoring a touchdown, the team can choose to score a field goal\n",
    "- 2 points - (1) after scoring touchdown, a team can choose to score a conversion, when the team attempts to score a secondary touchdown or (2) an uncommon way to score, a safety is score when the opposing team causes the ball to become dead\n",
    "- 3 points - If no touchdown is scored on the possession, a team can attempt to make a field goal\n",
    "- 6 points - Awarded for a touchdown\n",
    "\n",
    "**Given the above, let's assume the potential point values for American Football are:**\n",
    "\n",
    "- 2 points - safety\n",
    "- 3 points - only field goal\n",
    "- 6 points - only touchdown\n",
    "- 7 points - touchdown + field goal\n",
    "- 8 points - touchdown + conversion\n",
    "\n",
    "**Given a score value, can you write a function that lists the possible ways the score could have been achieved?**\n",
    "\n",
    "**For example, if you're given the score value 10, the potential values are:**\n",
    "\n",
    "- 8 points (touchdown + conversion) + 2 points (safety)\n",
    "- 6 points (only touchdown) + 2x2 points (safety)\n",
    "- 7 points (touchdown + field goal) + 3 points (only field goal)\n",
    "- 5x2 points (safety)\n",
    "- 2x2 points (safety) + 2x3 points (only field goal)"
   ]
  },
  {
   "cell_type": "code",
   "execution_count": 56,
   "metadata": {},
   "outputs": [],
   "source": [
    "# scoring\n",
    "game = 0\n",
    "\n",
    "def TouchDown():\n",
    "    points = 0 + 6\n",
    "    return points\n",
    "\n",
    "def TD_ExtraPoint():\n",
    "    points = TouchDown() + 1\n",
    "    return points\n",
    "\n",
    "def TD_Conversion():\n",
    "    points = TouchDown() + 2\n",
    "    return points\n",
    "\n",
    "def Safety():\n",
    "    points = 0 + 2\n",
    "    return points\n",
    "\n",
    "def FieldGoal():\n",
    "    points = 0 + 3\n",
    "    return points"
   ]
  },
  {
   "cell_type": "code",
   "execution_count": 151,
   "metadata": {},
   "outputs": [
    {
     "name": "stdout",
     "output_type": "stream",
     "text": [
      "['1 Touchdown(s) w Extra Point(s) and 1 FieldGoal(s)']\n"
     ]
    }
   ],
   "source": [
    "## deal with cases if it already happened\n",
    "## nested loops for combination possibiliites\n",
    "\n",
    "## LEft TO DO:\n",
    "## add safety to everything.. read directions \n",
    "## re-factor\n",
    "\n",
    "\n",
    "team_score = 10\n",
    "\n",
    "def FootballScorePotentials(score):\n",
    "    possibilities = []\n",
    "    \n",
    "    ## Just Touch Down Possibilities\n",
    "    td_numbers = []\n",
    "    for i in range(1,19):\n",
    "        if score % (i * TouchDown()) == 0:\n",
    "            td_numbers.append(i)\n",
    "                              \n",
    "    if len(td_numbers) > 0:\n",
    "        possibilities.append('{} Touchdown(s)'.format(max(td_numbers)))\n",
    "    else:\n",
    "        td_numbers.append(0)\n",
    "        \n",
    "    ## TD + ExtraPoint possibilities  \n",
    "    tdet_numbers = []\n",
    "    for i in range(1,19):\n",
    "        if score % (i * TD_ExtraPoint()) == 0:\n",
    "            tdet_numbers.append(i)\n",
    "                              \n",
    "    if len(tdet_numbers) > 0:\n",
    "        possibilities.append('{} Touchdown(s) w Extra Point(s)'.format(max(tdet_numbers)))\n",
    "    else:\n",
    "        tdet_numbers.append(0)\n",
    "        \n",
    "    ## TD + conversion ONLY possibilities\n",
    "    tdc_numbers = []\n",
    "    for i in range(1,19):\n",
    "        if score % (i * TD_Conversion()) == 0:\n",
    "            tdc_numbers.append(i)\n",
    "                              \n",
    "    if len(tdc_numbers) > 0:\n",
    "        possibilities.append('{} Touchdown(s) w Conversion(s)'.format(max(tdc_numbers)))\n",
    "    else:\n",
    "        tdc_numbers.append(0)   \n",
    "    \n",
    "    # Field Goal only \n",
    "    fg_numbers = []\n",
    "    for i in range(1,19):\n",
    "        if score % (i * FieldGoal()) == 0:\n",
    "            fg_numbers.append(i)\n",
    "                              \n",
    "    if len(fg_numbers) > 0:\n",
    "        possibilities.append('{} FieldGoal(s)'.format(max(fg_numbers)))\n",
    "    else:\n",
    "        fg_numbers.append(0) \n",
    "        \n",
    "    ## TD + FG possibilities\n",
    "    td_fg_pair_numbers = []\n",
    "    for i in range(1, 19):\n",
    "        for j in range(1, 19):\n",
    "            if score == ((i * TouchDown()) + (j * FieldGoal())):\n",
    "                td_fg_pair_numbers.append([i, j])\n",
    "                \n",
    "    for i in range(len(td_fg_pair_numbers)):         \n",
    "        if len(td_fg_pair_numbers) > 0:\n",
    "            possibilities.append('{} Touchdown(s) and {} Field Goal(s)'.format(td_fg_pair_numbers[i][0], td_fg_pair_numbers[i][1]))\n",
    "        else:\n",
    "            td_fg_pair_numbers.append(0)\n",
    "            td_fg_pair_numbers.append(0)\n",
    "            \n",
    "    ## TD + ET\n",
    "    td_et_pair_numbers = []\n",
    "    for i in range(1, 19):\n",
    "        for j in range(1, 19):\n",
    "            if score == ((i * TouchDown()) + (j * TD_ExtraPoint())):\n",
    "                td_et_pair_numbers.append([i, j])\n",
    "                \n",
    "    for i in range(len(td_et_pair_numbers)):         \n",
    "        if len(td_et_pair_numbers) > 0:\n",
    "            possibilities.append('{} Touchdown(s) and {} TD w Extra Point(s)'.format(td_et_pair_numbers[i][0], td_et_pair_numbers[i][1]))\n",
    "        else:\n",
    "            td_et_pair_numbers.append(0)\n",
    "            td_et_pair_numbers.append(0)\n",
    "    \n",
    "    ## TD + C\n",
    "    td_c_pair_numbers = []\n",
    "    for i in range(1, 19):\n",
    "        for j in range(1, 19):\n",
    "            if score == ((i * TouchDown()) + (j * TD_Conversion())):\n",
    "                td_c_pair_numbers.append([i, j])\n",
    "                \n",
    "    for i in range(len(td_c_pair_numbers)):         \n",
    "        if len(td_c_pair_numbers) > 0:\n",
    "            possibilities.append('{} Touchdown(s) and {} TD w Conversion(s)'.format(td_c_pair_numbers[i][0], td_c_pair_numbers[i][1]))\n",
    "        else:\n",
    "            td_c_pair_numbers.append(0)\n",
    "    ## ET + C\n",
    "    et_c_pair_numbers = []\n",
    "    for i in range(1, 19):\n",
    "        ## hold state of TouchDowns (i)\n",
    "        for j in range(1, 19):\n",
    "            if score == ((i * TD_ExtraPoint()) + (j * TD_Conversion())):\n",
    "                et_c_pair_numbers.append([i, j])\n",
    "                \n",
    "    for i in range(len(et_c_pair_numbers)):         \n",
    "        if len(et_c_pair_numbers) > 0:\n",
    "            possibilities.append('{} Touchdown(s) w Extra Point(s) and {} TD w Conversion(s)'.format(et_c_pair_numbers[i][0], et_c_pair_numbers[i][1]))\n",
    "        else:\n",
    "            et_c_pair_numbers.append(0)\n",
    "\n",
    "    ## ET + FG\n",
    "    et_fg_pair_numbers = []\n",
    "    for i in range(1, 19):\n",
    "        ## hold state of TouchDowns (i)\n",
    "        for j in range(1, 19):\n",
    "            if score == ((i * TD_ExtraPoint()) + (j * FieldGoal())):\n",
    "                et_fg_pair_numbers.append([i, j])\n",
    "                \n",
    "    for i in range(len(et_fg_pair_numbers)):         \n",
    "        if len(et_fg_pair_numbers) > 0:\n",
    "            possibilities.append('{} Touchdown(s) w Extra Point(s) and {} FieldGoal(s)'.format(et_fg_pair_numbers[i][0], et_fg_pair_numbers[i][1]))\n",
    "        else:\n",
    "            et_fg_pair_numbers.append(0)\n",
    "\n",
    "            \n",
    "    ## C + FG\n",
    "    c_fg_pair_numbers = []\n",
    "    for i in range(1, 19):\n",
    "        ## hold state of TouchDowns (i)\n",
    "        for j in range(1, 19):\n",
    "            if score == ((i * TD_Conversion()) + (j * FieldGoal())):\n",
    "                c_fg_pair_numbers.append([i, j])\n",
    "                \n",
    "    for i in range(len(c_fg_pair_numbers)):         \n",
    "        if len(c_fg_pair_numbers) > 0:\n",
    "            possibilities.append('{} Touchdown(s) w Conversion(s) and {} FieldGoal(s)'.format(c_fg_pair_numbers[i][0], c_fg_pair_numbers[i][1]))\n",
    "        else:\n",
    "            c_fg_pair_numbers.append(0)\n",
    " \n",
    "    \n",
    "    ##TD + EP + C\n",
    "    td_ep_c_pair_numbers = []\n",
    "    for i in range(1, 19):\n",
    "        ## hold state of TouchDowns (i)\n",
    "        for j in range(1, 19):\n",
    "            for z in range(1, 19):\n",
    "                if score == ((i * TouchDown()) + (j * TD_ExtraPoint()) + (z * TD_Conversion())):\n",
    "                    td_ep_c_pair_numbers.append([i, j, z])\n",
    "\n",
    "                \n",
    "                \n",
    "    for i in range(len(td_ep_c_pair_numbers)):         \n",
    "        if len(td_ep_c_pair_numbers) > 0:\n",
    "            possibilities.append('{} Touchdown(s)  and {} Touchdown(s) w Extra Point(s) and {} Touchdown(s) w Conversion'.format(td_ep_c_pair_numbers[i][0], td_ep_c_pair_numbers[i][1], td_ep_c_pair_numbers[i][2]))\n",
    "        else:\n",
    "            td_ep_c_pair_numbers.append(0)\n",
    "\n",
    "    \n",
    "    \n",
    "    ## TD + EP + FG\n",
    "    td_ep_fg_pair_numbers = []\n",
    "    for i in range(1, 19):\n",
    "        ## hold state of TouchDowns (i)\n",
    "        for j in range(1, 19):\n",
    "            for z in range(1, 19):\n",
    "                if score == ((i * TouchDown()) + (j * TD_ExtraPoint()) + (z * FieldGoal())):\n",
    "                    td_ep_fg_pair_numbers.append([i, j, z])\n",
    "\n",
    "                \n",
    "                \n",
    "    for i in range(len(td_ep_fg_pair_numbers)):         \n",
    "        if len(td_ep_fg_pair_numbers) > 0:\n",
    "            possibilities.append('{} Touchdown(s)  and {} Touchdown(s) w Extra Point(s) and {} Field Goal(s)'.format(td_ep_fg_pair_numbers[i][0], td_ep_fg_pair_numbers[i][1], td_ep_fg_pair_numbers[i][2]))\n",
    "        else:\n",
    "            td_ep_fg_pair_numbers.append(0)\n",
    "    \n",
    "    ## TD + C + FG\n",
    "    td_c_fg_pair_numbers = []\n",
    "    for i in range(1, 19):\n",
    "        ## hold state of TouchDowns (i)\n",
    "        for j in range(1, 19):\n",
    "            for z in range(1, 19):\n",
    "                if score == ((i * TouchDown()) + (j * TD_Conversion()) + (z * FieldGoal())):\n",
    "                    td_c_fg_pair_numbers.append([i, j, z])\n",
    "\n",
    "                \n",
    "                \n",
    "    for i in range(len(td_c_fg_pair_numbers)):         \n",
    "        if len(td_c_fg_pair_numbers) > 0:\n",
    "            possibilities.append('{} Touchdown(s)  and {} Touchdown(s) w Conversion(s) and {} Field Goal(s)'.format(td_c_fg_pair_numbers[i][0], td_c_fg_pair_numbers[i][1], td_c_fg_pair_numbers[i][2]))\n",
    "        else:\n",
    "            td_c_fg_pair_numbers.append(0)\n",
    "    ## EP + C + FG\n",
    "    ep_c_fg_pair_numbers = []\n",
    "    for i in range(1, 19):\n",
    "        ## hold state of TouchDowns (i)\n",
    "        for j in range(1, 19):\n",
    "            for z in range(1, 19):\n",
    "                if score == ((i * TD_ExtraPoint()) + (j * TD_Conversion()) + (z * FieldGoal())):\n",
    "                    ep_c_fg_pair_numbers.append([i, j, z])\n",
    "\n",
    "                \n",
    "                \n",
    "    for i in range(len(ep_c_fg_pair_numbers)):         \n",
    "        if len(ep_c_fg_pair_numbers) > 0:\n",
    "            possibilities.append('{} Touchdown(s) w Extra Point(s)  and {} Touchdown(s) w Conversion(s) and {} Field Goal(s)'.format(ep_c_fg_pair_numbers[i][0], ep_c_fg_pair_numbers[i][1], ep_c_fg_pair_numbers[i][2]))\n",
    "        else:\n",
    "            ep_c_fg_pair_numbers.append(0)\n",
    "    \n",
    "    ## TD + EP + C + FG\n",
    "    td_ep_c_fg_pair_numbers = []\n",
    "    for i in range(1, 19):\n",
    " \n",
    "        for j in range(1, 19):\n",
    "            \n",
    "            for z in range(1, 19):\n",
    "                \n",
    "                for y in range(1, 19):\n",
    "                    \n",
    "                    if score == ((i * TouchDown()) + (j * TD_ExtraPoint()) + (z * TD_Conversion()) + (y * FieldGoal())):\n",
    "                        td_ep_c_fg_pair_numbers.append([i, j, z, y])\n",
    "\n",
    "                \n",
    "                \n",
    "    for i in range(len(td_ep_c_fg_pair_numbers)):         \n",
    "        if len(td_ep_c_fg_pair_numbers) > 0:\n",
    "            possibilities.append('{} Touchdown(s) and {} Touchdown(s) w Extra Point(s)  and {} Touchdown(s) w Conversion(s) and {} Field Goal(s)'.format(td_ep_c_fg_pair_numbers[i][0], td_ep_c_fg_pair_numbers[i][1], td_ep_c_fg_pair_numbers[i][2], td_ep_c_fg_pair_numbers[i][3]))\n",
    "        else:\n",
    "            td_ep_c_fg_pair_numbers.append(0)\n",
    "            \n",
    "    return possibilities\n",
    "\n",
    "print(FootballScorePotentials(team_score))\n",
    "            \n",
    "## multiple possibiliites the higher dimensions..."
   ]
  },
  {
   "cell_type": "code",
   "execution_count": null,
   "metadata": {},
   "outputs": [],
   "source": [
    "td_numbers = []\n",
    "for i in range(1,19):\n",
    "    if score % (i * TouchDown()) == 0:\n",
    "        td_numbers.append(i)\n",
    "\n",
    "if len(td_numbers) > 0:\n",
    "    possibilities.append('{} Touchdown(s)'.format(max(td_numbers)))\n",
    "else:\n",
    "    td_numbers.append(0)"
   ]
  },
  {
   "cell_type": "markdown",
   "metadata": {},
   "source": [
    "# $\\S$ Question 30:  (Python)\n",
    "\n",
    "**You are given a dataframe (df) of students, and you need to assign grades to each student. The table schema is as follows:**\n",
    "\n",
    "|Column Name| Data Type | Example | Description|\n",
    "|---|---|---|---|\n",
    "|student_name| string| Cindy Chu | Name of student|\n",
    "|student_id| integer| 1837204| Id of the student|\n",
    "|class| string| Biology| Name of class|\n",
    "|final_grade_pct| integer| 80| final grade for class represented in percentage|\n",
    "\n",
    "**You need to assign the following letter grades based on final_grade_pct in a new column named \"final_grade_letter\":**\n",
    "\n",
    "- grade>90 - A\n",
    "- 81-90 - B\n",
    "- 71-80 - C\n",
    "- <70 - D\n",
    "\n",
    "**Write a function using Python to loop through the table and assign the appropriate letter grades to each student, adding a new column to the existing dataframe, df.**"
   ]
  },
  {
   "cell_type": "code",
   "execution_count": 37,
   "metadata": {},
   "outputs": [],
   "source": [
    "import pandas as pd\n",
    "import numpy as np\n",
    "\n",
    "d = {'student_name': ['Nicole', 'Ryan', 'Andrew', 'Christina'], 'student_id': [1, 2, 3, 4], \n",
    "     'class' : ['Math', 'Math', 'Math', 'Math'], 'final_grade_pct': [96, 55, 73, 87]}\n",
    "df = pd.DataFrame(data=d)\n",
    "\n",
    "def add_final_grade(dataframe, grade_percentages):\n",
    "    \n",
    "    dataframe['final_grade_letter'] = list(map(str, np.ones(len(df['student_name']))))\n",
    "    \n",
    "    s = 0\n",
    "    \n",
    "    for i in grade_percentages:\n",
    "        \n",
    "        if float(i) > 90:\n",
    "            dataframe['final_grade_letter'][s:s+1] = 'A'\n",
    "        elif float(i) >= 81 and float(i) <= 90:\n",
    "            dataframe['final_grade_letter'][s:s+1] = 'B'\n",
    "        elif float(i) >= 71 and float(i) <= 80:\n",
    "            dataframe['final_grade_letter'][s:s+1] = 'C'\n",
    "        else:\n",
    "            dataframe['final_grade_letter'][s:s+1] = 'D'\n",
    "            \n",
    "        s += 1\n",
    "            \n",
    "    return dataframe\n",
    "\n",
    "    "
   ]
  },
  {
   "cell_type": "code",
   "execution_count": 38,
   "metadata": {},
   "outputs": [
    {
     "name": "stderr",
     "output_type": "stream",
     "text": [
      "C:\\ProgramData\\Anaconda3\\lib\\site-packages\\ipykernel_launcher.py:17: SettingWithCopyWarning: \n",
      "A value is trying to be set on a copy of a slice from a DataFrame\n",
      "\n",
      "See the caveats in the documentation: http://pandas.pydata.org/pandas-docs/stable/indexing.html#indexing-view-versus-copy\n",
      "C:\\ProgramData\\Anaconda3\\lib\\site-packages\\ipykernel_launcher.py:23: SettingWithCopyWarning: \n",
      "A value is trying to be set on a copy of a slice from a DataFrame\n",
      "\n",
      "See the caveats in the documentation: http://pandas.pydata.org/pandas-docs/stable/indexing.html#indexing-view-versus-copy\n",
      "C:\\ProgramData\\Anaconda3\\lib\\site-packages\\ipykernel_launcher.py:21: SettingWithCopyWarning: \n",
      "A value is trying to be set on a copy of a slice from a DataFrame\n",
      "\n",
      "See the caveats in the documentation: http://pandas.pydata.org/pandas-docs/stable/indexing.html#indexing-view-versus-copy\n",
      "C:\\ProgramData\\Anaconda3\\lib\\site-packages\\ipykernel_launcher.py:19: SettingWithCopyWarning: \n",
      "A value is trying to be set on a copy of a slice from a DataFrame\n",
      "\n",
      "See the caveats in the documentation: http://pandas.pydata.org/pandas-docs/stable/indexing.html#indexing-view-versus-copy\n"
     ]
    },
    {
     "data": {
      "text/html": [
       "<div>\n",
       "<style scoped>\n",
       "    .dataframe tbody tr th:only-of-type {\n",
       "        vertical-align: middle;\n",
       "    }\n",
       "\n",
       "    .dataframe tbody tr th {\n",
       "        vertical-align: top;\n",
       "    }\n",
       "\n",
       "    .dataframe thead th {\n",
       "        text-align: right;\n",
       "    }\n",
       "</style>\n",
       "<table border=\"1\" class=\"dataframe\">\n",
       "  <thead>\n",
       "    <tr style=\"text-align: right;\">\n",
       "      <th></th>\n",
       "      <th>student_name</th>\n",
       "      <th>student_id</th>\n",
       "      <th>class</th>\n",
       "      <th>final_grade_pct</th>\n",
       "      <th>final_grade_letter</th>\n",
       "    </tr>\n",
       "  </thead>\n",
       "  <tbody>\n",
       "    <tr>\n",
       "      <th>0</th>\n",
       "      <td>Nicole</td>\n",
       "      <td>1</td>\n",
       "      <td>Math</td>\n",
       "      <td>96</td>\n",
       "      <td>A</td>\n",
       "    </tr>\n",
       "    <tr>\n",
       "      <th>1</th>\n",
       "      <td>Ryan</td>\n",
       "      <td>2</td>\n",
       "      <td>Math</td>\n",
       "      <td>55</td>\n",
       "      <td>D</td>\n",
       "    </tr>\n",
       "    <tr>\n",
       "      <th>2</th>\n",
       "      <td>Andrew</td>\n",
       "      <td>3</td>\n",
       "      <td>Math</td>\n",
       "      <td>73</td>\n",
       "      <td>C</td>\n",
       "    </tr>\n",
       "    <tr>\n",
       "      <th>3</th>\n",
       "      <td>Christina</td>\n",
       "      <td>4</td>\n",
       "      <td>Math</td>\n",
       "      <td>87</td>\n",
       "      <td>B</td>\n",
       "    </tr>\n",
       "  </tbody>\n",
       "</table>\n",
       "</div>"
      ],
      "text/plain": [
       "  student_name  student_id class  final_grade_pct final_grade_letter\n",
       "0       Nicole           1  Math               96                  A\n",
       "1         Ryan           2  Math               55                  D\n",
       "2       Andrew           3  Math               73                  C\n",
       "3    Christina           4  Math               87                  B"
      ]
     },
     "execution_count": 38,
     "metadata": {},
     "output_type": "execute_result"
    }
   ],
   "source": [
    "add_final_grade(df, list(df['final_grade_pct']))"
   ]
  },
  {
   "cell_type": "markdown",
   "metadata": {},
   "source": [
    "# Question 31: (SQL)\n",
    "\n",
    "**You are given the following table containing historical employee salaries for company XYZ:**\n",
    "\n",
    "**Table: EmployeeSalaries**\n",
    "\n",
    "|employee_ID| salary| year|\n",
    "|---|---|---|\n",
    "|1|80000|2020|\n",
    "|1|70000|2019|\n",
    "|1|60000|2018|\n",
    "|2|65000|2020|\n",
    "|2|65000|2019|\n",
    "|2|60000|2018|\n",
    "|3|65000|2020|\n",
    "|3|60000|2019|\n",
    "\n",
    "**Given the above table, can you write a SQL query to return the employees who have received at least 3 year over year raises based on the table's data?**"
   ]
  },
  {
   "cell_type": "code",
   "execution_count": 1,
   "metadata": {},
   "outputs": [
    {
     "ename": "SyntaxError",
     "evalue": "invalid syntax (<ipython-input-1-3fc19e7a6e26>, line 3)",
     "output_type": "error",
     "traceback": [
      "\u001b[1;36m  File \u001b[1;32m\"<ipython-input-1-3fc19e7a6e26>\"\u001b[1;36m, line \u001b[1;32m3\u001b[0m\n\u001b[1;33m    SELECT employee_ID\u001b[0m\n\u001b[1;37m                     ^\u001b[0m\n\u001b[1;31mSyntaxError\u001b[0m\u001b[1;31m:\u001b[0m invalid syntax\n"
     ]
    }
   ],
   "source": [
    "%SQL\n",
    "\n",
    "SELECT employee_ID\n",
    "    ,  COUNT(*) as years_worked\n",
    "FROM EmployeeSalaries\n",
    "WHERE COUNT(*) >= \n",
    "GROUP BY employee_ID"
   ]
  },
  {
   "cell_type": "markdown",
   "metadata": {},
   "source": [
    "# Question 32: (Python)\n",
    "\n",
    "**Given an array and an integer A, find the maximum for each contiguous subarray of size A.**\n",
    "\n",
    "**Input: array = [1, 2, 3, 1, 4, 5, 2, 3, 6], A = 3**\n",
    "    \n",
    "**Output: 3 3 4 5 5 5 6\n",
    "Below is a more detailed walkthrough of what you should be trying to code, using the example above:**\n",
    "\n",
    "- subarray 1 = [1, 2, 3, 1, 4, 5, 2, 3, 6]\n",
    "- maximum of subarray 1 = 3\n",
    "- subarray 2 = [1, 2, 3, 1, 4, 5, 2, 3, 6]\n",
    "- maximum of subarray 2 = 3\n",
    "- subarray 3 = [1, 2, 3, 1, 4, 5, 2, 3, 6]\n",
    "- maximum of subarray 3 = 4\n",
    "- Etc."
   ]
  },
  {
   "cell_type": "markdown",
   "metadata": {},
   "source": [
    "# Question 33: (Bayes)\n",
    "\n",
    "**Suppose you're running a second-price auction. In this auction, the highest bidder will win, but will pay the auctioneer (you) the value of the second-highest bid. Assuming there are two bidders bidding on one item, and the bidder knows his own valuation but sees the valuation of the rival as uncertain and distributed uniformly in the unit interval, calculate the expected revenue when the reserve price is 1/2.**"
   ]
  },
  {
   "cell_type": "markdown",
   "metadata": {},
   "source": [
    "# Question 34: (Python)\n",
    "\n",
    "**Suppose you're given the following information about a population and its wealth distribution:**\n",
    "\n",
    "- Population size: 2500\n",
    "- Mean income (in USD, thousands): 50\n",
    "- Standard deviation of income (in USD, thousands): 12.5\n",
    "- The population wealth is initially normally distributed\n",
    "\n",
    "**Additionally, you're told that economic transactions occur randomly between two individuals in the population. In a transaction, two parties come together and there is an exchange of wealth. For the purposes of this question, the transactions can be modeled in the following way:**\n",
    "\n",
    "- Two individuals come together at random\n",
    "- When they interact, their wealth is put into a pot, and is then split randomly and uniformly between the two parties\n",
    "\n",
    "**Given this information, write a simulation to show how wealth of the population will change over time. You can simulate 50 time steps (or transactions per individual).**"
   ]
  },
  {
   "cell_type": "code",
   "execution_count": 1,
   "metadata": {},
   "outputs": [],
   "source": [
    "import numpy as np"
   ]
  },
  {
   "cell_type": "markdown",
   "metadata": {},
   "source": [
    "# Question 35: (SQL)\n",
    "\n",
    "\n",
    "**You’re working as an analyst for a sales organization and you’re asked to figure out how long it takes for a sales representative to make their first sale. You’re also given the following tables:**\n",
    "\n",
    "Table 1: sales_rep_info\n",
    "\n",
    "|Column| Description|\n",
    "|---|---|\n",
    "|sales_rep_id| unique sales rep identifier|\n",
    "|date_hired| hire date of employee, format YYY-MM-DD|\n",
    "| product_focus_area| types of products the rep sells|\n",
    "| tenure| total yrs of slaes experience|\n",
    "| level| employee level at the company|\n",
    "\n",
    "\n",
    "Table 2: all_sales\n",
    "\n",
    "|column| description|\n",
    "|---|---|\n",
    "|date| close date of sale, format YYY-MM-DD|\n",
    "|purchase_order_number| unique identifier for the sale|\n",
    "|buyer_id| the unique identifier for buyer|\n",
    "|sales_rep_id| unique sales rep identifier |\n",
    "|order_price_usd| total sales price in USD|\n",
    "|date_sale_initiated| date the purchase order was initiated, format YYY-MM-DD|\n",
    "\n",
    "\n",
    "**Can you write a SQL query that shows how long it takes for a sales representative to make their first sale?**"
   ]
  },
  {
   "cell_type": "markdown",
   "metadata": {},
   "source": [
    "# Question 36: (Python)\n",
    "\n",
    "**Suppose you're given a matrix of 1s and 0s that represents a map of rivers. You can assume that the grid cells in your map are only connected horizontally and vertically (e.g. no diagonal connections). You can assume that 1 represents water (your river) and 0 represents land/your river bank. Each cell has a length of 1 and is square in your map. Given this, write code to determine the perimeter of your river.**\n",
    "\n",
    "**Examples:**\n",
    "\n",
    "- Input: [[1,0]] \n",
    "- Output: 4\n",
    "\n",
    "- Input: [[1,0,1], [1,1,1]] \n",
    "- Output: 12"
   ]
  },
  {
   "cell_type": "markdown",
   "metadata": {},
   "source": [
    "# $\\S$ Question 37: (Statistics)\n",
    "\n",
    "**A fair coin is tossed repeatedly and independently. Find the expected number of tosses until the pattern Head-Tail-Head appears.**\n",
    "\n",
    "**Hint: It might be helpful to start with building a state transition diagram to depict a Markov chain for the coin toss.**"
   ]
  },
  {
   "cell_type": "code",
   "execution_count": 232,
   "metadata": {},
   "outputs": [],
   "source": [
    "import numpy as np\n",
    "import matplotlib.pyplot as plt\n",
    "\n",
    "## create a fair coin.. simulate unlimited tosses.. stop when H T H appears. track the count it took to get that. Simulate that a million times..\n",
    "## then look at the distribution\n",
    "\n",
    "\n",
    "def coin_toss():\n",
    "   toss = np.random.binomial(1, .5)\n",
    "   heads = 'H'\n",
    "   tails = 'T'\n",
    "   if toss == 1:\n",
    "       return heads\n",
    "   else:\n",
    "       return tails"
   ]
  },
  {
   "cell_type": "code",
   "execution_count": 439,
   "metadata": {},
   "outputs": [],
   "source": [
    "def simulation(number):\n",
    "    \n",
    "    runns = []\n",
    "    count = 0\n",
    "    \n",
    "    for i in range(number):\n",
    "        \n",
    "        runns.append(coin_toss())\n",
    "        \n",
    "        if (len(runns) >= 2) and (runns[-2:] == ['H', 'T']):\n",
    "            \n",
    "            count = len(runns)\n",
    "            \n",
    "            return count\n",
    "            \n",
    "            \n",
    "        \n",
    "        \n",
    "    "
   ]
  },
  {
   "cell_type": "code",
   "execution_count": 440,
   "metadata": {},
   "outputs": [],
   "source": [
    "count_list = []\n",
    "\n",
    "for i in range(1000):\n",
    "  count_list.append(simulation(1000))\n",
    "    "
   ]
  },
  {
   "cell_type": "code",
   "execution_count": 445,
   "metadata": {},
   "outputs": [
    {
     "data": {
      "text/plain": [
       "(array([2008,  764,  819,  162,  107,   94,   23,   19,    0,    4],\n",
       "       dtype=int64),\n",
       " array([ 2. ,  3.4,  4.8,  6.2,  7.6,  9. , 10.4, 11.8, 13.2, 14.6, 16. ]))"
      ]
     },
     "execution_count": 445,
     "metadata": {},
     "output_type": "execute_result"
    }
   ],
   "source": [
    "np.histogram(count_list)\n"
   ]
  },
  {
   "cell_type": "code",
   "execution_count": 444,
   "metadata": {},
   "outputs": [
    {
     "data": {
      "image/png": "[encoded data removed]",
      "text/plain": [
       "<Figure size 432x288 with 1 Axes>"
      ]
     },
     "metadata": {
      "needs_background": "light"
     },
     "output_type": "display_data"
    }
   ],
   "source": [
    "\n",
    "\n",
    "for i in range(1000):\n",
    "  count_list.append(simulation(1000))\n",
    "\n",
    "\n",
    "data = count_list\n",
    "\n",
    "# fixed bin size\n",
    "bins = np.arange(-100, 100, 10) # fixed bin size\n",
    "\n",
    "plt.xlim([min(data)-5, max(data)+5])\n",
    "\n",
    "plt.hist(data, bins=bins, alpha=0.5)\n",
    "plt.title('coin toss distribution')\n",
    "plt.xlabel('# of Coin tosses')\n",
    "plt.ylabel('times')\n",
    "\n",
    "plt.show()"
   ]
  },
  {
   "cell_type": "code",
   "execution_count": null,
   "metadata": {},
   "outputs": [],
   "source": [
    "distribution"
   ]
  },
  {
   "cell_type": "markdown",
   "metadata": {},
   "source": [
    "# Question 38: (Python)\n",
    "\n",
    "**You are given the following [dataset](https://raw.githubusercontent.com/erood/interviewqs.com_code_snippets/master/Datasets/stock_prices_ddi.csv), containing information on baby names from the U.S. Social Security Administration.**\n",
    "\n",
    "**Using the dataset, write code to find the following**\n",
    "\n",
    "- Number of unique names across the dataset, split by both # of unique male/female names\n",
    "- Top 10 most popular male and female names, along with their associated counts\n",
    "- The top 10 most trending names (% growth) from 2010+, with an associated plot to show the relative growth between names"
   ]
  },
  {
   "cell_type": "code",
   "execution_count": 2,
   "metadata": {},
   "outputs": [
    {
     "data": {
      "text/html": [
       "<div>\n",
       "<style scoped>\n",
       "    .dataframe tbody tr th:only-of-type {\n",
       "        vertical-align: middle;\n",
       "    }\n",
       "\n",
       "    .dataframe tbody tr th {\n",
       "        vertical-align: top;\n",
       "    }\n",
       "\n",
       "    .dataframe thead th {\n",
       "        text-align: right;\n",
       "    }\n",
       "</style>\n",
       "<table border=\"1\" class=\"dataframe\">\n",
       "  <thead>\n",
       "    <tr style=\"text-align: right;\">\n",
       "      <th></th>\n",
       "      <th>year</th>\n",
       "      <th>name</th>\n",
       "      <th>gender</th>\n",
       "      <th>count</th>\n",
       "    </tr>\n",
       "  </thead>\n",
       "  <tbody>\n",
       "    <tr>\n",
       "      <th>0</th>\n",
       "      <td>1880</td>\n",
       "      <td>Mary</td>\n",
       "      <td>F</td>\n",
       "      <td>7065</td>\n",
       "    </tr>\n",
       "    <tr>\n",
       "      <th>1</th>\n",
       "      <td>1880</td>\n",
       "      <td>Anna</td>\n",
       "      <td>F</td>\n",
       "      <td>2604</td>\n",
       "    </tr>\n",
       "    <tr>\n",
       "      <th>2</th>\n",
       "      <td>1880</td>\n",
       "      <td>Emma</td>\n",
       "      <td>F</td>\n",
       "      <td>2003</td>\n",
       "    </tr>\n",
       "    <tr>\n",
       "      <th>3</th>\n",
       "      <td>1880</td>\n",
       "      <td>Elizabeth</td>\n",
       "      <td>F</td>\n",
       "      <td>1939</td>\n",
       "    </tr>\n",
       "    <tr>\n",
       "      <th>4</th>\n",
       "      <td>1880</td>\n",
       "      <td>Minnie</td>\n",
       "      <td>F</td>\n",
       "      <td>1746</td>\n",
       "    </tr>\n",
       "  </tbody>\n",
       "</table>\n",
       "</div>"
      ],
      "text/plain": [
       "   year       name gender  count\n",
       "0  1880       Mary      F   7065\n",
       "1  1880       Anna      F   2604\n",
       "2  1880       Emma      F   2003\n",
       "3  1880  Elizabeth      F   1939\n",
       "4  1880     Minnie      F   1746"
      ]
     },
     "execution_count": 2,
     "metadata": {},
     "output_type": "execute_result"
    }
   ],
   "source": [
    "import matplotlib.pyplot as plt\n",
    "import numpy as np\n",
    "import pandas as pd\n",
    "import seaborn as sns\n",
    "\n",
    "baby_names = pd.read_csv(\"https://raw.githubusercontent.com/erood/interviewqs.com_code_snippets/master/Datasets/ddi_baby_names.csv\")\n",
    "baby_names.head()"
   ]
  },
  {
   "cell_type": "code",
   "execution_count": 3,
   "metadata": {},
   "outputs": [
    {
     "name": "stdout",
     "output_type": "stream",
     "text": [
      " F: 67698 \n",
      " M: 41475\n"
     ]
    }
   ],
   "source": [
    "print(' F:', len(baby_names[baby_names['gender'] == 'F']['name'].value_counts()), '\\n',  'M:', len(baby_names[baby_names['gender'] == 'M']['name'].value_counts()))"
   ]
  },
  {
   "cell_type": "code",
   "execution_count": 4,
   "metadata": {},
   "outputs": [
    {
     "data": {
      "text/html": [
       "<div>\n",
       "<style scoped>\n",
       "    .dataframe tbody tr th:only-of-type {\n",
       "        vertical-align: middle;\n",
       "    }\n",
       "\n",
       "    .dataframe tbody tr th {\n",
       "        vertical-align: top;\n",
       "    }\n",
       "\n",
       "    .dataframe thead th {\n",
       "        text-align: right;\n",
       "    }\n",
       "</style>\n",
       "<table border=\"1\" class=\"dataframe\">\n",
       "  <thead>\n",
       "    <tr style=\"text-align: right;\">\n",
       "      <th></th>\n",
       "      <th>count</th>\n",
       "    </tr>\n",
       "    <tr>\n",
       "      <th>name</th>\n",
       "      <th></th>\n",
       "    </tr>\n",
       "  </thead>\n",
       "  <tbody>\n",
       "    <tr>\n",
       "      <th>Mary</th>\n",
       "      <td>4125675</td>\n",
       "    </tr>\n",
       "    <tr>\n",
       "      <th>Elizabeth</th>\n",
       "      <td>1638349</td>\n",
       "    </tr>\n",
       "    <tr>\n",
       "      <th>Patricia</th>\n",
       "      <td>1572016</td>\n",
       "    </tr>\n",
       "    <tr>\n",
       "      <th>Jennifer</th>\n",
       "      <td>1467207</td>\n",
       "    </tr>\n",
       "    <tr>\n",
       "      <th>Linda</th>\n",
       "      <td>1452668</td>\n",
       "    </tr>\n",
       "    <tr>\n",
       "      <th>Barbara</th>\n",
       "      <td>1434397</td>\n",
       "    </tr>\n",
       "    <tr>\n",
       "      <th>Margaret</th>\n",
       "      <td>1248985</td>\n",
       "    </tr>\n",
       "    <tr>\n",
       "      <th>Susan</th>\n",
       "      <td>1121703</td>\n",
       "    </tr>\n",
       "    <tr>\n",
       "      <th>Dorothy</th>\n",
       "      <td>1107635</td>\n",
       "    </tr>\n",
       "    <tr>\n",
       "      <th>Sarah</th>\n",
       "      <td>1077746</td>\n",
       "    </tr>\n",
       "  </tbody>\n",
       "</table>\n",
       "</div>"
      ],
      "text/plain": [
       "             count\n",
       "name              \n",
       "Mary       4125675\n",
       "Elizabeth  1638349\n",
       "Patricia   1572016\n",
       "Jennifer   1467207\n",
       "Linda      1452668\n",
       "Barbara    1434397\n",
       "Margaret   1248985\n",
       "Susan      1121703\n",
       "Dorothy    1107635\n",
       "Sarah      1077746"
      ]
     },
     "execution_count": 4,
     "metadata": {},
     "output_type": "execute_result"
    }
   ],
   "source": [
    "baby_names[baby_names['gender'] == 'F'][['name', 'count']].groupby('name').sum().sort_values(by=['count'], ascending=False).head(10)"
   ]
  },
  {
   "cell_type": "code",
   "execution_count": 5,
   "metadata": {},
   "outputs": [
    {
     "data": {
      "text/html": [
       "<div>\n",
       "<style scoped>\n",
       "    .dataframe tbody tr th:only-of-type {\n",
       "        vertical-align: middle;\n",
       "    }\n",
       "\n",
       "    .dataframe tbody tr th {\n",
       "        vertical-align: top;\n",
       "    }\n",
       "\n",
       "    .dataframe thead th {\n",
       "        text-align: right;\n",
       "    }\n",
       "</style>\n",
       "<table border=\"1\" class=\"dataframe\">\n",
       "  <thead>\n",
       "    <tr style=\"text-align: right;\">\n",
       "      <th></th>\n",
       "      <th>count</th>\n",
       "    </tr>\n",
       "    <tr>\n",
       "      <th>name</th>\n",
       "      <th></th>\n",
       "    </tr>\n",
       "  </thead>\n",
       "  <tbody>\n",
       "    <tr>\n",
       "      <th>James</th>\n",
       "      <td>5164280</td>\n",
       "    </tr>\n",
       "    <tr>\n",
       "      <th>John</th>\n",
       "      <td>5124817</td>\n",
       "    </tr>\n",
       "    <tr>\n",
       "      <th>Robert</th>\n",
       "      <td>4820129</td>\n",
       "    </tr>\n",
       "    <tr>\n",
       "      <th>Michael</th>\n",
       "      <td>4362731</td>\n",
       "    </tr>\n",
       "    <tr>\n",
       "      <th>William</th>\n",
       "      <td>4117369</td>\n",
       "    </tr>\n",
       "    <tr>\n",
       "      <th>David</th>\n",
       "      <td>3621322</td>\n",
       "    </tr>\n",
       "    <tr>\n",
       "      <th>Joseph</th>\n",
       "      <td>2613304</td>\n",
       "    </tr>\n",
       "    <tr>\n",
       "      <th>Richard</th>\n",
       "      <td>2565301</td>\n",
       "    </tr>\n",
       "    <tr>\n",
       "      <th>Charles</th>\n",
       "      <td>2392779</td>\n",
       "    </tr>\n",
       "    <tr>\n",
       "      <th>Thomas</th>\n",
       "      <td>2311849</td>\n",
       "    </tr>\n",
       "  </tbody>\n",
       "</table>\n",
       "</div>"
      ],
      "text/plain": [
       "           count\n",
       "name            \n",
       "James    5164280\n",
       "John     5124817\n",
       "Robert   4820129\n",
       "Michael  4362731\n",
       "William  4117369\n",
       "David    3621322\n",
       "Joseph   2613304\n",
       "Richard  2565301\n",
       "Charles  2392779\n",
       "Thomas   2311849"
      ]
     },
     "execution_count": 5,
     "metadata": {},
     "output_type": "execute_result"
    }
   ],
   "source": [
    "baby_names[baby_names['gender'] == 'M'][['name', 'count']].groupby('name').sum().sort_values(by=['count'], ascending=False).head(10)"
   ]
  },
  {
   "cell_type": "code",
   "execution_count": 6,
   "metadata": {},
   "outputs": [
    {
     "data": {
      "text/html": [
       "<div>\n",
       "<style scoped>\n",
       "    .dataframe tbody tr th:only-of-type {\n",
       "        vertical-align: middle;\n",
       "    }\n",
       "\n",
       "    .dataframe tbody tr th {\n",
       "        vertical-align: top;\n",
       "    }\n",
       "\n",
       "    .dataframe thead th {\n",
       "        text-align: right;\n",
       "    }\n",
       "</style>\n",
       "<table border=\"1\" class=\"dataframe\">\n",
       "  <thead>\n",
       "    <tr style=\"text-align: right;\">\n",
       "      <th></th>\n",
       "      <th>year</th>\n",
       "      <th>name</th>\n",
       "      <th>gender</th>\n",
       "      <th>count</th>\n",
       "    </tr>\n",
       "  </thead>\n",
       "  <tbody>\n",
       "    <tr>\n",
       "      <th>0</th>\n",
       "      <td>1880</td>\n",
       "      <td>Mary</td>\n",
       "      <td>F</td>\n",
       "      <td>7065</td>\n",
       "    </tr>\n",
       "    <tr>\n",
       "      <th>1</th>\n",
       "      <td>1880</td>\n",
       "      <td>Anna</td>\n",
       "      <td>F</td>\n",
       "      <td>2604</td>\n",
       "    </tr>\n",
       "    <tr>\n",
       "      <th>2</th>\n",
       "      <td>1880</td>\n",
       "      <td>Emma</td>\n",
       "      <td>F</td>\n",
       "      <td>2003</td>\n",
       "    </tr>\n",
       "    <tr>\n",
       "      <th>3</th>\n",
       "      <td>1880</td>\n",
       "      <td>Elizabeth</td>\n",
       "      <td>F</td>\n",
       "      <td>1939</td>\n",
       "    </tr>\n",
       "    <tr>\n",
       "      <th>4</th>\n",
       "      <td>1880</td>\n",
       "      <td>Minnie</td>\n",
       "      <td>F</td>\n",
       "      <td>1746</td>\n",
       "    </tr>\n",
       "  </tbody>\n",
       "</table>\n",
       "</div>"
      ],
      "text/plain": [
       "   year       name gender  count\n",
       "0  1880       Mary      F   7065\n",
       "1  1880       Anna      F   2604\n",
       "2  1880       Emma      F   2003\n",
       "3  1880  Elizabeth      F   1939\n",
       "4  1880     Minnie      F   1746"
      ]
     },
     "execution_count": 6,
     "metadata": {},
     "output_type": "execute_result"
    }
   ],
   "source": [
    "baby_names.head()"
   ]
  },
  {
   "cell_type": "code",
   "execution_count": 11,
   "metadata": {},
   "outputs": [
    {
     "data": {
      "text/plain": [
       "179.68562057304734"
      ]
     },
     "execution_count": 11,
     "metadata": {},
     "output_type": "execute_result"
    }
   ],
   "source": [
    "baby_names['count'].mean()"
   ]
  },
  {
   "cell_type": "markdown",
   "metadata": {},
   "source": [
    "# Question 39:  (SQL)\n",
    "\n",
    "**Given the table below, called 'orders', write a SQL query to show the monthly revenue growth. To calculate the monthly revenue growth, you can apply the following logic:**\n",
    "\n",
    "**_revenue growth = (current month's revenue-prior month's revenue)/prior month's revenue._**\n",
    "\n",
    "|order_id|channel|date|month|revenue|\n",
    "|---|---|---|---|---|\n",
    "|1|online|2018-09-01|09|100|\n",
    "|2|online|2018-09-03|09|125|\n",
    "|3|in_store|2018-10-11|10|200|\n",
    "|4|in_store|2018-08-21|08|80|\n",
    "|5|online|2018-08-13|08|200|\n"
   ]
  },
  {
   "cell_type": "markdown",
   "metadata": {},
   "source": [
    "# Question 40:  (Python)\n",
    "\n",
    "**Given the following [dataset](https://raw.githubusercontent.com/erood/interviewqs.com_code_snippets/master/Datasets/teleco_user_data.csv), calculate the average lifetime value of a customer.**\n",
    "\n",
    "**Below are a couple of definitions to help solve the problem:**\n",
    "\n",
    "- Lifetime value is average revenue divided by the churn rate\n",
    "- Churn rate is defined as the total number of churned customers / total number of customers\n",
    "\n",
    "**Additionally, here is code to import the relevant packages as well as the dataset shown above, to help get you started:**"
   ]
  },
  {
   "cell_type": "code",
   "execution_count": 1,
   "metadata": {},
   "outputs": [],
   "source": [
    "#Importing packages\n",
    "import pandas as pd\n",
    "import numpy as np\n",
    "\n",
    "#Read in the dataset\n",
    "data = pd.read_csv(\"https://raw.githubusercontent.com/erood/interviewqs.com_code_snippets/master/Datasets/teleco_user_data.csv\") \n",
    "#Convert these column types to int\n",
    "data['TotalCharges'] = pd.to_numeric(data.TotalCharges, downcast='integer', errors='coerce')\n",
    "data['MonthlyCharges'] = pd.to_numeric(data.MonthlyCharges, downcast='integer', errors='coerce')"
   ]
  },
  {
   "cell_type": "markdown",
   "metadata": {},
   "source": [
    "# Question 41: (Python, Stats)\n",
    "\n",
    "**We'll cover a series of questions over the coming weeks around the following [study](https://www.ajpmonline.org/article/S0749-3797(07)00526-0/fulltext#tables) exploring the relationship between TV consumption and hypertension. Everything you'll need to know about the study is included below, and will be included in future questions.**\n",
    "\n",
    "**Background:**\n",
    "\n",
    "**Television viewing is strongly associated with an increased risk of childhood and adolescent obesity. However, the association between TV viewing and hypertension in children is unknown. This study aimed to identify whether TV watching is associated with hypertension in obese children.**\n",
    "\n",
    "**Methods:**\n",
    "\n",
    "**Children seen for obesity, aged 4 to 17 years, were evaluated at three pediatric centers from 2003 to 2005. In 2006–2007, a logistic regression model estimated the odds of hypertension for hours of daily TV time controlling for race, site, and body mass index (BMI) z-score.**\n",
    "\n",
    "**Results:**\n",
    "\n",
    "**A total of 546 subjects, with a metn age of 12 years, were evaluated. The children had a mean BMI of 35.5±9.3 kg/m2 (98.7th±0.8 percentile, z-score 2.54±0.4). TV time was positively correlated with the severity of obesity. After controlling for race, site, and BMI z-score, both the severity of obesity and daily TV time were significant independent predictors of the presence of hypertension. Children watching 2 to 4 hours of TV had 2.5 times the odds of hypertension compared with children watching 0 to 2 hours. The odds of hypertension for children watching 4 or more hours of TV were 3.3 times greater than for children watching 0 to 2 hours of TV.**\n",
    "\n",
    "Data Table: \n",
    "\n",
    "|Characteristic| All subjects (N=546)| Subjects without hypertension (n=311)| Subjects with hypertension (n=235)|\n",
    "|---|---|---|---|\n",
    "|Age, mean, (SD), years| 11.9 (3.4)| 11.7 (3.5)| 12.3(3.3)|\n",
    "|Gender, N(%)|\n",
    "|Male|275(50.4)|160(51.4)| 115(48.9)|\n",
    "|Female| 271(49.6)| 151(48.6)| 120(51.1)|\n",
    "|Race/Ethnicity, N(%)|\n",
    "|African American| 127(23.3)|64(20.6)|63(26.8)|\n",
    "|Asian?Pacific Islander| 20(3.7)|12(3.9)|8(3.4)|\n",
    "|Hispanic| 37(6.8)|23(7.4)|14{6.0)|\n",
    "|Multiracial| 21(3.8)|15(4.8)|6(2.6)|\n",
    "|White|287(52.6)|159(51.1)|128(54.5)|\n",
    "|Other|54(9.9)|38(12.2)|16(6.8)|\n",
    "|Blood Pressure (mm Hg)| \n",
    "|Systolic (mean, SD)a| 121.0(16.1)|110.0(10.4)|134.7(11.2)|\n",
    "|Diastolic(mean, SD)a|65.3(9.3)| 61.9(8.4)|69.8(8.9)|\n",
    "|BMI (kg/m2)|\n",
    "|Mean (SD)a| 35.5(9.3)|33.9(8.5)|37.6(9.8)|\n",
    "|Percentile, mean(SD)a|98.7(.8)|98.6(.9)|98.9(.5)|\n",
    "|Z-score, mean(SD)a| 2.54(.4)|2.49(.5)|2.59(.4)|\n",
    "|Hours of TV/day, Mean(SD)a| 3.1(1.8)| 2.8(1.7)| 3.6(1.8)|\n",
    "|TV time categories, N(%)|\n",
    "|0 to <2 hours / day| 121(22.2)| 94(30.2)|27(11.5)|\n",
    "|2 to <4 hours/day| 202(37.0)| 115(37.0)| 87(37.0)|\n",
    "|>- 4 hours /day|223(40.8)|102{32.8)|121(51.5)|\n",
    "\n",
    "**Question: Refer to the data table shown above, and develop a hypothesis test to compare mean hours per day spent watching TV between subjects with and without hypertension (you're testing to see if there's a significant difference in the means). Walk through what test you chose and why, run your test (feel free to use tech here, doing it by hand is not needed), and share your conclusion.**\n",
    "\n"
   ]
  },
  {
   "cell_type": "markdown",
   "metadata": {},
   "source": [
    "# Question 42: (Python, Regression)\n",
    "\n",
    "**We're given the following [dataset](https://raw.githubusercontent.com/erood/interviewqs.com_code_snippets/master/Datasets/nyc_east_river_bicycle_counts.csv), from [New York City Open Data](https://data.cityofnewyork.us/Transportation/Bicycle-Counts-for-East-River-Bridges/gua4-p9wg). The dataset shows the counts of bicycle crossings for each bridge along the East River for the month of April, along with weather and precipitation data, cut by day. This data is used by the New York City Department of Transportation for planning purposes, among other things.**\n",
    "\n",
    "**Using this data, create a model to determine whether or not you can predict bicycle traffic for the given bridges, based on the variables provided (day of week, temperature, precipitation, etc).**\n",
    "\n",
    "**Below is code to import the dataset into a Google Colab or Jupyter notebook to help get you started:**"
   ]
  },
  {
   "cell_type": "code",
   "execution_count": 3,
   "metadata": {},
   "outputs": [
    {
     "data": {
      "text/html": [
       "<div>\n",
       "<style scoped>\n",
       "    .dataframe tbody tr th:only-of-type {\n",
       "        vertical-align: middle;\n",
       "    }\n",
       "\n",
       "    .dataframe tbody tr th {\n",
       "        vertical-align: top;\n",
       "    }\n",
       "\n",
       "    .dataframe thead th {\n",
       "        text-align: right;\n",
       "    }\n",
       "</style>\n",
       "<table border=\"1\" class=\"dataframe\">\n",
       "  <thead>\n",
       "    <tr style=\"text-align: right;\">\n",
       "      <th></th>\n",
       "      <th>Unnamed: 0</th>\n",
       "      <th>Date</th>\n",
       "      <th>Day</th>\n",
       "      <th>High Temp (°F)</th>\n",
       "      <th>Low Temp (°F)</th>\n",
       "      <th>Precipitation</th>\n",
       "      <th>Brooklyn Bridge</th>\n",
       "      <th>Manhattan Bridge</th>\n",
       "      <th>Williamsburg Bridge</th>\n",
       "      <th>Queensboro Bridge</th>\n",
       "      <th>Total</th>\n",
       "    </tr>\n",
       "  </thead>\n",
       "  <tbody>\n",
       "    <tr>\n",
       "      <th>0</th>\n",
       "      <td>0</td>\n",
       "      <td>2016-04-01 00:00:00</td>\n",
       "      <td>2016-04-01 00:00:00</td>\n",
       "      <td>78.1</td>\n",
       "      <td>66.0</td>\n",
       "      <td>0.01</td>\n",
       "      <td>1704.0</td>\n",
       "      <td>3126</td>\n",
       "      <td>4115.0</td>\n",
       "      <td>2552.0</td>\n",
       "      <td>11497</td>\n",
       "    </tr>\n",
       "    <tr>\n",
       "      <th>1</th>\n",
       "      <td>1</td>\n",
       "      <td>2016-04-02 00:00:00</td>\n",
       "      <td>2016-04-02 00:00:00</td>\n",
       "      <td>55.0</td>\n",
       "      <td>48.9</td>\n",
       "      <td>0.15</td>\n",
       "      <td>827.0</td>\n",
       "      <td>1646</td>\n",
       "      <td>2565.0</td>\n",
       "      <td>1884.0</td>\n",
       "      <td>6922</td>\n",
       "    </tr>\n",
       "    <tr>\n",
       "      <th>2</th>\n",
       "      <td>2</td>\n",
       "      <td>2016-04-03 00:00:00</td>\n",
       "      <td>2016-04-03 00:00:00</td>\n",
       "      <td>39.9</td>\n",
       "      <td>34.0</td>\n",
       "      <td>0.09</td>\n",
       "      <td>526.0</td>\n",
       "      <td>1232</td>\n",
       "      <td>1695.0</td>\n",
       "      <td>1306.0</td>\n",
       "      <td>4759</td>\n",
       "    </tr>\n",
       "    <tr>\n",
       "      <th>3</th>\n",
       "      <td>3</td>\n",
       "      <td>2016-04-04 00:00:00</td>\n",
       "      <td>2016-04-04 00:00:00</td>\n",
       "      <td>44.1</td>\n",
       "      <td>33.1</td>\n",
       "      <td>0.47</td>\n",
       "      <td>521.0</td>\n",
       "      <td>1067</td>\n",
       "      <td>1440.0</td>\n",
       "      <td>1307.0</td>\n",
       "      <td>4335</td>\n",
       "    </tr>\n",
       "    <tr>\n",
       "      <th>4</th>\n",
       "      <td>4</td>\n",
       "      <td>2016-04-05 00:00:00</td>\n",
       "      <td>2016-04-05 00:00:00</td>\n",
       "      <td>42.1</td>\n",
       "      <td>26.1</td>\n",
       "      <td>0</td>\n",
       "      <td>1416.0</td>\n",
       "      <td>2617</td>\n",
       "      <td>3081.0</td>\n",
       "      <td>2357.0</td>\n",
       "      <td>9471</td>\n",
       "    </tr>\n",
       "  </tbody>\n",
       "</table>\n",
       "</div>"
      ],
      "text/plain": [
       "   Unnamed: 0                 Date                  Day  High Temp (°F)  \\\n",
       "0           0  2016-04-01 00:00:00  2016-04-01 00:00:00            78.1   \n",
       "1           1  2016-04-02 00:00:00  2016-04-02 00:00:00            55.0   \n",
       "2           2  2016-04-03 00:00:00  2016-04-03 00:00:00            39.9   \n",
       "3           3  2016-04-04 00:00:00  2016-04-04 00:00:00            44.1   \n",
       "4           4  2016-04-05 00:00:00  2016-04-05 00:00:00            42.1   \n",
       "\n",
       "   Low Temp (°F) Precipitation  Brooklyn Bridge  Manhattan Bridge  \\\n",
       "0           66.0          0.01           1704.0              3126   \n",
       "1           48.9          0.15            827.0              1646   \n",
       "2           34.0          0.09            526.0              1232   \n",
       "3           33.1          0.47            521.0              1067   \n",
       "4           26.1             0           1416.0              2617   \n",
       "\n",
       "   Williamsburg Bridge  Queensboro Bridge  Total  \n",
       "0               4115.0             2552.0  11497  \n",
       "1               2565.0             1884.0   6922  \n",
       "2               1695.0             1306.0   4759  \n",
       "3               1440.0             1307.0   4335  \n",
       "4               3081.0             2357.0   9471  "
      ]
     },
     "execution_count": 3,
     "metadata": {},
     "output_type": "execute_result"
    }
   ],
   "source": [
    "# Here is code to pull the dataset and relevant libraries \n",
    "# into a Google Colab or Jupyter notebook to help get you started\n",
    "import matplotlib.pyplot as plt\n",
    "import numpy as np\n",
    "import pandas as pd\n",
    "import seaborn as sns\n",
    "from sklearn.linear_model import LinearRegression\n",
    "\n",
    "\n",
    "df = pd.read_csv('https://raw.githubusercontent.com/erood/interviewqs.com_code_snippets/master/Datasets/nyc_east_river_bicycle_counts.csv')\n",
    "df.head()"
   ]
  },
  {
   "cell_type": "markdown",
   "metadata": {},
   "source": [
    "# Question 43: (SQL)\n",
    "\n",
    "**Suppose you work for a conglomerate that is constantly acquiring new companies. You're working with the human resource team to understand how many new emplooyees you're taking on. Each of the companies you are acquiring has the following organization structure:**\n",
    "\n",
    "\n",
    "<img src=\"https://ci6.googleusercontent.com/proxy/213CoF0yNnNQ8lhLU0nYjmZA5Sxj5ScszkMgJ-O4wD2DAfQ3sCvYXZIJC477f98m3VV2TFzH2chzMg=s0-d-e1-ft#https://www.interviewqs.com/q157_p1.png\" width=\"200\" height=\"200\" />\n",
    "\n",
    "\n",
    "**You can assume that you have all this information in the following table:**\n",
    "\n",
    "Table: allCompanyEmployees\n",
    "\n",
    "|chief_executive_officer|vice_president| director|manager|individual_contributor|company_code|\n",
    "|---|---|---|---|---|---|\n",
    "|Johnny|Tammy|Lenny|Penny|Jim|abc|\n",
    "|Johnny|Tammy|Lenny|Penny|Tim|abc|\n",
    "|Johnny|Tammy|Lenny|Penny|Pam|abc|\n",
    "|Michael|Pam|Jerry|Jimmy|Timmy|def|\n",
    "\n",
    "**You can also assume that each individual's name is unique in the table for simplicity (similar to an employee ID or user name). Given the table, can you write a SQL query to print the compnay_code, CEO name (or ID), total number of vice presidents, total number of directors, total number of managers, and total number of individual contributors?**\n"
   ]
  },
  {
   "cell_type": "markdown",
   "metadata": {},
   "source": [
    "# Question 44: (Python)\n",
    "\n",
    "**Suppose we are given an array of n integers which represent the value of some stock over time. Assuming you are allowed to buy the stock exactly once and sell the stock once, what is the maximum profit you can make? Can you write an algorithm that takes in an array of values and returns the maximum profit?**\n",
    "\n",
    "**For example, if you are fiven the following array:**\n",
    "\n",
    "[2, 7, 1, 8, 2, 8, 14, 25, 14, 0, 4, 5]\n",
    "\n",
    "**The maxumum profit you cn make is 24 because you would buy the stock when its price is 1 and sell when it's 25. Note that we cannot make 25,because the stock is priced at 0 after it is priced at 25 (e.g you can't sell before you buy).**"
   ]
  },
  {
   "cell_type": "markdown",
   "metadata": {},
   "source": [
    "# Question 45: (Statistics)\n",
    "\n",
    "**Suppose you're consulting for a school district, and the head of the school district thinks the students have above average intelligence. A random sample of thirty students have a mean IQ score of 112. Is there suficient evidence to support the head's claim?**\n",
    "\n",
    "**You can assume the mean IQ score acros the population of all students (e.g. including the students outside the head's school district) is 100, with a standard deviation of 15.**"
   ]
  },
  {
   "cell_type": "markdown",
   "metadata": {},
   "source": [
    "# Question 46: (Python)\n",
    "\n",
    "**Suppose you're given a portfolio of equities and asked to calculate the 'value at risk' (VaR) via the variance-covariance method.**\n",
    "\n",
    "**The VaR is a statistical risk management technique measuring technique measuring the maximum loss that an investment portfolio is likely to face within a specified time frame with a certain degree of confidence.  The VaR is a commonly calculated metric used within a suite of financial metrics and models to help aid in investment decisions.**\n",
    "\n",
    "**In order to calculate the VaR of your portfolio, you can follow the steps below:** \n",
    "\n",
    "- Calculate periodic returns of the stocks in your portfolio\n",
    "- Create a covariance matrix based on (1)\n",
    "- Calculate the portfolio mean and standard deviation (weighted based on investment levels of each stock in the portfolio)\n",
    "- Calculate the inverse of the normal cumulative distribution with a specified probability, standard deviation, and mean\n",
    "- Estimate the value at risk for the portfolio by subtracting the initial investment from the calculation in step 4\n",
    "\n",
    "**To help you get started, you can reference this [Google Colab](https://colab.research.google.com/drive/1dPrUZocrhG1dWyZP33jGaXiKg1oFSdpi) notebook with the historical returns for a portfolio of the following equities:**\n",
    "\n",
    "['AAPL', 'FB', 'C', 'DIS']"
   ]
  },
  {
   "cell_type": "markdown",
   "metadata": {},
   "source": [
    "# Question 47: (SQL)\n",
    "\n",
    "**Given the following [dataset](https://docs.google.com/spreadsheets/d/1YxZzzOsVasqj-AvPp2g6Fr3RKQyIQDXUDyYvEfZjtgo/edit#gid=0), can you write a SQL query that returns the top 3 performing ad groups each day?**\n",
    "\n",
    "**Here we'll define performance as the ratio between revenue and spend (e.g revenue/ spend). Inn other words, the higher the ratio the better the performance. The output of the query will be the date and an array of the ad groups.**"
   ]
  },
  {
   "cell_type": "code",
   "execution_count": 1,
   "metadata": {},
   "outputs": [
    {
     "name": "stderr",
     "output_type": "stream",
     "text": [
      "UsageError: Line magic function `%SQL` not found.\n"
     ]
    }
   ],
   "source": [
    "%SQL"
   ]
  },
  {
   "cell_type": "markdown",
   "metadata": {},
   "source": [
    "# Question 48: (Python)\n",
    "\n",
    "**Given an array of distinct integers, write code to find length of the longest subarray which ocntains numbers that can be arranged in a continuous sequence.**\n",
    "\n",
    "**For example:**\n",
    "\n",
    "Input: arr[] = {10, 12, 11};\n",
    "\n",
    "Output: 3\n",
    "\n",
    "--------------------------------\n",
    "Input: arr[] = {14, 12, 11, 20};\n",
    "\n",
    "Output: 2\n",
    "\n",
    "--------------------------------\n",
    "\n",
    "Input: arr[] = {1, 10, 23, 11, 13, 14, 15, 12, 98};\n",
    "\n",
    "Output: 5\n"
   ]
  },
  {
   "cell_type": "markdown",
   "metadata": {},
   "source": [
    "# Question 49: (Statistics)\n",
    "\n",
    "**Suppose you have two differenct bags of M&Ms, one is a special Christmas edition while the other is a standard bag of M&Ms. The Christmas edition contains only red, green and white M&Ms while the standard bag contains the full color offering. The distribuions of drawing a given color are below:**\n",
    "\n",
    "Christmas bag of M&Ms\n",
    "\n",
    "- Green: 30%\n",
    "- Red: 40%\n",
    "- White: 30%\n",
    "\n",
    "Standard bag of M&Ms\n",
    "\n",
    "- Green: 20%\n",
    "- Orange: 19%\n",
    "- Blue: 19%\n",
    "- Red: 15%\n",
    "- Yellow: 14%\n",
    "- Brown: 13%\n",
    "\n",
    "**You are given an M&M from each bag, but you do not know which M&M came from which bag. One M&M is red and one is Green. What is the probability that the Red M&M came from the Standard bag?**"
   ]
  },
  {
   "cell_type": "markdown",
   "metadata": {},
   "source": [
    "# Question 50: (Python)\n",
    "\n",
    "**The following [dataset contains the following fields that describe the online transaction:**\n",
    "\n",
    "- user_id: unique id of user\n",
    "- signup_time: time that the user created account\n",
    "- purchase_time: time of the transaction\n",
    "- purchase_value: amount of the transaction\n",
    "- device_id: device that user conducted transaction on\n",
    "- source: attribution channel for the transaction\n",
    "- browser: browser that user conducted transaction on\n",
    "- sex: gender of the user\n",
    "- age: age of the user\n",
    "- ip_address: IP address of the purchase\n",
    "- is_fraud: if the transaction is flagged as fraudulent\n",
    "\n",
    "**Can you describe the major differences between the non-fraud vs fraud transactions?**\n",
    "\n",
    "**More specifically, can you create histograms for purchase value, time between sign up and purchase time, and age -- with fraud/non-fraud differentiated on the same chart?**\n"
   ]
  },
  {
   "cell_type": "code",
   "execution_count": null,
   "metadata": {},
   "outputs": [],
   "source": []
  }
 ],
 "metadata": {
  "kernelspec": {
   "display_name": "Python 3",
   "language": "python",
   "name": "python3"
  },
  "language_info": {
   "codemirror_mode": {
    "name": "ipython",
    "version": 3
   },
   "file_extension": ".py",
   "mimetype": "text/x-python",
   "name": "python",
   "nbconvert_exporter": "python",
   "pygments_lexer": "ipython3",
   "version": "3.7.3"
  }
 },
 "nbformat": 4,
 "nbformat_minor": 2
}
